{
 "cells": [
  {
   "cell_type": "markdown",
   "id": "0e8978c2-719b-41a7-a2af-e68cb3a1e83d",
   "metadata": {},
   "source": [
    "# Functions\n",
    "\n",
    "## Introduction to Functions\n",
    "\n",
    "This lecture will consist of explaining what a function is in Python and how to create one. Functions will be one of our main building blocks when we construct larger and larger amounts of code to solve problems.\n",
    "\n",
    "**So what is a function?**\n",
    "\n",
    "Formally, a function is a useful device that groups together a set of statements so they can be run more than once. They can also let us specify parameters that can serve as inputs to the functions.\n",
    "\n",
    "On a more fundamental level, functions allow us to not have to repeatedly write the same code again and again. If you remember back to the lessons on strings and lists, remember that we used a function len() to get the length of a string. Since checking the length of a sequence is a common task you would want to write a function that can do this repeatedly at command.\n",
    "\n",
    "Functions will be one of most basic levels of reusing code in Python, and it will also allow us to start thinking of program design (we will dive much deeper into the ideas of design when we learn about Object Oriented Programming).\n",
    "\n",
    "\n",
    "## Table of Contents\n",
    "1. `def` statment\n",
    "2. Using `return` \n",
    "3. Function parameters\n",
    "4. Unpacking function"
   ]
  },
  {
   "cell_type": "code",
   "execution_count": 1,
   "id": "14edf55c-8e0a-4dc8-b926-134512faf990",
   "metadata": {},
   "outputs": [],
   "source": [
    "def say_hello():\n",
    "    print('Hello')"
   ]
  },
  {
   "cell_type": "code",
   "execution_count": 2,
   "id": "b80ed22e-6cc0-4a6c-a7d8-e2baf54c8bbe",
   "metadata": {},
   "outputs": [
    {
     "name": "stdout",
     "output_type": "stream",
     "text": [
      "Hello\n"
     ]
    }
   ],
   "source": [
    "say_hello()"
   ]
  },
  {
   "cell_type": "code",
   "execution_count": 3,
   "id": "1cd86d30-75e7-4772-b266-e9541f6cde3c",
   "metadata": {},
   "outputs": [],
   "source": [
    "def greeting(name):\n",
    "    print(f'Hello {name}')"
   ]
  },
  {
   "cell_type": "code",
   "execution_count": 4,
   "id": "ef6da7a2-b8e7-49d7-8ff8-2c7d8e7af377",
   "metadata": {},
   "outputs": [
    {
     "ename": "TypeError",
     "evalue": "greeting() missing 1 required positional argument: 'name'",
     "output_type": "error",
     "traceback": [
      "\u001b[1;31m---------------------------------------------------------------------------\u001b[0m",
      "\u001b[1;31mTypeError\u001b[0m                                 Traceback (most recent call last)",
      "Cell \u001b[1;32mIn[4], line 1\u001b[0m\n\u001b[1;32m----> 1\u001b[0m \u001b[43mgreeting\u001b[49m\u001b[43m(\u001b[49m\u001b[43m)\u001b[49m\n",
      "\u001b[1;31mTypeError\u001b[0m: greeting() missing 1 required positional argument: 'name'"
     ]
    }
   ],
   "source": [
    "greeting()"
   ]
  },
  {
   "cell_type": "code",
   "execution_count": 5,
   "id": "69af9cca-9ac2-43f5-89a8-b3a9a1e0c202",
   "metadata": {},
   "outputs": [
    {
     "name": "stdout",
     "output_type": "stream",
     "text": [
      "Hello Osama\n"
     ]
    }
   ],
   "source": [
    "greeting(\"Osama\")"
   ]
  },
  {
   "cell_type": "code",
   "execution_count": 7,
   "id": "853a4d0b-9a99-4545-bc75-bfad4d46c6f7",
   "metadata": {},
   "outputs": [],
   "source": [
    "def info(fname,mname,lname,age,gender):\n",
    "    print(f'hello Mr {fname}')\n",
    "    print(f\"your full name is {fname} {mname} {lname}\")\n",
    "    print(f\"you are {age} years old\")"
   ]
  },
  {
   "cell_type": "code",
   "execution_count": 9,
   "id": "2969cd9c-53ca-4540-bf7e-438d786bf05f",
   "metadata": {},
   "outputs": [
    {
     "name": "stdin",
     "output_type": "stream",
     "text": [
      "Please fill your first name Osama\n",
      "Please fill your midle name Ragab\n",
      "Please fill your last name Awis\n",
      "Please fill your age 21\n",
      "Please fill your gender Male\n"
     ]
    },
    {
     "name": "stdout",
     "output_type": "stream",
     "text": [
      "hello Mr Osama\n",
      "your full name is Osama Ragab Awis\n",
      "you are 21 years old\n"
     ]
    }
   ],
   "source": [
    "fname= input('Please fill your first name')\n",
    "mname= input('Please fill your midle name')\n",
    "lname= input('Please fill your last name')\n",
    "age = int(input('Please fill your age'))\n",
    "gender = input('Please fill your gender')\n",
    "info(fname,mname,lname,age,gender)"
   ]
  },
  {
   "cell_type": "code",
   "execution_count": null,
   "id": "89c8c742-7c6e-4fb5-aa00-fb3bdcf2a6c9",
   "metadata": {},
   "outputs": [],
   "source": [
    "Osama Ragab Awis"
   ]
  },
  {
   "cell_type": "code",
   "execution_count": 10,
   "id": "8df313ea-8ff3-4e4b-bf16-18e2029bb8ce",
   "metadata": {},
   "outputs": [
    {
     "name": "stdin",
     "output_type": "stream",
     "text": [
      "Please fill your first name Malak\n",
      "Please fill your midle name Mahmoud\n",
      "Please fill your last name Turky\n",
      "Please fill your age 19\n",
      "Please fill your gender Female\n"
     ]
    },
    {
     "name": "stdout",
     "output_type": "stream",
     "text": [
      "hello Mr Malak\n",
      "your full name is Malak Mahmoud Turky\n",
      "you are 19 years old\n"
     ]
    }
   ],
   "source": [
    "fname= input('Please fill your first name')\n",
    "mname= input('Please fill your midle name')\n",
    "lname= input('Please fill your last name')\n",
    "age = int(input('Please fill your age'))\n",
    "gender = input('Please fill your gender')\n",
    "info(fname,mname,lname,age,gender)"
   ]
  },
  {
   "cell_type": "code",
   "execution_count": 14,
   "id": "a24e14df-3cf5-40b1-bb2f-10774217e05a",
   "metadata": {},
   "outputs": [],
   "source": [
    "def info(fname,mname,lname,age,gender):\n",
    "    if gender.strip().lower() == \"male\":\n",
    "        print(f'hello Mr {fname.capitalize()}')\n",
    "    else:\n",
    "        print(f'hello Mss {fname.capitalize()}')\n",
    "    print(f\"your full name is {fname.capitalize()} {mname.capitalize()} {lname.capitalize()}\")\n",
    "    print(f\"you are {age} years old\")"
   ]
  },
  {
   "cell_type": "code",
   "execution_count": 12,
   "id": "6b79d1f8-c77b-4275-8652-c51a5eb460f0",
   "metadata": {},
   "outputs": [
    {
     "name": "stdin",
     "output_type": "stream",
     "text": [
      "Please fill your first name malak\n",
      "Please fill your midle name mahmoud\n",
      "Please fill your last name turky\n",
      "Please fill your age 19\n",
      "Please fill your gender female\n"
     ]
    },
    {
     "name": "stdout",
     "output_type": "stream",
     "text": [
      "hello Mss malak\n",
      "your full name is malak mahmoud turky\n",
      "you are 19 years old\n"
     ]
    }
   ],
   "source": [
    "fname= input('Please fill your first name')\n",
    "mname= input('Please fill your midle name')\n",
    "lname= input('Please fill your last name')\n",
    "age = int(input('Please fill your age'))\n",
    "gender = input('Please fill your gender')\n",
    "info(fname,mname,lname,age,gender)"
   ]
  },
  {
   "cell_type": "code",
   "execution_count": 15,
   "id": "7acbe466-cc3c-43d4-ab64-59cd2fd6b045",
   "metadata": {},
   "outputs": [
    {
     "name": "stdin",
     "output_type": "stream",
     "text": [
      "Please fill your first name Osama\n",
      "Please fill your midle name Ahmed\n",
      "Please fill your last name mohame\n",
      "Please fill your age 21\n",
      "Please fill your gender Male\n"
     ]
    },
    {
     "name": "stdout",
     "output_type": "stream",
     "text": [
      "hello Mr Osama\n",
      "your full name is Osama Ahmed Mohame\n",
      "you are 21 years old\n"
     ]
    }
   ],
   "source": [
    "fname= input('Please fill your first name')\n",
    "mname= input('Please fill your midle name')\n",
    "lname= input('Please fill your last name')\n",
    "age = int(input('Please fill your age'))\n",
    "gender = input('Please fill your gender')\n",
    "info(fname,mname,lname,age,gender)"
   ]
  },
  {
   "cell_type": "code",
   "execution_count": 18,
   "id": "32fb0049-8c89-43b3-9c30-6e4da755f226",
   "metadata": {},
   "outputs": [],
   "source": [
    "def greeting(p1, p2, p3):\n",
    "    print(f'Hello {p1}')\n",
    "    print(f'Hello {p2}')\n",
    "    print(f'Hello {p3}')"
   ]
  },
  {
   "cell_type": "code",
   "execution_count": 20,
   "id": "63ca393b-6be0-4365-a36a-116bf48ad78e",
   "metadata": {},
   "outputs": [
    {
     "ename": "TypeError",
     "evalue": "greeting() missing 1 required positional argument: 'p3'",
     "output_type": "error",
     "traceback": [
      "\u001b[1;31m---------------------------------------------------------------------------\u001b[0m",
      "\u001b[1;31mTypeError\u001b[0m                                 Traceback (most recent call last)",
      "Cell \u001b[1;32mIn[20], line 1\u001b[0m\n\u001b[1;32m----> 1\u001b[0m \u001b[43mgreeting\u001b[49m\u001b[43m(\u001b[49m\u001b[38;5;124;43m\"\u001b[39;49m\u001b[38;5;124;43mAhmed\u001b[39;49m\u001b[38;5;124;43m\"\u001b[39;49m\u001b[43m,\u001b[49m\u001b[43m \u001b[49m\u001b[38;5;124;43m\"\u001b[39;49m\u001b[38;5;124;43mMohamed\u001b[39;49m\u001b[38;5;124;43m\"\u001b[39;49m\u001b[43m)\u001b[49m\n",
      "\u001b[1;31mTypeError\u001b[0m: greeting() missing 1 required positional argument: 'p3'"
     ]
    }
   ],
   "source": [
    "greeting(\"Ahmed\", \"Mohamed\")"
   ]
  },
  {
   "cell_type": "code",
   "execution_count": 21,
   "id": "a26a4077-4153-43e8-8e7b-a2c68f292a6c",
   "metadata": {},
   "outputs": [],
   "source": [
    "def greeting(p1, p2, p3):\n",
    "    people= [p1, p2, p3]\n",
    "    for p in people:\n",
    "        print(f'Hello {p}')"
   ]
  },
  {
   "cell_type": "code",
   "execution_count": 23,
   "id": "578140c5-72ee-4db3-8d43-39136b741a78",
   "metadata": {},
   "outputs": [
    {
     "ename": "TypeError",
     "evalue": "greeting() missing 1 required positional argument: 'p3'",
     "output_type": "error",
     "traceback": [
      "\u001b[1;31m---------------------------------------------------------------------------\u001b[0m",
      "\u001b[1;31mTypeError\u001b[0m                                 Traceback (most recent call last)",
      "Cell \u001b[1;32mIn[23], line 1\u001b[0m\n\u001b[1;32m----> 1\u001b[0m \u001b[43mgreeting\u001b[49m\u001b[43m(\u001b[49m\u001b[38;5;124;43m'\u001b[39;49m\u001b[38;5;124;43mAhmed\u001b[39;49m\u001b[38;5;124;43m'\u001b[39;49m\u001b[43m,\u001b[49m\u001b[43m \u001b[49m\u001b[38;5;124;43m\"\u001b[39;49m\u001b[38;5;124;43mmohamed\u001b[39;49m\u001b[38;5;124;43m\"\u001b[39;49m\u001b[43m)\u001b[49m\n",
      "\u001b[1;31mTypeError\u001b[0m: greeting() missing 1 required positional argument: 'p3'"
     ]
    }
   ],
   "source": [
    "greeting('Ahmed', \"mohamed\")"
   ]
  },
  {
   "cell_type": "code",
   "execution_count": 24,
   "id": "2a514699-98b0-4681-bf6c-5bfbb7012a6d",
   "metadata": {},
   "outputs": [],
   "source": [
    "def greeting(*people):\n",
    "    for p in people:\n",
    "        print(f'Hello {p}')"
   ]
  },
  {
   "cell_type": "code",
   "execution_count": 25,
   "id": "01b97b2d-827c-4c85-9899-d9c44843e403",
   "metadata": {},
   "outputs": [
    {
     "name": "stdout",
     "output_type": "stream",
     "text": [
      "Hello Ahmed\n"
     ]
    }
   ],
   "source": [
    "greeting('Ahmed')"
   ]
  },
  {
   "cell_type": "code",
   "execution_count": 26,
   "id": "d18855b4-5e93-4b1d-b940-9604ad2959b0",
   "metadata": {},
   "outputs": [
    {
     "name": "stdout",
     "output_type": "stream",
     "text": [
      "Hello Ahmed\n",
      "Hello Mohamed\n"
     ]
    }
   ],
   "source": [
    "greeting(\"Ahmed\", 'Mohamed')"
   ]
  },
  {
   "cell_type": "code",
   "execution_count": 27,
   "id": "583be163-af78-4d97-b55c-7a3ac1fba14d",
   "metadata": {},
   "outputs": [
    {
     "name": "stdout",
     "output_type": "stream",
     "text": [
      "Hello Ahmed\n",
      "Hello Mohamed\n",
      "Hello Ossama\n"
     ]
    }
   ],
   "source": [
    "greeting(\"Ahmed\", 'Mohamed', 'Ossama')"
   ]
  },
  {
   "cell_type": "code",
   "execution_count": 30,
   "id": "858897dc-35e4-4074-8606-7dbdb63e927a",
   "metadata": {},
   "outputs": [],
   "source": [
    "def show_skills(name, *skills):\n",
    "    print(f'Hello {name}')\n",
    "    for skill in skills:\n",
    "        print(f'your skill is {skill}')\n"
   ]
  },
  {
   "cell_type": "code",
   "execution_count": 31,
   "id": "0c86d886-ae40-45dd-873c-875e7114f8d8",
   "metadata": {},
   "outputs": [
    {
     "name": "stdout",
     "output_type": "stream",
     "text": [
      "Hello Ossama\n",
      "your skill is HTML\n",
      "your skill is CSS\n",
      "your skill is Python\n"
     ]
    }
   ],
   "source": [
    "show_skills(\"Ossama\", \"HTML\",\"CSS\",\"Python\")"
   ]
  },
  {
   "cell_type": "code",
   "execution_count": 40,
   "id": "424eaaad-d5a4-481c-9409-5dbad1f143a6",
   "metadata": {},
   "outputs": [],
   "source": [
    "skill1= {'HTML': 100, \"CSS\": 80, \"Python\": 20}"
   ]
  },
  {
   "cell_type": "code",
   "execution_count": 55,
   "id": "ff6f545e-d1ac-430f-b49d-47fa82b40f5b",
   "metadata": {},
   "outputs": [],
   "source": [
    "def show_skills(name, **skills):\n",
    "    print(f'Hello {name}')\n",
    "    for skill,prog in skills.items():\n",
    "        print(f'your progress in {skill} is : {prog} %')"
   ]
  },
  {
   "cell_type": "code",
   "execution_count": 56,
   "id": "6dfd3cf3-e1c5-4a29-9050-b24db40fb79c",
   "metadata": {},
   "outputs": [
    {
     "name": "stdout",
     "output_type": "stream",
     "text": [
      "Hello Ossama\n",
      "your progress in HTML is : 100 %\n",
      "your progress in CSS is : 80 %\n",
      "your progress in Python is : 20 %\n"
     ]
    }
   ],
   "source": [
    "show_skills('Ossama', **skill1 )"
   ]
  },
  {
   "cell_type": "code",
   "execution_count": 57,
   "id": "959a7d84-edc8-44b7-ac5e-b7a18f12ccd9",
   "metadata": {},
   "outputs": [],
   "source": [
    "def show_skills(name, *skills):\n",
    "    print(f'Hello {name}')\n",
    "    for skill in skills:\n",
    "        print(f'your skill is {skill}')"
   ]
  },
  {
   "cell_type": "code",
   "execution_count": 58,
   "id": "8e5e9e68-b4e0-4ba7-9802-db7361e31277",
   "metadata": {},
   "outputs": [],
   "source": [
    "skills_list=[\"HTML\",\"CSS\",\"Python\"]"
   ]
  },
  {
   "cell_type": "code",
   "execution_count": 59,
   "id": "5490811c-02f2-49da-8f8b-5915c5e239b5",
   "metadata": {},
   "outputs": [
    {
     "name": "stdout",
     "output_type": "stream",
     "text": [
      "Hello Ossama\n",
      "your skill is HTML\n",
      "your skill is CSS\n",
      "your skill is Python\n"
     ]
    }
   ],
   "source": [
    "show_skills(\"Ossama\",*[\"HTML\",\"CSS\",\"Python\"])"
   ]
  },
  {
   "cell_type": "markdown",
   "id": "0d05b4a1-c3b3-4f83-b3ba-b8c47d6da8d3",
   "metadata": {},
   "source": [
    "## 1) `map` function\n",
    "\n",
    "The **map** function allows you to \"map\" a function to an iterable object. That is to say you can quickly call the same function to every item in an iterable, such as a list. For example:"
   ]
  },
  {
   "cell_type": "code",
   "execution_count": 65,
   "id": "8bb08ca8-9d88-4f43-b36f-006f7e0b39de",
   "metadata": {},
   "outputs": [],
   "source": [
    "list_1 = [1, 2, 3, 4, 5]\n",
    "list_2 = []"
   ]
  },
  {
   "cell_type": "code",
   "execution_count": 63,
   "id": "0e6e43a0-95ec-4cb8-8b88-0ea6a542d71c",
   "metadata": {},
   "outputs": [
    {
     "data": {
      "text/plain": [
       "[1, 4, 9, 16, 25]"
      ]
     },
     "execution_count": 63,
     "metadata": {},
     "output_type": "execute_result"
    }
   ],
   "source": [
    "for n in list_1:\n",
    "    list_2.append(n ** 2)\n",
    "list_2"
   ]
  },
  {
   "cell_type": "code",
   "execution_count": 66,
   "id": "8015cb61-a7ee-421c-97ac-ee8bcbe1573f",
   "metadata": {},
   "outputs": [],
   "source": [
    "list_2= [n ** 2 for n in list_1]"
   ]
  },
  {
   "cell_type": "code",
   "execution_count": 67,
   "id": "21a77064-5667-42d6-adfd-38feefda64a3",
   "metadata": {},
   "outputs": [
    {
     "data": {
      "text/plain": [
       "[1, 4, 9, 16, 25]"
      ]
     },
     "execution_count": 67,
     "metadata": {},
     "output_type": "execute_result"
    }
   ],
   "source": [
    "list_2"
   ]
  },
  {
   "cell_type": "code",
   "execution_count": 68,
   "id": "75fc704d-cab4-4cbf-9739-18a3df1a6640",
   "metadata": {},
   "outputs": [],
   "source": [
    "def square(num):\n",
    "    return num ** 2"
   ]
  },
  {
   "cell_type": "code",
   "execution_count": 70,
   "id": "cec2f217-13be-4648-b594-d0efd96e7a75",
   "metadata": {},
   "outputs": [
    {
     "data": {
      "text/plain": [
       "<map at 0x25c5dbd5e10>"
      ]
     },
     "execution_count": 70,
     "metadata": {},
     "output_type": "execute_result"
    }
   ],
   "source": [
    "map(square, list_1)"
   ]
  },
  {
   "cell_type": "code",
   "execution_count": 71,
   "id": "ac75ef5b-3925-4c11-a409-8f705c79553e",
   "metadata": {},
   "outputs": [
    {
     "data": {
      "text/plain": [
       "map"
      ]
     },
     "execution_count": 71,
     "metadata": {},
     "output_type": "execute_result"
    }
   ],
   "source": [
    "type(map(square, list_1))"
   ]
  },
  {
   "cell_type": "code",
   "execution_count": 69,
   "id": "84856bcd-28d6-4743-91c7-fdc2b6ca8a8f",
   "metadata": {},
   "outputs": [
    {
     "data": {
      "text/plain": [
       "[1, 4, 9, 16, 25]"
      ]
     },
     "execution_count": 69,
     "metadata": {},
     "output_type": "execute_result"
    }
   ],
   "source": [
    "list(map(square, list_1))"
   ]
  },
  {
   "cell_type": "markdown",
   "id": "0378e492-9614-4ad1-8dd3-cd06015e1696",
   "metadata": {},
   "source": [
    "1- work on elements\n",
    "2- return elements after calc"
   ]
  },
  {
   "cell_type": "markdown",
   "id": "8ba58888-25e5-48e5-9269-b8c510ea3fd4",
   "metadata": {},
   "source": [
    "## 2) `filter` function\n",
    "\n",
    "The filter function returns an iterator yielding those items of iterable for which function(item)\n",
    "is true. Meaning you need to filter by a function that returns either True or False. Then passing that into filter (along with your iterable) and you will get back only the results that would return True when passed to the function."
   ]
  },
  {
   "cell_type": "code",
   "execution_count": 77,
   "id": "cb587954-3ac8-4f26-b79e-f7d72c60c62f",
   "metadata": {},
   "outputs": [
    {
     "data": {
      "text/plain": [
       "[0, 2, 4, 6, 8, 10]"
      ]
     },
     "execution_count": 77,
     "metadata": {},
     "output_type": "execute_result"
    }
   ],
   "source": [
    "nums = [0,1,2,3,4,5,6,7,8,9,10]\n",
    "nums_even = []\n",
    "\n",
    "for n in nums:\n",
    "    if n % 2 == 0:\n",
    "        nums_even.append(n)\n",
    "nums_even"
   ]
  },
  {
   "cell_type": "code",
   "execution_count": 73,
   "id": "bc99bc61-631c-44bb-84cc-3be23dc3ca78",
   "metadata": {},
   "outputs": [
    {
     "data": {
      "text/plain": [
       "[0, 2, 4, 6, 8, 10]"
      ]
     },
     "execution_count": 73,
     "metadata": {},
     "output_type": "execute_result"
    }
   ],
   "source": [
    "nums_even = [i for i in [0,1,2,3,4,5,6,7,8,9,10] if i % 2 == 0]\n",
    "nums_even"
   ]
  },
  {
   "cell_type": "code",
   "execution_count": 75,
   "id": "14651c98-b9ba-49cd-b693-50ee2eefa5cb",
   "metadata": {},
   "outputs": [],
   "source": [
    "def check_even(num):\n",
    "    return num % 2 == 0 "
   ]
  },
  {
   "cell_type": "code",
   "execution_count": 80,
   "id": "dc383574-90f7-482c-9d70-00711fa0d9c0",
   "metadata": {},
   "outputs": [
    {
     "data": {
      "text/plain": [
       "[0, 2, 4, 6, 8, 10]"
      ]
     },
     "execution_count": 80,
     "metadata": {},
     "output_type": "execute_result"
    }
   ],
   "source": [
    "nums_even = []\n",
    "for n in nums:\n",
    "    if check_even(n) == True:\n",
    "        nums_even.append(n)\n",
    "nums_even"
   ]
  },
  {
   "cell_type": "markdown",
   "id": "c73bc8d0-cbc2-4305-8789-08d32e1bb4cd",
   "metadata": {},
   "source": [
    "## 3) `reduce` function\n",
    "\n",
    "The reduce(fun,seq) function is used to apply a particular function passed in its argument to all of the list elements mentioned in the sequence passed along."
   ]
  },
  {
   "cell_type": "code",
   "execution_count": 83,
   "id": "7466511b-8237-4218-a0f8-8a50c7883954",
   "metadata": {},
   "outputs": [
    {
     "data": {
      "text/plain": [
       "[0, 2, 4, 6, 8, 10]"
      ]
     },
     "execution_count": 83,
     "metadata": {},
     "output_type": "execute_result"
    }
   ],
   "source": [
    "list(filter(check_even,nums))"
   ]
  },
  {
   "cell_type": "code",
   "execution_count": 84,
   "id": "01a0bc23-f5a4-4e38-bbd4-a74c68b3ecee",
   "metadata": {},
   "outputs": [],
   "source": [
    "lis = [10, 255, 30, -4, 50]"
   ]
  },
  {
   "cell_type": "code",
   "execution_count": 92,
   "id": "ed7bd2c8-ece9-4ae9-8e20-58ed5225cb6d",
   "metadata": {},
   "outputs": [],
   "source": [
    "n= 1\n",
    "try:\n",
    "    x= 0\n",
    "    for i in lis:\n",
    "        \n",
    "        if x > i:\n",
    "            x= x\n",
    "        else:\n",
    "            x= i\n",
    "    \n",
    "        n +=1\n",
    "except:\n",
    "    print('finish')"
   ]
  },
  {
   "cell_type": "code",
   "execution_count": 93,
   "id": "276118a4-2d08-4fb4-87e8-ca351ac149bf",
   "metadata": {},
   "outputs": [
    {
     "data": {
      "text/plain": [
       "255"
      ]
     },
     "execution_count": 93,
     "metadata": {},
     "output_type": "execute_result"
    }
   ],
   "source": [
    "x"
   ]
  },
  {
   "cell_type": "code",
   "execution_count": 96,
   "id": "bf5d277e-f50e-48d8-89ca-7194212e8b27",
   "metadata": {},
   "outputs": [
    {
     "data": {
      "text/plain": [
       "255"
      ]
     },
     "execution_count": 96,
     "metadata": {},
     "output_type": "execute_result"
    }
   ],
   "source": [
    "def check_bigger(a,b):\n",
    "    return a if a > b else b\n",
    "\n",
    "def check_smaller(a, b):\n",
    "    return b if a > b else a\n",
    "\n",
    "from functools import reduce\n",
    "\n",
    "reduce(check_bigger, lis)"
   ]
  },
  {
   "cell_type": "code",
   "execution_count": 97,
   "id": "316557bd-b33c-4947-b2b0-5ad611c2417e",
   "metadata": {},
   "outputs": [],
   "source": [
    "def calc_sum(a, b):\n",
    "    return a + b"
   ]
  },
  {
   "cell_type": "code",
   "execution_count": 98,
   "id": "28a3f730-6b97-4e61-b710-1ed55e6b8ab9",
   "metadata": {},
   "outputs": [
    {
     "data": {
      "text/plain": [
       "341"
      ]
     },
     "execution_count": 98,
     "metadata": {},
     "output_type": "execute_result"
    }
   ],
   "source": [
    "reduce(calc_sum,lis)"
   ]
  },
  {
   "cell_type": "code",
   "execution_count": 99,
   "id": "41e3e17f-52da-4726-beb4-6a59f3732760",
   "metadata": {},
   "outputs": [
    {
     "data": {
      "text/plain": [
       "255"
      ]
     },
     "execution_count": 99,
     "metadata": {},
     "output_type": "execute_result"
    }
   ],
   "source": [
    "max(lis)"
   ]
  },
  {
   "cell_type": "code",
   "execution_count": 100,
   "id": "41bfcdc4-1692-4ef6-8b2a-cc645c555495",
   "metadata": {},
   "outputs": [
    {
     "data": {
      "text/plain": [
       "341"
      ]
     },
     "execution_count": 100,
     "metadata": {},
     "output_type": "execute_result"
    }
   ],
   "source": [
    "sum(lis)"
   ]
  },
  {
   "cell_type": "markdown",
   "id": "3e2c903b-d5d2-4fcb-bb10-39b85b6de4a6",
   "metadata": {},
   "source": [
    "## 4) lambda expression\n",
    "\n",
    "One of Pythons most useful (and for beginners, confusing) tools is the lambda expression. lambda expressions allow us to create \"anonymous\" functions. This basically means we can quickly make ad-hoc functions without needing to properly define a function using def.\n",
    "\n",
    "Function objects returned by running lambda expressions work exactly the same as those created and assigned by defs. There is key difference that makes lambda useful in specialized roles:\n",
    "\n",
    "**lambda's body is a single expression, not a block of statements.**\n",
    "\n",
    "* The lambda's body is similar to what we would put in a def body's return statement. We simply type the result as an expression instead of explicitly returning it. Because it is limited to an expression, a lambda is less general that a def. We can only squeeze design, to limit program nesting. lambda is designed for coding simple functions, and def handles the larger tasks."
   ]
  },
  {
   "cell_type": "code",
   "execution_count": 101,
   "id": "fdd95926-4269-4a86-83aa-997035e3c22d",
   "metadata": {},
   "outputs": [],
   "source": [
    "def square(num):\n",
    "    result = num ** 2\n",
    "    return result"
   ]
  },
  {
   "cell_type": "code",
   "execution_count": 102,
   "id": "32b9aef0-9ad1-4dab-89f4-d1b98eff2320",
   "metadata": {},
   "outputs": [
    {
     "data": {
      "text/plain": [
       "4"
      ]
     },
     "execution_count": 102,
     "metadata": {},
     "output_type": "execute_result"
    }
   ],
   "source": [
    "square(2)"
   ]
  },
  {
   "cell_type": "code",
   "execution_count": 103,
   "id": "598028bc-050e-4e14-96ab-4da102e19b28",
   "metadata": {},
   "outputs": [
    {
     "data": {
      "text/plain": [
       "81"
      ]
     },
     "execution_count": 103,
     "metadata": {},
     "output_type": "execute_result"
    }
   ],
   "source": [
    "square(9)"
   ]
  },
  {
   "cell_type": "code",
   "execution_count": 104,
   "id": "8815d967-06bc-49a9-a278-38bc7befe454",
   "metadata": {},
   "outputs": [
    {
     "data": {
      "text/plain": [
       "<function __main__.<lambda>(x)>"
      ]
     },
     "execution_count": 104,
     "metadata": {},
     "output_type": "execute_result"
    }
   ],
   "source": [
    "lambda x : x ** 2"
   ]
  },
  {
   "cell_type": "code",
   "execution_count": 106,
   "id": "b7c85805-e1b1-426f-88be-c8ab57d87ed9",
   "metadata": {},
   "outputs": [],
   "source": [
    "num= range(10)"
   ]
  },
  {
   "cell_type": "code",
   "execution_count": 107,
   "id": "ba8d8889-8816-4502-8d8c-cc64adb01afd",
   "metadata": {},
   "outputs": [
    {
     "data": {
      "text/plain": [
       "[0, 1, 4, 9, 16, 25, 36, 49, 64, 81]"
      ]
     },
     "execution_count": 107,
     "metadata": {},
     "output_type": "execute_result"
    }
   ],
   "source": [
    "list(map(square, num))"
   ]
  },
  {
   "cell_type": "code",
   "execution_count": 108,
   "id": "ba86700f-ac73-4df4-a7d3-f0e4f1f3ad16",
   "metadata": {},
   "outputs": [
    {
     "data": {
      "text/plain": [
       "[0, 1, 4, 9, 16, 25, 36, 49, 64, 81]"
      ]
     },
     "execution_count": 108,
     "metadata": {},
     "output_type": "execute_result"
    }
   ],
   "source": [
    "list(map(lambda x : x ** 2, num))"
   ]
  },
  {
   "cell_type": "markdown",
   "id": "6d6d57a4-df0b-4a6e-a608-1ce97dda44bb",
   "metadata": {},
   "source": [
    "## Object-oriented programming (OOP)"
   ]
  },
  {
   "cell_type": "markdown",
   "id": "f547adea-5c28-4004-8053-84e1ffc7fb84",
   "metadata": {},
   "source": [
    "### You’ll learn how to:\n",
    "\n",
    "* Define a class, which is like a blueprint for creating an object\n",
    "* Use classes to create new objects\n",
    "* Model systems with class inheritance"
   ]
  },
  {
   "cell_type": "markdown",
   "id": "6a43309f-164e-4bc7-b05c-f10766393354",
   "metadata": {},
   "source": [
    "### How Do You Define a Class in Python?\n",
    "In Python, you define a class by using the class keyword followed by a name and a colon. Then you use .__init__() to declare which attributes each instance of the class should have:\n",
    "\n"
   ]
  },
  {
   "cell_type": "code",
   "execution_count": 111,
   "id": "a1b4d5e6-0f74-44ed-886b-d7388af32571",
   "metadata": {},
   "outputs": [],
   "source": [
    "class Dog:\n",
    "    pass"
   ]
  },
  {
   "cell_type": "code",
   "execution_count": 123,
   "id": "1c9df37d-2c65-4c4d-b0ab-92173aac17e9",
   "metadata": {},
   "outputs": [],
   "source": [
    "class Dog:\n",
    "    def __init__(self, name=\"Rex\",age=\"1 year\" ):\n",
    "        self.name = name\n",
    "        self.age = age "
   ]
  },
  {
   "cell_type": "code",
   "execution_count": 124,
   "id": "5eac8023-3f4f-44b8-b80c-b62b5ce0fd0f",
   "metadata": {},
   "outputs": [],
   "source": [
    "dog1 = Dog()"
   ]
  },
  {
   "cell_type": "code",
   "execution_count": 125,
   "id": "89ff6a5a-7da9-45e4-9c9c-f0d42a53af1a",
   "metadata": {},
   "outputs": [
    {
     "data": {
      "text/plain": [
       "'Rex'"
      ]
     },
     "execution_count": 125,
     "metadata": {},
     "output_type": "execute_result"
    }
   ],
   "source": [
    "dog1.name"
   ]
  },
  {
   "cell_type": "code",
   "execution_count": 126,
   "id": "df21b11d-762f-4ff6-a6c5-6da4c8292f6a",
   "metadata": {},
   "outputs": [
    {
     "data": {
      "text/plain": [
       "'1 year'"
      ]
     },
     "execution_count": 126,
     "metadata": {},
     "output_type": "execute_result"
    }
   ],
   "source": [
    "dog1.age"
   ]
  },
  {
   "cell_type": "code",
   "execution_count": 127,
   "id": "78790ffd-757d-4100-bbf3-1ce765114865",
   "metadata": {},
   "outputs": [],
   "source": [
    "dog2 = Dog('Haski', '2years')"
   ]
  },
  {
   "cell_type": "code",
   "execution_count": 128,
   "id": "2b4fd716-6286-421f-b952-68fad5c652ee",
   "metadata": {},
   "outputs": [
    {
     "data": {
      "text/plain": [
       "'1 year'"
      ]
     },
     "execution_count": 128,
     "metadata": {},
     "output_type": "execute_result"
    }
   ],
   "source": [
    "dog1.age"
   ]
  },
  {
   "cell_type": "code",
   "execution_count": 129,
   "id": "ed9a8c89-5f7c-4038-8f0f-27567edd6b0e",
   "metadata": {},
   "outputs": [
    {
     "data": {
      "text/plain": [
       "'2years'"
      ]
     },
     "execution_count": 129,
     "metadata": {},
     "output_type": "execute_result"
    }
   ],
   "source": [
    "dog2.age"
   ]
  },
  {
   "cell_type": "code",
   "execution_count": 147,
   "id": "684122c8-6b13-40a4-8a3a-90b33367d19d",
   "metadata": {},
   "outputs": [],
   "source": [
    "class user:\n",
    "    def __init__(self,f_name,m_name,l_name,gender):\n",
    "        self.fname= f_name\n",
    "        self.mname= m_name\n",
    "        self.lname= l_name\n",
    "        self.gender= gender.strip().lower()\n",
    "\n",
    "    def full_name(self):\n",
    "        return f'{self.fname} {self.mname} {self.lname}'\n",
    "\n",
    "\n",
    "    def greeting(self):\n",
    "        if self.gender== \"male\":\n",
    "            return f\"Hello Mr {self.fname}\"\n",
    "        \n",
    "        elif self.gender == \"female\":\n",
    "            return f\"Hello Miss {self.fname}\"\n",
    "        \n",
    "        else:\n",
    "            return f\"Hello {self.fname}\"\n",
    "\n",
    "    def allinf(self):\n",
    "        return f\"{self.greeting()}\\nYour full name is: {self.full_name()} \\nYour gender is {self.gender}\"\n",
    "    \n",
    "        "
   ]
  },
  {
   "cell_type": "code",
   "execution_count": 148,
   "id": "fbc8ba6b-8d7e-4d8f-8080-b66ad38a49cf",
   "metadata": {},
   "outputs": [
    {
     "name": "stdin",
     "output_type": "stream",
     "text": [
      " ahmed\n",
      " mohame\n",
      " ossama\n",
      " male\n"
     ]
    }
   ],
   "source": [
    "user1= user(input(),input(),input(),input())"
   ]
  },
  {
   "cell_type": "code",
   "execution_count": 149,
   "id": "0a4fcb69-fa85-4d3c-a0bb-824b71359aee",
   "metadata": {},
   "outputs": [
    {
     "data": {
      "text/plain": [
       "'ahmed'"
      ]
     },
     "execution_count": 149,
     "metadata": {},
     "output_type": "execute_result"
    }
   ],
   "source": [
    "user1.fname"
   ]
  },
  {
   "cell_type": "code",
   "execution_count": 150,
   "id": "8a97799f-c495-46ab-a1b7-b8230ad542cf",
   "metadata": {},
   "outputs": [
    {
     "data": {
      "text/plain": [
       "'mohame'"
      ]
     },
     "execution_count": 150,
     "metadata": {},
     "output_type": "execute_result"
    }
   ],
   "source": [
    "user1.mname"
   ]
  },
  {
   "cell_type": "code",
   "execution_count": 151,
   "id": "03475cc0-976e-4f3a-94b5-68ecd3bb5a4e",
   "metadata": {},
   "outputs": [
    {
     "data": {
      "text/plain": [
       "'ossama'"
      ]
     },
     "execution_count": 151,
     "metadata": {},
     "output_type": "execute_result"
    }
   ],
   "source": [
    "user1.lname"
   ]
  },
  {
   "cell_type": "code",
   "execution_count": 152,
   "id": "04f1f36b-5c6d-4c45-82bd-8c3d23015e78",
   "metadata": {},
   "outputs": [
    {
     "data": {
      "text/plain": [
       "'ahmed mohame ossama'"
      ]
     },
     "execution_count": 152,
     "metadata": {},
     "output_type": "execute_result"
    }
   ],
   "source": [
    "user1.full_name()"
   ]
  },
  {
   "cell_type": "code",
   "execution_count": 153,
   "id": "31749b4f-66b8-4ac7-a3a1-ddb8bdfcfac7",
   "metadata": {},
   "outputs": [
    {
     "data": {
      "text/plain": [
       "'Hello Mr ahmed'"
      ]
     },
     "execution_count": 153,
     "metadata": {},
     "output_type": "execute_result"
    }
   ],
   "source": [
    "user1.greeting()"
   ]
  },
  {
   "cell_type": "code",
   "execution_count": 155,
   "id": "30c91987-705f-4c01-af9e-3333821efb06",
   "metadata": {},
   "outputs": [
    {
     "name": "stdout",
     "output_type": "stream",
     "text": [
      "Hello Mr ahmed\n",
      "Your full name is: ahmed mohame ossama \n",
      "Your gender is male\n"
     ]
    }
   ],
   "source": [
    "print(user1.allinf())"
   ]
  },
  {
   "cell_type": "code",
   "execution_count": null,
   "id": "124d33b3-b9c3-4a7a-9d91-701f46299a9c",
   "metadata": {},
   "outputs": [],
   "source": []
  }
 ],
 "metadata": {
  "kernelspec": {
   "display_name": "Python 3 (ipykernel)",
   "language": "python",
   "name": "python3"
  },
  "language_info": {
   "codemirror_mode": {
    "name": "ipython",
    "version": 3
   },
   "file_extension": ".py",
   "mimetype": "text/x-python",
   "name": "python",
   "nbconvert_exporter": "python",
   "pygments_lexer": "ipython3",
   "version": "3.12.5"
  }
 },
 "nbformat": 4,
 "nbformat_minor": 5
}
