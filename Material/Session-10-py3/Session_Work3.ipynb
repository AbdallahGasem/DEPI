{
 "cells": [
  {
   "cell_type": "markdown",
   "id": "e651ab87-7ceb-4d85-9ba9-a0d78fc5261b",
   "metadata": {},
   "source": [
    "# while Loops\n",
    "\n",
    "The <code>while</code> statement in Python is one of most general ways to perform iteration. A <code>while</code> statement will repeatedly execute a single statement or group of statements as long as the condition is true. The reason it is called a 'loop' is because the code statements are looped through over and over again until the condition is no longer met.\n",
    "\n",
    "The general format of a while loop is:\n",
    "\n",
    "    while test:\n",
    "        code statements\n",
    "\n",
    "Let’s look at a few simple <code>while</code> loops in action. "
   ]
  },
  {
   "cell_type": "code",
   "execution_count": 2,
   "id": "10f1fff1-a5ea-466f-8344-2835c9b70316",
   "metadata": {},
   "outputs": [
    {
     "name": "stdout",
     "output_type": "stream",
     "text": [
      "0\n",
      "1\n",
      "2\n"
     ]
    }
   ],
   "source": [
    "x= 0\n",
    "\n",
    "while x < 3:\n",
    "    print(x)\n",
    "    x +=1\n",
    "    "
   ]
  },
  {
   "cell_type": "markdown",
   "id": "8687eb5b-65a1-4e37-a319-915ac0355d31",
   "metadata": {},
   "source": [
    "# break, continue, else\n",
    "\n",
    "We can use <code>break</code>, <code>continue</code>, and <code>else</code> statements in our loops to add additional functionality for various cases. The three statements are defined by:\n",
    "\n",
    "    break: Breaks out of the current closest enclosing loop.\n",
    "    continue: Goes to the top of the closest enclosing loop.\n",
    "    pass: Does nothing at all.\n",
    "    \n",
    "    \n",
    "Thinking about <code>break</code> and <code>continue</code> statements, the general format of the <code>while</code> loop looks like this:\n",
    "\n",
    "    while test: \n",
    "        code statement\n",
    "        if test: \n",
    "            break\n",
    "        if test: \n",
    "            continue \n",
    "    else:\n",
    "\n",
    "<code>break</code> and <code>continue</code> statements can appear anywhere inside the loop’s body, but we will usually put them further nested in conjunction with an <code>if</code> statement to perform an action based on some condition.\n",
    "\n",
    "Let's go ahead and look at some examples!"
   ]
  },
  {
   "cell_type": "code",
   "execution_count": null,
   "id": "d22ae1dd-2f1b-409b-8307-1aad9a590e9d",
   "metadata": {},
   "outputs": [],
   "source": [
    "x = 0\n",
    "\n",
    "while x < 10:\n",
    "    print(x)\n",
    "    if x==3:\n",
    "        print('x==3')\n",
    "    else:\n",
    "        print('continuing...')\n",
    "    x+=1"
   ]
  },
  {
   "cell_type": "code",
   "execution_count": 4,
   "id": "b0e932ed-82e5-4d97-b777-afddcef1c83b",
   "metadata": {},
   "outputs": [
    {
     "name": "stdout",
     "output_type": "stream",
     "text": [
      "1\n",
      "nice\n",
      "2\n",
      "nice\n",
      "3\n",
      "continuing...\n",
      "4\n",
      "nice\n",
      "5\n",
      "nice\n",
      "6\n",
      "nice\n",
      "7\n",
      "Breaking because x == 7\n"
     ]
    }
   ],
   "source": [
    "x = 0\n",
    "\n",
    "while x < 10:\n",
    "    x += 1\n",
    "    print(x)\n",
    "    if x == 7:\n",
    "        print('Breaking because x == 7')\n",
    "        break\n",
    "    elif x == 3:\n",
    "        print('continuing...')\n",
    "        continue\n",
    "    print('nice')"
   ]
  },
  {
   "cell_type": "code",
   "execution_count": 5,
   "id": "5539a2c8-8d36-4278-8c85-5e44e3487408",
   "metadata": {},
   "outputs": [
    {
     "name": "stdout",
     "output_type": "stream",
     "text": [
      "0\n",
      "1\n",
      "2\n",
      "3\n",
      "4\n",
      "5\n",
      "6\n",
      "7\n",
      "8\n"
     ]
    }
   ],
   "source": [
    "for i in range(9):\n",
    "    print(i)"
   ]
  },
  {
   "cell_type": "code",
   "execution_count": 12,
   "id": "fae9da0d-a9b6-4288-85e8-68474331de04",
   "metadata": {},
   "outputs": [],
   "source": [
    "x= 2"
   ]
  },
  {
   "cell_type": "code",
   "execution_count": 13,
   "id": "ce10905c-e249-494e-a3de-fc96fc8f8455",
   "metadata": {},
   "outputs": [
    {
     "data": {
      "text/plain": [
       "True"
      ]
     },
     "execution_count": 13,
     "metadata": {},
     "output_type": "execute_result"
    }
   ],
   "source": [
    "x < 3"
   ]
  },
  {
   "cell_type": "code",
   "execution_count": 16,
   "id": "01509a83-6fb0-4ff1-995c-ff117835e04f",
   "metadata": {},
   "outputs": [
    {
     "name": "stdout",
     "output_type": "stream",
     "text": [
      "1 xx\n",
      "1\n",
      "2 xx\n",
      "3 xx\n",
      "1 xx\n",
      "1\n",
      "1 xx\n",
      "1\n"
     ]
    }
   ],
   "source": [
    "for i in [1,2,3,1,1]:\n",
    "    print(i,\"xx\")\n",
    "    if x > i:\n",
    "        print(i)\n"
   ]
  },
  {
   "cell_type": "markdown",
   "id": "c364dfd4-fe20-497e-945c-b4094716f71c",
   "metadata": {},
   "source": [
    "## 2) enumerate\n",
    "\n",
    "enumerate is a very useful function to use with for loops."
   ]
  },
  {
   "cell_type": "code",
   "execution_count": 20,
   "id": "2d4b2cc8-df43-430b-a2c8-ac8a0f92cb44",
   "metadata": {},
   "outputs": [
    {
     "data": {
      "text/plain": [
       "[(5, 30), (6, 40), (7, 50), (8, 60)]"
      ]
     },
     "execution_count": 20,
     "metadata": {},
     "output_type": "execute_result"
    }
   ],
   "source": [
    "list(enumerate([30,40,50,60],5))"
   ]
  },
  {
   "cell_type": "code",
   "execution_count": 21,
   "id": "37cdb595-7f97-45c9-bb04-6ef2ac18b458",
   "metadata": {},
   "outputs": [
    {
     "data": {
      "text/plain": [
       "[(0, 'A'),\n",
       " (1, 'b'),\n",
       " (2, 'd'),\n",
       " (3, 'A'),\n",
       " (4, 'l'),\n",
       " (5, 'l'),\n",
       " (6, 'a'),\n",
       " (7, 'h')]"
      ]
     },
     "execution_count": 21,
     "metadata": {},
     "output_type": "execute_result"
    }
   ],
   "source": [
    "list(enumerate('AbdAllah'))"
   ]
  },
  {
   "cell_type": "code",
   "execution_count": 22,
   "id": "8dc1e0fe-1ad6-46d0-b2c2-fdf7449c70e4",
   "metadata": {},
   "outputs": [
    {
     "name": "stdout",
     "output_type": "stream",
     "text": [
      "at index0 letter is A\n",
      "at index1 letter is b\n",
      "at index2 letter is d\n",
      "at index3 letter is A\n",
      "at index4 letter is l\n",
      "at index5 letter is l\n",
      "at index6 letter is a\n",
      "at index7 letter is h\n"
     ]
    }
   ],
   "source": [
    "for idx, letter in enumerate('AbdAllah'):\n",
    "    print(f'at index{idx} letter is {letter}')\n"
   ]
  },
  {
   "cell_type": "markdown",
   "id": "df00a397-5fda-4e34-874a-e22c0c5a70ef",
   "metadata": {},
   "source": [
    "## 3) zip\n",
    "\n",
    "You can use the **zip()** function to quickly create a list of tuples by \"zipping\" up together two lists."
   ]
  },
  {
   "cell_type": "code",
   "execution_count": 26,
   "id": "3dd37cd0-af77-4045-a4c5-f49be0b5335f",
   "metadata": {},
   "outputs": [],
   "source": [
    "mylist1 = [\"A\",\"B\",30,40,50,60]\n",
    "mylist2 = [100,200,300,400,500,600]"
   ]
  },
  {
   "cell_type": "code",
   "execution_count": 28,
   "id": "22bc587e-154b-4620-ba3c-502d4a48a746",
   "metadata": {},
   "outputs": [],
   "source": [
    "d= list(zip(mylist1,mylist2))"
   ]
  },
  {
   "cell_type": "code",
   "execution_count": 30,
   "id": "c2f318e5-d662-4001-9d68-7a2fe08e3d2a",
   "metadata": {},
   "outputs": [
    {
     "data": {
      "text/plain": [
       "False"
      ]
     },
     "execution_count": 30,
     "metadata": {},
     "output_type": "execute_result"
    }
   ],
   "source": [
    "5 in [1,2,3]"
   ]
  },
  {
   "cell_type": "code",
   "execution_count": 32,
   "id": "74ffe123-f2f0-4c13-a2fa-3905e1d5f475",
   "metadata": {},
   "outputs": [
    {
     "data": {
      "text/plain": [
       "True"
      ]
     },
     "execution_count": 32,
     "metadata": {},
     "output_type": "execute_result"
    }
   ],
   "source": [
    "i =5\n",
    "i in [1,2,3,5]"
   ]
  },
  {
   "cell_type": "code",
   "execution_count": 36,
   "id": "614f9189-d6af-45a8-9eb8-9116308cbf97",
   "metadata": {},
   "outputs": [
    {
     "data": {
      "text/plain": [
       "True"
      ]
     },
     "execution_count": 36,
     "metadata": {},
     "output_type": "execute_result"
    }
   ],
   "source": [
    "'name' in {'age': 20, 'name': 'eslam'}"
   ]
  },
  {
   "cell_type": "markdown",
   "id": "974500a7-e50e-4b5f-b069-0330b01d7731",
   "metadata": {},
   "source": [
    "# Files\n",
    "\n",
    "Python uses file objects to interact with external files on your computer. These file objects can be any sort of file you have on your computer, whether it be an audio file, a text file, emails, Excel documents, etc. Note: You will probably need to install certain libraries or modules to interact with those various file types, but they are easily available. (We will cover downloading modules later on in the course).\n",
    "\n",
    "Python has a built-in open function that allows us to open and play with basic file types.\n"
   ]
  },
  {
   "cell_type": "code",
   "execution_count": 155,
   "id": "18b9f56e-cafd-43c5-936d-531487c1f6bc",
   "metadata": {},
   "outputs": [
    {
     "name": "stderr",
     "output_type": "stream",
     "text": [
      "'[image.png]' is not recognized as an internal or external command,\n",
      "operable program or batch file.\n"
     ]
    }
   ],
   "source": [
    "![image.png](attachment:image.png)"
   ]
  },
  {
   "cell_type": "code",
   "execution_count": 37,
   "id": "84f7f9a2-e186-4132-b63f-3d427fc24e82",
   "metadata": {},
   "outputs": [],
   "source": [
    "import os \n"
   ]
  },
  {
   "cell_type": "code",
   "execution_count": 38,
   "id": "678bae73-8511-465e-bdc9-e00664a258e8",
   "metadata": {},
   "outputs": [
    {
     "data": {
      "text/plain": [
       "'F:\\\\Digital Egypt Paioneers\\\\4- Python for Data Science, AI & Development\\\\Session 3'"
      ]
     },
     "execution_count": 38,
     "metadata": {},
     "output_type": "execute_result"
    }
   ],
   "source": [
    "os.getcwd()"
   ]
  },
  {
   "cell_type": "markdown",
   "id": "757f9f4d-0c10-4928-ad5c-2f33f774e745",
   "metadata": {},
   "source": [
    "### Open from current path"
   ]
  },
  {
   "cell_type": "code",
   "execution_count": 70,
   "id": "8b0f969c-eb9a-43a1-a331-f0fb032ac425",
   "metadata": {},
   "outputs": [],
   "source": [
    "my_file= open('test.txt','r')"
   ]
  },
  {
   "cell_type": "code",
   "execution_count": 55,
   "id": "62f6e1f6-caa0-4b2e-9f11-f9b56d423a85",
   "metadata": {},
   "outputs": [
    {
     "name": "stdout",
     "output_type": "stream",
     "text": [
      "I love pyt\n"
     ]
    }
   ],
   "source": [
    "print(my_file.read(10))"
   ]
  },
  {
   "cell_type": "code",
   "execution_count": 71,
   "id": "7be395d5-aa7a-4197-93fa-4ca79228788a",
   "metadata": {},
   "outputs": [
    {
     "data": {
      "text/plain": [
       "str"
      ]
     },
     "execution_count": 71,
     "metadata": {},
     "output_type": "execute_result"
    }
   ],
   "source": [
    "type(my_file.read(10))"
   ]
  },
  {
   "cell_type": "code",
   "execution_count": 58,
   "id": "4917c067-ccc4-4764-9d8d-455e7aa3e6ad",
   "metadata": {},
   "outputs": [
    {
     "data": {
      "text/plain": [
       "0"
      ]
     },
     "execution_count": 58,
     "metadata": {},
     "output_type": "execute_result"
    }
   ],
   "source": [
    "my_file.tell()"
   ]
  },
  {
   "cell_type": "code",
   "execution_count": 64,
   "id": "5aadd422-bacd-4c7d-a554-e299b676ccc3",
   "metadata": {},
   "outputs": [
    {
     "data": {
      "text/plain": [
       "0"
      ]
     },
     "execution_count": 64,
     "metadata": {},
     "output_type": "execute_result"
    }
   ],
   "source": [
    "my_file.seek(0)"
   ]
  },
  {
   "cell_type": "code",
   "execution_count": 59,
   "id": "9745d55c-36ad-4947-a1c0-d517f1a1a6cb",
   "metadata": {},
   "outputs": [
    {
     "name": "stdout",
     "output_type": "stream",
     "text": [
      "I love python\n",
      "I love python\n",
      "I love python\n",
      "I love python\n",
      "I love python\n",
      "\n"
     ]
    }
   ],
   "source": [
    "print(my_file.read())"
   ]
  },
  {
   "cell_type": "code",
   "execution_count": 60,
   "id": "c7c2d906-dd41-456d-a7d5-7046ae401ed5",
   "metadata": {},
   "outputs": [
    {
     "data": {
      "text/plain": [
       "75"
      ]
     },
     "execution_count": 60,
     "metadata": {},
     "output_type": "execute_result"
    }
   ],
   "source": [
    "my_file.tell()"
   ]
  },
  {
   "cell_type": "code",
   "execution_count": 61,
   "id": "d29f388b-d8fb-44e6-a7ab-39588e3d9949",
   "metadata": {},
   "outputs": [
    {
     "data": {
      "text/plain": [
       "3"
      ]
     },
     "execution_count": 61,
     "metadata": {},
     "output_type": "execute_result"
    }
   ],
   "source": [
    "my_file.seek(3)"
   ]
  },
  {
   "cell_type": "code",
   "execution_count": 62,
   "id": "6e2784a1-5c4a-4e16-ab1e-3f1cde91af15",
   "metadata": {},
   "outputs": [
    {
     "data": {
      "text/plain": [
       "3"
      ]
     },
     "execution_count": 62,
     "metadata": {},
     "output_type": "execute_result"
    }
   ],
   "source": [
    "my_file.tell()"
   ]
  },
  {
   "cell_type": "code",
   "execution_count": 63,
   "id": "20697704-5247-4291-b460-19130293c2a2",
   "metadata": {},
   "outputs": [
    {
     "name": "stdout",
     "output_type": "stream",
     "text": [
      "ove python\n",
      "I lo\n"
     ]
    }
   ],
   "source": [
    "print(my_file.read(15))"
   ]
  },
  {
   "cell_type": "markdown",
   "id": "bf9507f9-ba27-4732-9026-87db7e675f2f",
   "metadata": {},
   "source": [
    "### Read lines as list using `readlines()`"
   ]
  },
  {
   "cell_type": "markdown",
   "id": "52518bf7-ef53-4531-9387-66412988dcf1",
   "metadata": {},
   "source": [
    "You can read a file line by line using the **readlines** method. Use caution with large files, since everything will be held in memory. We will learn how to iterate over large files later in the course."
   ]
  },
  {
   "cell_type": "code",
   "execution_count": 78,
   "id": "4b047696-546f-401e-b56f-2ffa34efbbcc",
   "metadata": {},
   "outputs": [],
   "source": [
    "my_lines= my_file.readlines()"
   ]
  },
  {
   "cell_type": "code",
   "execution_count": 79,
   "id": "20db76e4-5bd8-4248-9c93-c11251b379a1",
   "metadata": {},
   "outputs": [
    {
     "data": {
      "text/plain": [
       "['I love python\\n', 'I love python\\n', 'I love python\\n']"
      ]
     },
     "execution_count": 79,
     "metadata": {},
     "output_type": "execute_result"
    }
   ],
   "source": [
    "my_lines"
   ]
  },
  {
   "cell_type": "code",
   "execution_count": 67,
   "id": "446894f0-5a04-46c2-8485-06daf5f65465",
   "metadata": {},
   "outputs": [
    {
     "data": {
      "text/plain": [
       "list"
      ]
     },
     "execution_count": 67,
     "metadata": {},
     "output_type": "execute_result"
    }
   ],
   "source": [
    "type(my_lines)"
   ]
  },
  {
   "cell_type": "code",
   "execution_count": 69,
   "id": "4005522d-7cbb-4e69-ab1f-8fc4dffb8e94",
   "metadata": {},
   "outputs": [
    {
     "data": {
      "text/plain": [
       "'I LOVE PYTHON\\n'"
      ]
     },
     "execution_count": 69,
     "metadata": {},
     "output_type": "execute_result"
    }
   ],
   "source": [
    "my_lines[0].upper()"
   ]
  },
  {
   "cell_type": "markdown",
   "id": "588f8984-44e5-432d-93a0-a698e3f1b63b",
   "metadata": {},
   "source": [
    "## 3) Writing data to a File"
   ]
  },
  {
   "cell_type": "markdown",
   "id": "87ff7bad-06a1-4092-bd48-98b2c4b0be6b",
   "metadata": {},
   "source": [
    "### Write Modes `w`, `w+`\n",
    "\n",
    "`w`   Truncate file to zero length or create text file for writing.\n",
    "         The stream is positioned at the beginning of the file.\n",
    "\n",
    " `w+`  Open for reading and writing.  The file is created if it does not\n",
    "         exist, otherwise it is truncated.  The stream is positioned at\n",
    "         the beginning of the file.\n"
   ]
  },
  {
   "cell_type": "markdown",
   "id": "38875d5b-aa53-4b0d-91b6-5ed4583967f2",
   "metadata": {},
   "source": [
    "### <strong><font color='red'>Use caution!</font></strong> \n",
    "Opening a file with `'w'` or `'w+'` truncates the original, meaning that anything that was in the original file **is deleted**!"
   ]
  },
  {
   "cell_type": "code",
   "execution_count": 83,
   "id": "646754ea-af9e-41d1-97d0-cc4efc2008d6",
   "metadata": {},
   "outputs": [],
   "source": [
    "my_file= open('test.txt', 'w+')"
   ]
  },
  {
   "cell_type": "code",
   "execution_count": 84,
   "id": "4609a500-bbd8-4120-9687-00ed2fbf6aa1",
   "metadata": {},
   "outputs": [
    {
     "data": {
      "text/plain": [
       "19"
      ]
     },
     "execution_count": 84,
     "metadata": {},
     "output_type": "execute_result"
    }
   ],
   "source": [
    "my_file.write('This is python line')"
   ]
  },
  {
   "cell_type": "code",
   "execution_count": 87,
   "id": "537c0bca-717a-401b-a848-c6bfcbcfd90a",
   "metadata": {},
   "outputs": [
    {
     "ename": "ValueError",
     "evalue": "I/O operation on closed file.",
     "output_type": "error",
     "traceback": [
      "\u001b[1;31m---------------------------------------------------------------------------\u001b[0m",
      "\u001b[1;31mValueError\u001b[0m                                Traceback (most recent call last)",
      "Cell \u001b[1;32mIn[87], line 1\u001b[0m\n\u001b[1;32m----> 1\u001b[0m \u001b[43mmy_file\u001b[49m\u001b[38;5;241;43m.\u001b[39;49m\u001b[43mread\u001b[49m\u001b[43m(\u001b[49m\u001b[43m)\u001b[49m\n",
      "\u001b[1;31mValueError\u001b[0m: I/O operation on closed file."
     ]
    }
   ],
   "source": [
    "my_file.read()"
   ]
  },
  {
   "cell_type": "code",
   "execution_count": 88,
   "id": "c7a1c8d7-894d-4fe8-bb0f-4837cdd6734c",
   "metadata": {},
   "outputs": [],
   "source": [
    "my_file.close()"
   ]
  },
  {
   "cell_type": "code",
   "execution_count": 145,
   "id": "130290c8-fb97-42d2-a118-318a27740c9f",
   "metadata": {},
   "outputs": [],
   "source": [
    "my_file= open('test111.txt', 'w+')"
   ]
  },
  {
   "cell_type": "code",
   "execution_count": 146,
   "id": "811454bd-62d6-4b49-a8a5-c6332d2fe4cf",
   "metadata": {},
   "outputs": [],
   "source": [
    "my_lines= my_file.readlines()"
   ]
  },
  {
   "cell_type": "code",
   "execution_count": 147,
   "id": "717f933f-42ec-4da3-823f-fc7772261a1a",
   "metadata": {},
   "outputs": [
    {
     "data": {
      "text/plain": [
       "[]"
      ]
     },
     "execution_count": 147,
     "metadata": {},
     "output_type": "execute_result"
    }
   ],
   "source": [
    "my_lines"
   ]
  },
  {
   "cell_type": "code",
   "execution_count": 148,
   "id": "b8a30ade-da47-4cac-9941-486c3d8aea4e",
   "metadata": {},
   "outputs": [],
   "source": [
    "for i in range(5):\n",
    "    my_file.write('This is python line\\n')"
   ]
  },
  {
   "cell_type": "code",
   "execution_count": 149,
   "id": "5dc4f65b-b18e-472f-a617-479131fdd695",
   "metadata": {},
   "outputs": [],
   "source": [
    "my_lines= my_file.readlines()"
   ]
  },
  {
   "cell_type": "code",
   "execution_count": 150,
   "id": "24871647-a3b9-41f0-a820-b167d2581e1f",
   "metadata": {},
   "outputs": [
    {
     "data": {
      "text/plain": [
       "[]"
      ]
     },
     "execution_count": 150,
     "metadata": {},
     "output_type": "execute_result"
    }
   ],
   "source": [
    "my_lines"
   ]
  },
  {
   "cell_type": "code",
   "execution_count": 151,
   "id": "198ff819-c93c-4a25-bc95-3024554d6876",
   "metadata": {},
   "outputs": [],
   "source": [
    "my_file.writelines(my_lines)"
   ]
  },
  {
   "cell_type": "code",
   "execution_count": 152,
   "id": "57d21ad6-91b8-4d2b-9037-bc1a6656c24b",
   "metadata": {},
   "outputs": [
    {
     "data": {
      "text/plain": [
       "0"
      ]
     },
     "execution_count": 152,
     "metadata": {},
     "output_type": "execute_result"
    }
   ],
   "source": [
    "my_file.seek(0)"
   ]
  },
  {
   "cell_type": "code",
   "execution_count": 153,
   "id": "5628080d-efdd-4307-af54-0aecff659cd6",
   "metadata": {},
   "outputs": [],
   "source": [
    "my_lines= my_file.readlines()"
   ]
  },
  {
   "cell_type": "code",
   "execution_count": 154,
   "id": "65dab239-b4e6-4553-9428-c8bf22b87bd5",
   "metadata": {},
   "outputs": [
    {
     "data": {
      "text/plain": [
       "['This is python line\\n',\n",
       " 'This is python line\\n',\n",
       " 'This is python line\\n',\n",
       " 'This is python line\\n',\n",
       " 'This is python line\\n']"
      ]
     },
     "execution_count": 154,
     "metadata": {},
     "output_type": "execute_result"
    }
   ],
   "source": [
    "my_lines"
   ]
  },
  {
   "cell_type": "markdown",
   "id": "97399644-bda9-426a-aba2-fecaee2c4fd3",
   "metadata": {},
   "source": [
    "# Functions\n",
    "\n",
    "## Introduction to Functions\n",
    "\n",
    "This lecture will consist of explaining what a function is in Python and how to create one. Functions will be one of our main building blocks when we construct larger and larger amounts of code to solve problems.\n",
    "\n",
    "**So what is a function?**\n",
    "\n",
    "Formally, a function is a useful device that groups together a set of statements so they can be run more than once. They can also let us specify parameters that can serve as inputs to the functions.\n",
    "\n",
    "On a more fundamental level, functions allow us to not have to repeatedly write the same code again and again. If you remember back to the lessons on strings and lists, remember that we used a function len() to get the length of a string. Since checking the length of a sequence is a common task you would want to write a function that can do this repeatedly at command.\n",
    "\n",
    "Functions will be one of most basic levels of reusing code in Python, and it will also allow us to start thinking of program design (we will dive much deeper into the ideas of design when we learn about Object Oriented Programming).\n",
    "\n",
    "\n",
    "## Table of Contents\n",
    "1. `def` statment\n",
    "2. Using `return` \n",
    "3. Function parameters\n",
    "4. Unpacking function"
   ]
  },
  {
   "cell_type": "code",
   "execution_count": 162,
   "id": "b975e6a8-655d-435d-a76e-dd6f79384db0",
   "metadata": {},
   "outputs": [],
   "source": [
    "def name_of_func(arg1,arg2):\n",
    "    print(arg1 * arg2)\n",
    "    return arg1 * arg2"
   ]
  },
  {
   "cell_type": "code",
   "execution_count": 163,
   "id": "db8c7562-80c5-4f80-9561-348bacf850a7",
   "metadata": {},
   "outputs": [
    {
     "name": "stdout",
     "output_type": "stream",
     "text": [
      "25\n"
     ]
    }
   ],
   "source": [
    "x= name_of_func(5,5)"
   ]
  },
  {
   "cell_type": "code",
   "execution_count": 164,
   "id": "52a42df6-76c8-4f06-8768-c7f55ac513aa",
   "metadata": {},
   "outputs": [
    {
     "data": {
      "text/plain": [
       "25"
      ]
     },
     "execution_count": 164,
     "metadata": {},
     "output_type": "execute_result"
    }
   ],
   "source": [
    "x"
   ]
  },
  {
   "cell_type": "code",
   "execution_count": 169,
   "id": "0bada56b-621c-475b-a970-d7deb7946ac0",
   "metadata": {},
   "outputs": [],
   "source": [
    "def calculator(x, y=1, op='+'):\n",
    "    '''\n",
    "    Simple Calculator.\n",
    "    x : first number\n",
    "    y: seconds number\n",
    "    op: operator maybe +,-,*,/\n",
    "    example: calculator(5, 10, '*') ----> 50\n",
    "    '''\n",
    "    if op == '+':\n",
    "        print(f\"the sum for {x} + {y} = {x + y}\")\n",
    "    elif op == '-':\n",
    "        print(f\"the subtraction for {x} - {y} = {x - y}\")\n",
    "    elif op == '*':\n",
    "        print(f\"the multpling for {x} * {y} = {x * y}\")\n",
    "    elif op == '/':\n",
    "        if y == 0:\n",
    "            print('cant divide on zero')\n",
    "        else:\n",
    "            print(f\"the division for {x} / {y} = {x / y}\")\n",
    "    else:\n",
    "        print('wrong operation')\n",
    "    "
   ]
  },
  {
   "cell_type": "code",
   "execution_count": 172,
   "id": "98ab6613-e8d2-4205-ba50-d278efeabb2f",
   "metadata": {},
   "outputs": [
    {
     "name": "stdout",
     "output_type": "stream",
     "text": [
      "the multpling for 2 * 5 = 10\n"
     ]
    }
   ],
   "source": [
    "calculator(2,5,\"*\")"
   ]
  },
  {
   "cell_type": "code",
   "execution_count": null,
   "id": "c94cc725-8143-475c-9e7c-fabbfa3f6699",
   "metadata": {},
   "outputs": [],
   "source": []
  }
 ],
 "metadata": {
  "kernelspec": {
   "display_name": "Python 3 (ipykernel)",
   "language": "python",
   "name": "python3"
  },
  "language_info": {
   "codemirror_mode": {
    "name": "ipython",
    "version": 3
   },
   "file_extension": ".py",
   "mimetype": "text/x-python",
   "name": "python",
   "nbconvert_exporter": "python",
   "pygments_lexer": "ipython3",
   "version": "3.12.5"
  }
 },
 "nbformat": 4,
 "nbformat_minor": 5
}
