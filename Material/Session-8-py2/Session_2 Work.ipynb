{
 "cells": [
  {
   "cell_type": "markdown",
   "id": "3ea5413b-aa19-424f-ae27-f0a0fbd3446a",
   "metadata": {},
   "source": [
    "## 6) String methods and functions\n",
    "\n",
    "Objects in Python usually have built-in methods. These methods are functions inside the object (we will learn about these in much more depth later) that can perform actions or commands on the object itself.\n",
    "\n",
    "We call methods with a period and then the method name. Methods are in the form:\n",
    "\n",
    "object.method(parameters)\n",
    "\n",
    "Where parameters are extra arguments we can pass into the method. Don't worry if the details don't make 100% sense right now. Later on we will be creating our own objects and functions!\n",
    "\n",
    "you can check a lot of string methods from here: https://www.w3schools.com/python/python_ref_string.asp\n",
    "\n",
    "Here are some examples of built-in methods in strings:"
   ]
  },
  {
   "cell_type": "code",
   "execution_count": 5,
   "id": "ac6de36b-8501-4720-8370-cfd95628d76a",
   "metadata": {},
   "outputs": [
    {
     "name": "stdout",
     "output_type": "stream",
     "text": [
      "num1 is: 10 and num2 is: 7and result is : 17\n"
     ]
    }
   ],
   "source": [
    "num1= 10\n",
    "num2= 7\n",
    "result= num1 + num2\n",
    "print('num1 is: ' + str(num1) + \" and num2 is: \" + str(num2) + 'and result is : ' +str(result) )"
   ]
  },
  {
   "cell_type": "code",
   "execution_count": 6,
   "id": "e8e542bc-c0de-405f-a2f7-1776bf0e6193",
   "metadata": {},
   "outputs": [
    {
     "data": {
      "text/plain": [
       "17"
      ]
     },
     "execution_count": 6,
     "metadata": {},
     "output_type": "execute_result"
    }
   ],
   "source": [
    "num1 +num2"
   ]
  },
  {
   "cell_type": "code",
   "execution_count": 8,
   "id": "12ec558f-bf38-4828-93bd-c69e186cf997",
   "metadata": {},
   "outputs": [
    {
     "data": {
      "text/plain": [
       "11"
      ]
     },
     "execution_count": 8,
     "metadata": {},
     "output_type": "execute_result"
    }
   ],
   "source": [
    "s = 'Hello World'\n",
    "len(s) # length"
   ]
  },
  {
   "cell_type": "code",
   "execution_count": 9,
   "id": "639d0e8c-8990-4850-b16b-49df37fec16e",
   "metadata": {},
   "outputs": [
    {
     "data": {
      "text/plain": [
       "'HELLO WORLD'"
      ]
     },
     "execution_count": 9,
     "metadata": {},
     "output_type": "execute_result"
    }
   ],
   "source": [
    "s.upper()"
   ]
  },
  {
   "cell_type": "code",
   "execution_count": 10,
   "id": "7043483b-f1f1-4f55-ac75-1e7edcac47a7",
   "metadata": {},
   "outputs": [
    {
     "data": {
      "text/plain": [
       "'hello world'"
      ]
     },
     "execution_count": 10,
     "metadata": {},
     "output_type": "execute_result"
    }
   ],
   "source": [
    "s.lower()"
   ]
  },
  {
   "cell_type": "code",
   "execution_count": 11,
   "id": "51769e43-7123-4b0c-8b0d-59350b186c1a",
   "metadata": {},
   "outputs": [],
   "source": [
    "c = 'i love python'"
   ]
  },
  {
   "cell_type": "code",
   "execution_count": 14,
   "id": "44b0bab9-3cce-4495-af36-4baab9fb3d07",
   "metadata": {},
   "outputs": [
    {
     "data": {
      "text/plain": [
       "True"
      ]
     },
     "execution_count": 14,
     "metadata": {},
     "output_type": "execute_result"
    }
   ],
   "source": [
    "c.startswith('i')"
   ]
  },
  {
   "cell_type": "code",
   "execution_count": 15,
   "id": "ef79b20f-679a-4c78-a668-dd8ada12e428",
   "metadata": {},
   "outputs": [
    {
     "data": {
      "text/plain": [
       "False"
      ]
     },
     "execution_count": 15,
     "metadata": {},
     "output_type": "execute_result"
    }
   ],
   "source": [
    "c.startswith('l')"
   ]
  },
  {
   "cell_type": "code",
   "execution_count": 16,
   "id": "2e6e14b8-49b2-4600-9985-77d6ffa71946",
   "metadata": {},
   "outputs": [
    {
     "data": {
      "text/plain": [
       "True"
      ]
     },
     "execution_count": 16,
     "metadata": {},
     "output_type": "execute_result"
    }
   ],
   "source": [
    "c.endswith('n')"
   ]
  },
  {
   "cell_type": "code",
   "execution_count": 17,
   "id": "03ae29bf-14e9-45a5-a8c8-d73518e38fa6",
   "metadata": {},
   "outputs": [
    {
     "data": {
      "text/plain": [
       "False"
      ]
     },
     "execution_count": 17,
     "metadata": {},
     "output_type": "execute_result"
    }
   ],
   "source": [
    "c.endswith('x')"
   ]
  },
  {
   "cell_type": "code",
   "execution_count": 20,
   "id": "dc124a6e-3144-4365-bc64-1c62abe21b63",
   "metadata": {},
   "outputs": [
    {
     "data": {
      "text/plain": [
       "['I', 'Love', 'Python', 'Language']"
      ]
     },
     "execution_count": 20,
     "metadata": {},
     "output_type": "execute_result"
    }
   ],
   "source": [
    "s = 'I Love Python Language'\n",
    "\n",
    "s.split()"
   ]
  },
  {
   "cell_type": "code",
   "execution_count": 21,
   "id": "c8d624e1-f923-4277-b050-2d19229bfa26",
   "metadata": {},
   "outputs": [],
   "source": [
    "m = 'Python-Is-Awesome'"
   ]
  },
  {
   "cell_type": "code",
   "execution_count": 23,
   "id": "ab0b8255-838a-4c45-bc70-5ea30718f0a5",
   "metadata": {},
   "outputs": [
    {
     "data": {
      "text/plain": [
       "['Python', 'Is', 'Awesome']"
      ]
     },
     "execution_count": 23,
     "metadata": {},
     "output_type": "execute_result"
    }
   ],
   "source": [
    "m.split(\"-\")"
   ]
  },
  {
   "cell_type": "code",
   "execution_count": 25,
   "id": "80cdf20c-996e-4e30-9323-5f052a3ea765",
   "metadata": {},
   "outputs": [],
   "source": [
    "ip = '192.168.1.1'"
   ]
  },
  {
   "cell_type": "code",
   "execution_count": 26,
   "id": "b5174193-c085-4150-93c7-c8a77e15d9d7",
   "metadata": {},
   "outputs": [
    {
     "data": {
      "text/plain": [
       "['192', '168', '1', '1']"
      ]
     },
     "execution_count": 26,
     "metadata": {},
     "output_type": "execute_result"
    }
   ],
   "source": [
    "ip.split('.')"
   ]
  },
  {
   "cell_type": "code",
   "execution_count": 28,
   "id": "e2cb931d-049e-4ff9-8562-8e100a1d6bd2",
   "metadata": {},
   "outputs": [
    {
     "data": {
      "text/plain": [
       "['I L', 've Pyth', 'n Language']"
      ]
     },
     "execution_count": 28,
     "metadata": {},
     "output_type": "execute_result"
    }
   ],
   "source": [
    "s.split('o')"
   ]
  },
  {
   "cell_type": "markdown",
   "id": "fa23799a-608a-4f8a-b153-a395538d99ed",
   "metadata": {},
   "source": [
    "## 7) Print Formatting\n",
    "\n",
    "The easiest way to show this is through an example:"
   ]
  },
  {
   "cell_type": "code",
   "execution_count": 29,
   "id": "925af604-ae95-4258-8c49-0126d1ab5c7c",
   "metadata": {},
   "outputs": [
    {
     "name": "stdin",
     "output_type": "stream",
     "text": [
      "please enter your name Ahmed\n",
      "please enter your age 35\n",
      "what is your gender Male\n"
     ]
    },
    {
     "name": "stdout",
     "output_type": "stream",
     "text": [
      "your name is: Ahmed and your are 35 years old, gender is Male\n"
     ]
    }
   ],
   "source": [
    "name= input('please enter your name')\n",
    "age= input( 'please enter your age')\n",
    "gender= input('what is your gender')\n",
    "\n",
    "print(f\"your name is: {name} and your are {age} years old, gender is {gender}\")"
   ]
  },
  {
   "cell_type": "markdown",
   "id": "59c7c507-4424-4865-9560-2c6a2d63adc5",
   "metadata": {},
   "source": [
    "# Lists\n",
    "\n",
    "Earlier when discussing strings we introduced the concept of a *sequence* in Python. Lists can be thought of the most general version of a *sequence* in Python. Unlike strings, they are mutable, meaning the elements inside a list can be changed!\n",
    "\n",
    "\n",
    "Lists are constructed with brackets [] and commas separating every element in the list.\n",
    "\n",
    "Let's go ahead and see how we can construct lists!"
   ]
  },
  {
   "cell_type": "code",
   "execution_count": 30,
   "id": "9ffc2623-1652-47e8-b1ac-a0d4b16457b8",
   "metadata": {},
   "outputs": [],
   "source": [
    "# Assign a list to an variable named my_list\n",
    "my_list= [1,2,3]"
   ]
  },
  {
   "cell_type": "code",
   "execution_count": 32,
   "id": "7c412666-76e1-4fee-86e8-f3a5a912a9bd",
   "metadata": {},
   "outputs": [
    {
     "data": {
      "text/plain": [
       "list"
      ]
     },
     "execution_count": 32,
     "metadata": {},
     "output_type": "execute_result"
    }
   ],
   "source": [
    "type(my_list)"
   ]
  },
  {
   "cell_type": "code",
   "execution_count": 33,
   "id": "dfbea785-cfa7-46c0-a506-5f8884e3830b",
   "metadata": {},
   "outputs": [],
   "source": [
    "list1= [1,1,1,2,3,4,5]"
   ]
  },
  {
   "cell_type": "code",
   "execution_count": 34,
   "id": "15e58bcd-4263-4c93-b977-57573042630d",
   "metadata": {},
   "outputs": [
    {
     "data": {
      "text/plain": [
       "3"
      ]
     },
     "execution_count": 34,
     "metadata": {},
     "output_type": "execute_result"
    }
   ],
   "source": [
    "list1.count(1)"
   ]
  },
  {
   "cell_type": "code",
   "execution_count": 35,
   "id": "3219d184-3f17-4d20-a8de-fbd0fbde1609",
   "metadata": {},
   "outputs": [
    {
     "name": "stdout",
     "output_type": "stream",
     "text": [
      "['A string', 23, 100.232, 'o', True, ['ahmed', 'mohammed', 'eman']]\n"
     ]
    }
   ],
   "source": [
    "my_list = ['A string', 23, 100.232, 'o', True, ['ahmed', 'mohammed', 'eman']]\n",
    "print(my_list)"
   ]
  },
  {
   "cell_type": "markdown",
   "id": "0617495d-7c46-4396-8f8d-3001350df543",
   "metadata": {},
   "source": [
    "## 2) Indexing Lists"
   ]
  },
  {
   "cell_type": "code",
   "execution_count": 37,
   "id": "5c650173-40f6-4654-92b1-6d790440d181",
   "metadata": {},
   "outputs": [
    {
     "data": {
      "text/plain": [
       "['ahmed', 'mohammed', 'eman']"
      ]
     },
     "execution_count": 37,
     "metadata": {},
     "output_type": "execute_result"
    }
   ],
   "source": [
    "my_list[-1]"
   ]
  },
  {
   "cell_type": "code",
   "execution_count": 40,
   "id": "217ae295-8d18-4a80-8fba-54f9cd50753d",
   "metadata": {},
   "outputs": [
    {
     "data": {
      "text/plain": [
       "'ahmed'"
      ]
     },
     "execution_count": 40,
     "metadata": {},
     "output_type": "execute_result"
    }
   ],
   "source": [
    "my_list[-1][0]"
   ]
  },
  {
   "cell_type": "code",
   "execution_count": 41,
   "id": "f7975c90-d60a-445e-b8da-97b2cd0c48cd",
   "metadata": {},
   "outputs": [
    {
     "data": {
      "text/plain": [
       "'g'"
      ]
     },
     "execution_count": 41,
     "metadata": {},
     "output_type": "execute_result"
    }
   ],
   "source": [
    "my_list[0][-1]"
   ]
  },
  {
   "cell_type": "markdown",
   "id": "6c4779b5-8c31-460b-bb38-e8e580c95d3d",
   "metadata": {},
   "source": [
    "**you can update the list using indexing**"
   ]
  },
  {
   "cell_type": "code",
   "execution_count": 43,
   "id": "48025a12-f314-4a62-88d2-9f31eb92d3aa",
   "metadata": {},
   "outputs": [],
   "source": [
    "my_list[-1][-1] = \"mariam\""
   ]
  },
  {
   "cell_type": "code",
   "execution_count": 44,
   "id": "1e89a091-051a-4d6b-9a3d-d93e8e29ba4d",
   "metadata": {},
   "outputs": [
    {
     "data": {
      "text/plain": [
       "['A string', 23, 100.232, 'o', True, ['ahmed', 'mohammed', 'mariam']]"
      ]
     },
     "execution_count": 44,
     "metadata": {},
     "output_type": "execute_result"
    }
   ],
   "source": [
    "my_list"
   ]
  },
  {
   "cell_type": "markdown",
   "id": "ee4ea6f5-6f51-455b-a468-32a73377c5fe",
   "metadata": {},
   "source": [
    "## 3) Slicing Lists"
   ]
  },
  {
   "cell_type": "code",
   "execution_count": 45,
   "id": "d90bc6dc-b439-4a9a-bd32-ec4cb82cb358",
   "metadata": {},
   "outputs": [
    {
     "data": {
      "text/plain": [
       "['A string', 23, 100.232, 'o', True]"
      ]
     },
     "execution_count": 45,
     "metadata": {},
     "output_type": "execute_result"
    }
   ],
   "source": [
    "my_list[:5]"
   ]
  },
  {
   "cell_type": "code",
   "execution_count": 46,
   "id": "60dacbf0-3e51-427f-8c69-0cbe0bbb7ffe",
   "metadata": {},
   "outputs": [],
   "source": [
    "my_list = ['ahmed', 'eslam', 'eman', 400, 500, True]"
   ]
  },
  {
   "cell_type": "code",
   "execution_count": 47,
   "id": "563527d1-e34a-44ce-8f43-1d7f64f3bde2",
   "metadata": {},
   "outputs": [
    {
     "data": {
      "text/plain": [
       "['eslam', 'eman', 400, 500, True]"
      ]
     },
     "execution_count": 47,
     "metadata": {},
     "output_type": "execute_result"
    }
   ],
   "source": [
    "my_list[1:]"
   ]
  },
  {
   "cell_type": "code",
   "execution_count": 48,
   "id": "f80c614c-512b-42c5-b0f6-a169657ed7a6",
   "metadata": {},
   "outputs": [
    {
     "data": {
      "text/plain": [
       "['ahmed', 'eslam', 'eman']"
      ]
     },
     "execution_count": 48,
     "metadata": {},
     "output_type": "execute_result"
    }
   ],
   "source": [
    "my_list[:3]"
   ]
  },
  {
   "cell_type": "code",
   "execution_count": 49,
   "id": "63970636-4696-4db6-b274-a954ceb0b0c7",
   "metadata": {},
   "outputs": [
    {
     "data": {
      "text/plain": [
       "['ahmed', 'eman', 500]"
      ]
     },
     "execution_count": 49,
     "metadata": {},
     "output_type": "execute_result"
    }
   ],
   "source": [
    "my_list[::2]"
   ]
  },
  {
   "cell_type": "code",
   "execution_count": 50,
   "id": "ebf1b146-054d-481a-a607-8cdbf4cae7f0",
   "metadata": {},
   "outputs": [
    {
     "data": {
      "text/plain": [
       "[True, 500, 400, 'eman', 'eslam', 'ahmed']"
      ]
     },
     "execution_count": 50,
     "metadata": {},
     "output_type": "execute_result"
    }
   ],
   "source": [
    "my_list[::-1]"
   ]
  },
  {
   "cell_type": "markdown",
   "id": "1fb45dc8-ff37-4d42-b192-48ef744fffb5",
   "metadata": {},
   "source": [
    "## 4) List Properties"
   ]
  },
  {
   "cell_type": "markdown",
   "id": "bb1671f7-3014-46a7-9e33-cc3698b67ad9",
   "metadata": {},
   "source": [
    "**Concatenating**"
   ]
  },
  {
   "cell_type": "code",
   "execution_count": 51,
   "id": "75ce304d-3fe1-49dd-ad4f-9071ed088925",
   "metadata": {},
   "outputs": [
    {
     "data": {
      "text/plain": [
       "['ahmed', 'eslam', 'eman', 400, 500, True, 'New item1', 'new item2']"
      ]
     },
     "execution_count": 51,
     "metadata": {},
     "output_type": "execute_result"
    }
   ],
   "source": [
    "my_list + ['New item1', 'new item2']"
   ]
  },
  {
   "cell_type": "code",
   "execution_count": 53,
   "id": "bee5ea94-d329-4f95-bb4c-3803e4710064",
   "metadata": {},
   "outputs": [],
   "source": [
    "my_list = my_list + ['New item1', 'new item2']"
   ]
  },
  {
   "cell_type": "code",
   "execution_count": 54,
   "id": "05afd996-674f-44d1-ba33-4861570735c6",
   "metadata": {},
   "outputs": [
    {
     "data": {
      "text/plain": [
       "['ahmed', 'eslam', 'eman', 400, 500, True, 'New item1', 'new item2']"
      ]
     },
     "execution_count": 54,
     "metadata": {},
     "output_type": "execute_result"
    }
   ],
   "source": [
    "my_list"
   ]
  },
  {
   "cell_type": "markdown",
   "id": "1b8ff295-1feb-47c9-91ca-9edbb5aee783",
   "metadata": {},
   "source": [
    "**Repeating**"
   ]
  },
  {
   "cell_type": "code",
   "execution_count": 55,
   "id": "a6af0944-ef0d-44ab-990f-9c7ba281ecf2",
   "metadata": {},
   "outputs": [
    {
     "data": {
      "text/plain": [
       "['ahmed',\n",
       " 'eslam',\n",
       " 'eman',\n",
       " 400,\n",
       " 500,\n",
       " True,\n",
       " 'New item1',\n",
       " 'new item2',\n",
       " 'ahmed',\n",
       " 'eslam',\n",
       " 'eman',\n",
       " 400,\n",
       " 500,\n",
       " True,\n",
       " 'New item1',\n",
       " 'new item2']"
      ]
     },
     "execution_count": 55,
     "metadata": {},
     "output_type": "execute_result"
    }
   ],
   "source": [
    "my_list * 2"
   ]
  },
  {
   "cell_type": "code",
   "execution_count": 56,
   "id": "4bdb54e0-bbcf-4f54-944e-fdb8879fb1d9",
   "metadata": {},
   "outputs": [],
   "source": [
    "my_list= my_list * 2"
   ]
  },
  {
   "cell_type": "code",
   "execution_count": 57,
   "id": "59d7bbd8-9a6e-489b-b97a-e8fcd646697f",
   "metadata": {},
   "outputs": [
    {
     "data": {
      "text/plain": [
       "['ahmed',\n",
       " 'eslam',\n",
       " 'eman',\n",
       " 400,\n",
       " 500,\n",
       " True,\n",
       " 'New item1',\n",
       " 'new item2',\n",
       " 'ahmed',\n",
       " 'eslam',\n",
       " 'eman',\n",
       " 400,\n",
       " 500,\n",
       " True,\n",
       " 'New item1',\n",
       " 'new item2']"
      ]
     },
     "execution_count": 57,
     "metadata": {},
     "output_type": "execute_result"
    }
   ],
   "source": [
    "my_list"
   ]
  },
  {
   "cell_type": "markdown",
   "id": "59bdab6b-e2b9-4cd7-bb9b-d2f478a121d7",
   "metadata": {},
   "source": [
    "## 5) List Methods\n",
    "\n",
    "If you are familiar with another programming language, you might start to draw parallels between arrays in another language and lists in Python. Lists in Python however, tend to be more flexible than arrays in other languages for a two good reasons: they have no fixed size (meaning we don't have to specify how big a list will be), and they have no fixed type constraint (like we've seen above).\n",
    "\n",
    "you can check a lot of list methods from here: https://www.w3schools.com/python/python_ref_list.asp\n",
    "\n",
    "Let's go ahead and explore some more special methods for lists:"
   ]
  },
  {
   "cell_type": "code",
   "execution_count": 58,
   "id": "19044faf-fddf-4ac4-9af8-16e7da19b200",
   "metadata": {},
   "outputs": [
    {
     "data": {
      "text/plain": [
       "3"
      ]
     },
     "execution_count": 58,
     "metadata": {},
     "output_type": "execute_result"
    }
   ],
   "source": [
    "list1 = [1, 2, 3]\n",
    "len(list1)"
   ]
  },
  {
   "cell_type": "markdown",
   "id": "d7c27745-a573-4e2b-bbf1-97db753198d1",
   "metadata": {},
   "source": [
    "**append**"
   ]
  },
  {
   "cell_type": "code",
   "execution_count": 59,
   "id": "1ffdf562-8c8f-44e0-bae4-c70a8c6cc866",
   "metadata": {},
   "outputs": [],
   "source": [
    "list1.append('append me!')"
   ]
  },
  {
   "cell_type": "code",
   "execution_count": 60,
   "id": "a1f218c5-cd77-4c23-a0e7-a64dbfaccc87",
   "metadata": {},
   "outputs": [
    {
     "data": {
      "text/plain": [
       "[1, 2, 3, 'append me!']"
      ]
     },
     "execution_count": 60,
     "metadata": {},
     "output_type": "execute_result"
    }
   ],
   "source": [
    "list1"
   ]
  },
  {
   "cell_type": "code",
   "execution_count": 62,
   "id": "e360898f-faa1-477a-a249-aa0792b2ad94",
   "metadata": {},
   "outputs": [],
   "source": [
    "list1.append(100.5)"
   ]
  },
  {
   "cell_type": "code",
   "execution_count": 63,
   "id": "34132922-9fed-4f34-914f-4ce40a183716",
   "metadata": {},
   "outputs": [
    {
     "data": {
      "text/plain": [
       "[1, 2, 3, 'append me!', 1, 100.5]"
      ]
     },
     "execution_count": 63,
     "metadata": {},
     "output_type": "execute_result"
    }
   ],
   "source": [
    "list1"
   ]
  },
  {
   "cell_type": "markdown",
   "id": "031bb283-09c7-4dee-9cd1-39f6339e6ed3",
   "metadata": {},
   "source": [
    "# sort"
   ]
  },
  {
   "cell_type": "code",
   "execution_count": 70,
   "id": "927258b8-6794-4740-bc8f-df5aa461ed23",
   "metadata": {},
   "outputs": [
    {
     "data": {
      "text/plain": [
       "['a', 'A', 'e', 'x', 'b', 'c']"
      ]
     },
     "execution_count": 70,
     "metadata": {},
     "output_type": "execute_result"
    }
   ],
   "source": [
    "new_list = ['a',\"A\",'e','x','b','c']\n",
    "new_list"
   ]
  },
  {
   "cell_type": "code",
   "execution_count": 71,
   "id": "a1b00a85-1e21-42f6-baf8-1edf9b7f812e",
   "metadata": {},
   "outputs": [],
   "source": [
    "new_list.sort()"
   ]
  },
  {
   "cell_type": "code",
   "execution_count": 72,
   "id": "7690c857-7eed-4356-8013-106834c79619",
   "metadata": {},
   "outputs": [
    {
     "data": {
      "text/plain": [
       "['A', 'a', 'b', 'c', 'e', 'x']"
      ]
     },
     "execution_count": 72,
     "metadata": {},
     "output_type": "execute_result"
    }
   ],
   "source": [
    "new_list"
   ]
  },
  {
   "cell_type": "code",
   "execution_count": 73,
   "id": "d2baed54-631d-4c96-a3e1-7ac7e497252a",
   "metadata": {},
   "outputs": [
    {
     "data": {
      "text/plain": [
       "[20, 120, 5, 90, 1000]"
      ]
     },
     "execution_count": 73,
     "metadata": {},
     "output_type": "execute_result"
    }
   ],
   "source": [
    "new_list = [20, 120, 5, 90, 1000]\n",
    "new_list"
   ]
  },
  {
   "cell_type": "code",
   "execution_count": 74,
   "id": "77f8f179-59df-45dc-aaee-f530fa5322c0",
   "metadata": {},
   "outputs": [],
   "source": [
    "new_list.sort()"
   ]
  },
  {
   "cell_type": "code",
   "execution_count": 75,
   "id": "1f09197e-0910-4367-856d-04e477e0d4c4",
   "metadata": {},
   "outputs": [
    {
     "data": {
      "text/plain": [
       "[5, 20, 90, 120, 1000]"
      ]
     },
     "execution_count": 75,
     "metadata": {},
     "output_type": "execute_result"
    }
   ],
   "source": [
    "new_list"
   ]
  },
  {
   "cell_type": "markdown",
   "id": "90686684-5c43-42f5-ba9b-fea409109201",
   "metadata": {},
   "source": [
    "to sort descending"
   ]
  },
  {
   "cell_type": "code",
   "execution_count": 76,
   "id": "017d1ae5-d478-4bdd-9319-238365e65b2f",
   "metadata": {},
   "outputs": [],
   "source": [
    "new_list.sort(reverse=True)"
   ]
  },
  {
   "cell_type": "code",
   "execution_count": 77,
   "id": "40f82045-059d-452a-9993-35fa65e71fa2",
   "metadata": {},
   "outputs": [
    {
     "data": {
      "text/plain": [
       "[1000, 120, 90, 20, 5]"
      ]
     },
     "execution_count": 77,
     "metadata": {},
     "output_type": "execute_result"
    }
   ],
   "source": [
    "new_list"
   ]
  },
  {
   "cell_type": "code",
   "execution_count": 79,
   "id": "434f0971-905d-408a-a48b-4b074f329139",
   "metadata": {},
   "outputs": [
    {
     "data": {
      "text/plain": [
       "5"
      ]
     },
     "execution_count": 79,
     "metadata": {},
     "output_type": "execute_result"
    }
   ],
   "source": [
    "min(new_list)"
   ]
  },
  {
   "cell_type": "code",
   "execution_count": 80,
   "id": "0280ada1-a4a4-4f13-b25f-31ca0a0f9094",
   "metadata": {},
   "outputs": [
    {
     "data": {
      "text/plain": [
       "1000"
      ]
     },
     "execution_count": 80,
     "metadata": {},
     "output_type": "execute_result"
    }
   ],
   "source": [
    "max(new_list)"
   ]
  },
  {
   "cell_type": "code",
   "execution_count": 81,
   "id": "05f8e8d7-41b3-4f3b-8d72-8328fd376bcb",
   "metadata": {},
   "outputs": [
    {
     "data": {
      "text/plain": [
       "1235"
      ]
     },
     "execution_count": 81,
     "metadata": {},
     "output_type": "execute_result"
    }
   ],
   "source": [
    "sum(new_list)"
   ]
  },
  {
   "cell_type": "markdown",
   "id": "db2bb914-4e2c-4a33-a7e7-f8119479981f",
   "metadata": {},
   "source": [
    "## 6) Nesting Lists\n",
    "A great feature of of Python data structures is that they support *nesting*. This means we can have data structures within data structures. For example: A list inside a list.\n",
    "\n",
    "Let's see how this works!"
   ]
  },
  {
   "cell_type": "code",
   "execution_count": 84,
   "id": "af577b2a-b521-470c-9ecb-0030103c1ee0",
   "metadata": {},
   "outputs": [],
   "source": [
    "# Make a list of lists to form a matrix\n",
    "matrix= [[1,2,3],[4,5,6],[7,8,9]]"
   ]
  },
  {
   "cell_type": "code",
   "execution_count": 85,
   "id": "7770d0ea-0c80-431c-8fa2-503d7aa19032",
   "metadata": {},
   "outputs": [
    {
     "data": {
      "text/plain": [
       "[[1, 2, 3], [4, 5, 6], [7, 8, 9]]"
      ]
     },
     "execution_count": 85,
     "metadata": {},
     "output_type": "execute_result"
    }
   ],
   "source": [
    "matrix"
   ]
  },
  {
   "cell_type": "code",
   "execution_count": 86,
   "id": "63c3c630-d58a-4843-9f72-46aea99ed28d",
   "metadata": {},
   "outputs": [
    {
     "data": {
      "text/plain": [
       "8"
      ]
     },
     "execution_count": 86,
     "metadata": {},
     "output_type": "execute_result"
    }
   ],
   "source": [
    "matrix[2][1]"
   ]
  },
  {
   "cell_type": "code",
   "execution_count": 87,
   "id": "75c97d2f-8f5c-4e73-a5af-5ebc7ef2f414",
   "metadata": {},
   "outputs": [
    {
     "data": {
      "text/plain": [
       "4"
      ]
     },
     "execution_count": 87,
     "metadata": {},
     "output_type": "execute_result"
    }
   ],
   "source": [
    "matrix[1][0]"
   ]
  },
  {
   "cell_type": "markdown",
   "id": "9507a05f-5de8-41fc-bd89-d1827e1c0580",
   "metadata": {},
   "source": [
    "# Tuples\n",
    "\n",
    "In Python tuples are very similar to lists, however, unlike lists they are *immutable* meaning they can not be changed and are faster than lists. You would use tuples to present things that shouldn't be changed, such as days of the week, or dates on a calendar. \n",
    "\n",
    "In this section, we will get a brief overview of the following:\n",
    "\n",
    "1. Constructing Tuples\n",
    "2. Immutability\n",
    "3. When to Use Tuples\n",
    "\n",
    "You'll have an intuition of how to use tuples based on what you've learned about lists. We can treat them very similarly with the major distinction being that tuples are immutable.\n",
    "\n",
    "## 1) Constructing Tuples\n",
    "\n",
    "The construction of a tuples use () with elements separated by commas. For example:"
   ]
  },
  {
   "cell_type": "code",
   "execution_count": 88,
   "id": "5c772d73-215c-488a-a409-c6ff40bce3d8",
   "metadata": {},
   "outputs": [],
   "source": [
    "t= (1,2,3)"
   ]
  },
  {
   "cell_type": "code",
   "execution_count": 89,
   "id": "fef22b0d-3ca8-4824-8c5e-c8fc5e8c93c7",
   "metadata": {},
   "outputs": [
    {
     "data": {
      "text/plain": [
       "tuple"
      ]
     },
     "execution_count": 89,
     "metadata": {},
     "output_type": "execute_result"
    }
   ],
   "source": [
    "type(t)"
   ]
  },
  {
   "cell_type": "code",
   "execution_count": 91,
   "id": "82cc9461-420c-4867-8501-b009f95e583d",
   "metadata": {},
   "outputs": [],
   "source": [
    "t1= 1,2,3"
   ]
  },
  {
   "cell_type": "code",
   "execution_count": 92,
   "id": "0c215d47-6b79-4cf4-9e5d-ac4660ddebf0",
   "metadata": {},
   "outputs": [
    {
     "data": {
      "text/plain": [
       "tuple"
      ]
     },
     "execution_count": 92,
     "metadata": {},
     "output_type": "execute_result"
    }
   ],
   "source": [
    "type(t1)"
   ]
  },
  {
   "cell_type": "code",
   "execution_count": 93,
   "id": "b02595f2-d1b5-4e54-bc67-ebcc91077bdd",
   "metadata": {},
   "outputs": [],
   "source": [
    "t1= (1,1,3,4,5,6)"
   ]
  },
  {
   "cell_type": "code",
   "execution_count": 94,
   "id": "c47f7664-761c-43b3-808b-7f192c0c5c22",
   "metadata": {},
   "outputs": [
    {
     "data": {
      "text/plain": [
       "2"
      ]
     },
     "execution_count": 94,
     "metadata": {},
     "output_type": "execute_result"
    }
   ],
   "source": [
    "t1.count(1)"
   ]
  },
  {
   "cell_type": "code",
   "execution_count": 95,
   "id": "ef169c17-81ec-4f7d-a823-cd352c17a5cf",
   "metadata": {},
   "outputs": [
    {
     "data": {
      "text/plain": [
       "6"
      ]
     },
     "execution_count": 95,
     "metadata": {},
     "output_type": "execute_result"
    }
   ],
   "source": [
    "t1[-1]"
   ]
  },
  {
   "cell_type": "markdown",
   "id": "dcc58dc7-3fbe-43d6-9bcc-d97a4e36f810",
   "metadata": {},
   "source": [
    "## 2) Immutability\n",
    "\n",
    "It can't be stressed enough that tuples are immutable. To drive that point home:"
   ]
  },
  {
   "cell_type": "code",
   "execution_count": 96,
   "id": "88a284de-b013-4cf0-a19d-be4d9bfb7507",
   "metadata": {},
   "outputs": [
    {
     "ename": "TypeError",
     "evalue": "'tuple' object does not support item assignment",
     "output_type": "error",
     "traceback": [
      "\u001b[1;31m---------------------------------------------------------------------------\u001b[0m",
      "\u001b[1;31mTypeError\u001b[0m                                 Traceback (most recent call last)",
      "Cell \u001b[1;32mIn[96], line 1\u001b[0m\n\u001b[1;32m----> 1\u001b[0m \u001b[43mt1\u001b[49m\u001b[43m[\u001b[49m\u001b[38;5;241;43m0\u001b[39;49m\u001b[43m]\u001b[49m \u001b[38;5;241m=\u001b[39m \u001b[38;5;124m'\u001b[39m\u001b[38;5;124mChange\u001b[39m\u001b[38;5;124m'\u001b[39m\n",
      "\u001b[1;31mTypeError\u001b[0m: 'tuple' object does not support item assignment"
     ]
    }
   ],
   "source": [
    "t1[0] = 'Change'"
   ]
  },
  {
   "cell_type": "code",
   "execution_count": 97,
   "id": "bc25d544-95e8-4002-a02a-5261caee67ea",
   "metadata": {},
   "outputs": [
    {
     "ename": "AttributeError",
     "evalue": "'tuple' object has no attribute 'append'",
     "output_type": "error",
     "traceback": [
      "\u001b[1;31m---------------------------------------------------------------------------\u001b[0m",
      "\u001b[1;31mAttributeError\u001b[0m                            Traceback (most recent call last)",
      "Cell \u001b[1;32mIn[97], line 1\u001b[0m\n\u001b[1;32m----> 1\u001b[0m \u001b[43mt1\u001b[49m\u001b[38;5;241;43m.\u001b[39;49m\u001b[43mappend\u001b[49m(\u001b[38;5;124m'\u001b[39m\u001b[38;5;124mnew\u001b[39m\u001b[38;5;124m'\u001b[39m)\n",
      "\u001b[1;31mAttributeError\u001b[0m: 'tuple' object has no attribute 'append'"
     ]
    }
   ],
   "source": [
    "t1.append('new')"
   ]
  },
  {
   "cell_type": "code",
   "execution_count": 98,
   "id": "9c2626ec-7c2c-4230-aab4-feaaaa2d5bf8",
   "metadata": {},
   "outputs": [],
   "source": [
    "word = 'hello world'\n"
   ]
  },
  {
   "cell_type": "code",
   "execution_count": 101,
   "id": "6e0bd1d0-0891-4be3-aefa-191ca994f9e3",
   "metadata": {},
   "outputs": [
    {
     "ename": "TypeError",
     "evalue": "'str' object does not support item assignment",
     "output_type": "error",
     "traceback": [
      "\u001b[1;31m---------------------------------------------------------------------------\u001b[0m",
      "\u001b[1;31mTypeError\u001b[0m                                 Traceback (most recent call last)",
      "Cell \u001b[1;32mIn[101], line 1\u001b[0m\n\u001b[1;32m----> 1\u001b[0m \u001b[43mword\u001b[49m\u001b[43m[\u001b[49m\u001b[38;5;241;43m0\u001b[39;49m\u001b[43m]\u001b[49m \u001b[38;5;241m=\u001b[39m \u001b[38;5;124m'\u001b[39m\u001b[38;5;124mH\u001b[39m\u001b[38;5;124m'\u001b[39m\n",
      "\u001b[1;31mTypeError\u001b[0m: 'str' object does not support item assignment"
     ]
    }
   ],
   "source": [
    "word[0] = 'H'"
   ]
  },
  {
   "cell_type": "code",
   "execution_count": 102,
   "id": "7bcf8c86-7fc3-4a94-a346-d5fe0feb48f6",
   "metadata": {},
   "outputs": [
    {
     "data": {
      "text/plain": [
       "'Hello world'"
      ]
     },
     "execution_count": 102,
     "metadata": {},
     "output_type": "execute_result"
    }
   ],
   "source": [
    "\"H\" + word[1:]"
   ]
  },
  {
   "cell_type": "markdown",
   "id": "646bb6ef-60ab-405d-80b6-896f22873837",
   "metadata": {},
   "source": [
    "# Sets\n",
    "\n",
    "Sets are an unordered collection of *unique* elements. We can construct them by using the set() function. Let's go ahead and make a set to see how it works\n",
    "\n",
    "1. Create Sets from scratch\n",
    "2. Create Sets from Lists\n",
    "3. Add, Delete values from Set\n",
    "4. Set Methods\n"
   ]
  },
  {
   "cell_type": "code",
   "execution_count": 103,
   "id": "6977c9a0-3541-456e-a0a3-9f43b51775d1",
   "metadata": {},
   "outputs": [],
   "source": [
    "x = {2,3,4}"
   ]
  },
  {
   "cell_type": "code",
   "execution_count": 104,
   "id": "fb915dc7-2af1-48cb-b413-fc037219097b",
   "metadata": {},
   "outputs": [
    {
     "data": {
      "text/plain": [
       "set"
      ]
     },
     "execution_count": 104,
     "metadata": {},
     "output_type": "execute_result"
    }
   ],
   "source": [
    "type(x)"
   ]
  },
  {
   "cell_type": "code",
   "execution_count": 105,
   "id": "ac388492-0d92-40ed-bd45-73d8a55511d2",
   "metadata": {},
   "outputs": [
    {
     "name": "stdout",
     "output_type": "stream",
     "text": [
      "{2, 3, 4}\n"
     ]
    }
   ],
   "source": [
    "print(x)"
   ]
  },
  {
   "cell_type": "code",
   "execution_count": 106,
   "id": "22c123f8-85b7-43aa-b148-7183db493cd7",
   "metadata": {},
   "outputs": [],
   "source": [
    "# Create a list with repeats\n",
    "list1 = [1,1,2,2,3,4,5,6,1,1]"
   ]
  },
  {
   "cell_type": "code",
   "execution_count": 107,
   "id": "c992348a-68f1-49cf-8c1e-c3e677d87f28",
   "metadata": {},
   "outputs": [],
   "source": [
    "x= set(list1)"
   ]
  },
  {
   "cell_type": "code",
   "execution_count": 108,
   "id": "4f0c18ef-8395-48e3-92a1-a613a210ab3b",
   "metadata": {},
   "outputs": [
    {
     "data": {
      "text/plain": [
       "{1, 2, 3, 4, 5, 6}"
      ]
     },
     "execution_count": 108,
     "metadata": {},
     "output_type": "execute_result"
    }
   ],
   "source": [
    "x"
   ]
  },
  {
   "cell_type": "code",
   "execution_count": 109,
   "id": "c3645a39-9d03-4bd3-bce8-09ae475a3787",
   "metadata": {},
   "outputs": [],
   "source": [
    "x.add(1)"
   ]
  },
  {
   "cell_type": "code",
   "execution_count": 110,
   "id": "a109114a-50cf-4597-9cb5-ca9105b73115",
   "metadata": {},
   "outputs": [
    {
     "data": {
      "text/plain": [
       "{1, 2, 3, 4, 5, 6}"
      ]
     },
     "execution_count": 110,
     "metadata": {},
     "output_type": "execute_result"
    }
   ],
   "source": [
    "x"
   ]
  },
  {
   "cell_type": "code",
   "execution_count": 111,
   "id": "6febdb76-f174-4e54-8ae6-abc3a7b8b22c",
   "metadata": {},
   "outputs": [],
   "source": [
    "x.add(10)"
   ]
  },
  {
   "cell_type": "code",
   "execution_count": 112,
   "id": "c45da22e-3a1e-4f93-8546-c4778baf860e",
   "metadata": {},
   "outputs": [
    {
     "data": {
      "text/plain": [
       "{1, 2, 3, 4, 5, 6, 10}"
      ]
     },
     "execution_count": 112,
     "metadata": {},
     "output_type": "execute_result"
    }
   ],
   "source": [
    "x"
   ]
  },
  {
   "cell_type": "markdown",
   "id": "f3916f9e-7e9e-4d15-86f4-8300459098ed",
   "metadata": {},
   "source": [
    "delete"
   ]
  },
  {
   "cell_type": "code",
   "execution_count": 114,
   "id": "a209d908-eeb7-4474-93d4-21bd58302ce5",
   "metadata": {},
   "outputs": [],
   "source": [
    "x.discard(3)"
   ]
  },
  {
   "cell_type": "code",
   "execution_count": 115,
   "id": "a95c4883-24ec-4f3e-b5e5-84ccfc72f4b1",
   "metadata": {},
   "outputs": [
    {
     "data": {
      "text/plain": [
       "{1, 2, 4, 5, 6, 10}"
      ]
     },
     "execution_count": 115,
     "metadata": {},
     "output_type": "execute_result"
    }
   ],
   "source": [
    "x"
   ]
  },
  {
   "cell_type": "code",
   "execution_count": 116,
   "id": "0ccb2892-6295-4c88-a651-21a7536386d8",
   "metadata": {},
   "outputs": [],
   "source": [
    "x.remove(1)"
   ]
  },
  {
   "cell_type": "code",
   "execution_count": 117,
   "id": "7b940bc5-4861-47bd-b542-9dafdc095cda",
   "metadata": {},
   "outputs": [
    {
     "data": {
      "text/plain": [
       "{2, 4, 5, 6, 10}"
      ]
     },
     "execution_count": 117,
     "metadata": {},
     "output_type": "execute_result"
    }
   ],
   "source": [
    "x"
   ]
  },
  {
   "cell_type": "code",
   "execution_count": 118,
   "id": "afacc980-c31b-49b3-82e2-7b42e52fed43",
   "metadata": {},
   "outputs": [],
   "source": [
    "x.discard(3)"
   ]
  },
  {
   "cell_type": "code",
   "execution_count": 119,
   "id": "8d225186-b994-46ed-abe8-d837076d4c99",
   "metadata": {},
   "outputs": [
    {
     "data": {
      "text/plain": [
       "{2, 4, 5, 6, 10}"
      ]
     },
     "execution_count": 119,
     "metadata": {},
     "output_type": "execute_result"
    }
   ],
   "source": [
    "x"
   ]
  },
  {
   "cell_type": "code",
   "execution_count": 120,
   "id": "13131d5e-0f07-48e0-aba8-fd5d002556f6",
   "metadata": {},
   "outputs": [
    {
     "ename": "KeyError",
     "evalue": "1",
     "output_type": "error",
     "traceback": [
      "\u001b[1;31m---------------------------------------------------------------------------\u001b[0m",
      "\u001b[1;31mKeyError\u001b[0m                                  Traceback (most recent call last)",
      "Cell \u001b[1;32mIn[120], line 1\u001b[0m\n\u001b[1;32m----> 1\u001b[0m \u001b[43mx\u001b[49m\u001b[38;5;241;43m.\u001b[39;49m\u001b[43mremove\u001b[49m\u001b[43m(\u001b[49m\u001b[38;5;241;43m1\u001b[39;49m\u001b[43m)\u001b[49m\n",
      "\u001b[1;31mKeyError\u001b[0m: 1"
     ]
    }
   ],
   "source": [
    "x.remove(1)"
   ]
  },
  {
   "cell_type": "code",
   "execution_count": 121,
   "id": "abfa0028-e6e1-4e76-9b12-035824b632f1",
   "metadata": {},
   "outputs": [],
   "source": [
    "x = {2, 3, 4}\n",
    "y = {3, 5, 2, 7}"
   ]
  },
  {
   "cell_type": "code",
   "execution_count": 122,
   "id": "71ff5192-6154-4504-b17f-34f9e9cf13e1",
   "metadata": {},
   "outputs": [
    {
     "data": {
      "text/plain": [
       "{2, 3, 4, 5, 7}"
      ]
     },
     "execution_count": 122,
     "metadata": {},
     "output_type": "execute_result"
    }
   ],
   "source": [
    "x.union(y)"
   ]
  },
  {
   "cell_type": "code",
   "execution_count": 123,
   "id": "7cb2f831-2ffd-4e95-9856-7b1f5f3f67dc",
   "metadata": {},
   "outputs": [
    {
     "data": {
      "text/plain": [
       "{2, 3}"
      ]
     },
     "execution_count": 123,
     "metadata": {},
     "output_type": "execute_result"
    }
   ],
   "source": [
    "x.intersection(y)"
   ]
  },
  {
   "cell_type": "code",
   "execution_count": 125,
   "id": "e4afc57b-ece8-4b0d-a4b9-463ec914362c",
   "metadata": {},
   "outputs": [
    {
     "data": {
      "text/plain": [
       "{5, 7}"
      ]
     },
     "execution_count": 125,
     "metadata": {},
     "output_type": "execute_result"
    }
   ],
   "source": [
    "y.difference(x)"
   ]
  },
  {
   "cell_type": "code",
   "execution_count": 134,
   "id": "0baebfb7-ce63-4ad8-9bd0-7c70a579fe70",
   "metadata": {},
   "outputs": [],
   "source": [
    "x={1,2,3,4,5,6}"
   ]
  },
  {
   "cell_type": "code",
   "execution_count": 135,
   "id": "fefe385c-4a8d-46b5-89c4-f3bef350f7cf",
   "metadata": {},
   "outputs": [
    {
     "data": {
      "text/plain": [
       "1"
      ]
     },
     "execution_count": 135,
     "metadata": {},
     "output_type": "execute_result"
    }
   ],
   "source": [
    "x.pop()"
   ]
  },
  {
   "cell_type": "code",
   "execution_count": 138,
   "id": "3d86a8c8-2df0-4b15-921e-06bea2783f70",
   "metadata": {},
   "outputs": [],
   "source": [
    "x.update([10,20,30])"
   ]
  },
  {
   "cell_type": "code",
   "execution_count": 139,
   "id": "74080904-74ad-441c-be59-c8e53e8ff8ff",
   "metadata": {},
   "outputs": [
    {
     "data": {
      "text/plain": [
       "{1, 2, 3, 4, 5, 6, 10, 20, 30}"
      ]
     },
     "execution_count": 139,
     "metadata": {},
     "output_type": "execute_result"
    }
   ],
   "source": [
    "x"
   ]
  },
  {
   "cell_type": "markdown",
   "id": "60fd8011-100c-4580-87ef-9b62b3f0ed45",
   "metadata": {},
   "source": [
    "# Dictionaries\n",
    "\n",
    "We've been learning about *sequences* in Python but now we're going to switch gears and learn about *mappings* in Python. If you're familiar with other languages you can think of these Dictionaries as hash tables. \n",
    "\n",
    "This section will serve as a brief introduction to dictionaries and consist of:\n",
    "\n",
    "1. Constructing a Dictionary\n",
    "2. Accessing, Inserting, Updating and Deleting objects in a dictionary\n",
    "3. Nesting Dictionaries\n",
    "4. Dictionary Methods\n",
    "\n",
    "So what are mappings? Mappings are a collection of objects that are stored by a *key*, unlike a sequence that stored objects by their relative position. This is an important distinction, since mappings won't retain order since they have objects defined by a key.\n",
    "\n",
    "A Python dictionary consists of a key and then an associated value. That value can be almost any Python object.\n",
    "\n",
    "\n",
    "## 1) Constructing a Dictionary\n",
    "Let's see how we can construct dictionaries to get a better understanding of how they work!"
   ]
  },
  {
   "cell_type": "code",
   "execution_count": 144,
   "id": "51eda05f-06a9-4f78-ac84-7c1bc4c80a28",
   "metadata": {},
   "outputs": [],
   "source": [
    "my_dict = {'key1':'value', 'key2': 'value'}"
   ]
  },
  {
   "cell_type": "code",
   "execution_count": 145,
   "id": "bb7ce0d6-dc23-464e-a544-86873bfdaef0",
   "metadata": {},
   "outputs": [
    {
     "data": {
      "text/plain": [
       "{'key1': 'value', 'key2': 'value'}"
      ]
     },
     "execution_count": 145,
     "metadata": {},
     "output_type": "execute_result"
    }
   ],
   "source": [
    "my_dict"
   ]
  },
  {
   "cell_type": "code",
   "execution_count": 148,
   "id": "379121ad-b0e6-475f-ab73-8339188d1385",
   "metadata": {},
   "outputs": [],
   "source": [
    "store= {'oranges': 10, 'apples': 8}"
   ]
  },
  {
   "cell_type": "code",
   "execution_count": 149,
   "id": "30fb3dd6-5d7d-4ac3-ae94-23c7eef03da1",
   "metadata": {},
   "outputs": [
    {
     "data": {
      "text/plain": [
       "{'oranges': 10, 'apples': 8}"
      ]
     },
     "execution_count": 149,
     "metadata": {},
     "output_type": "execute_result"
    }
   ],
   "source": [
    "store"
   ]
  },
  {
   "cell_type": "code",
   "execution_count": 150,
   "id": "e1e474ca-a160-4aad-b75f-122d8ddee700",
   "metadata": {},
   "outputs": [
    {
     "data": {
      "text/plain": [
       "dict"
      ]
     },
     "execution_count": 150,
     "metadata": {},
     "output_type": "execute_result"
    }
   ],
   "source": [
    "type(store)"
   ]
  },
  {
   "cell_type": "code",
   "execution_count": 151,
   "id": "0208f70f-c816-49c8-8910-1aeee92b6d99",
   "metadata": {},
   "outputs": [
    {
     "data": {
      "text/plain": [
       "10"
      ]
     },
     "execution_count": 151,
     "metadata": {},
     "output_type": "execute_result"
    }
   ],
   "source": [
    "store['oranges']"
   ]
  },
  {
   "cell_type": "code",
   "execution_count": 152,
   "id": "5fe07371-ad19-4097-9832-db421da71671",
   "metadata": {},
   "outputs": [],
   "source": [
    "my_dict2= {'key1': 123, 'key2': [1,2,3], 'key3': ['item1','item2'],'key4': {'A': 10, \"b\": 100}}"
   ]
  },
  {
   "cell_type": "code",
   "execution_count": 153,
   "id": "c050fee1-aa48-4acc-a9ed-a3289f8045bb",
   "metadata": {},
   "outputs": [
    {
     "data": {
      "text/plain": [
       "{'key1': 123,\n",
       " 'key2': [1, 2, 3],\n",
       " 'key3': ['item1', 'item2'],\n",
       " 'key4': {'A': 10, 'b': 100}}"
      ]
     },
     "execution_count": 153,
     "metadata": {},
     "output_type": "execute_result"
    }
   ],
   "source": [
    "my_dict2"
   ]
  },
  {
   "cell_type": "markdown",
   "id": "e0a5fe77-58b4-449e-9e75-31498ba26777",
   "metadata": {},
   "source": [
    "## 2) Accessing, Inserting, Updating and Deleting objects in a dictionary"
   ]
  },
  {
   "cell_type": "code",
   "execution_count": 154,
   "id": "6ff8bb28-d675-4eb7-8d0f-a73c71ac5488",
   "metadata": {},
   "outputs": [
    {
     "data": {
      "text/plain": [
       "['item1', 'item2']"
      ]
     },
     "execution_count": 154,
     "metadata": {},
     "output_type": "execute_result"
    }
   ],
   "source": [
    "my_dict2['key3']"
   ]
  },
  {
   "cell_type": "code",
   "execution_count": 156,
   "id": "f909540c-e005-421d-b06b-282d936df913",
   "metadata": {},
   "outputs": [
    {
     "data": {
      "text/plain": [
       "130"
      ]
     },
     "execution_count": 156,
     "metadata": {},
     "output_type": "execute_result"
    }
   ],
   "source": [
    "my_dict2['key1'] + 7"
   ]
  },
  {
   "cell_type": "code",
   "execution_count": 160,
   "id": "630dab84-c9ba-4985-9bb0-5fa12f94905c",
   "metadata": {},
   "outputs": [
    {
     "data": {
      "text/plain": [
       "7"
      ]
     },
     "execution_count": 160,
     "metadata": {},
     "output_type": "execute_result"
    }
   ],
   "source": [
    "store['apples'] - 1"
   ]
  },
  {
   "cell_type": "code",
   "execution_count": 162,
   "id": "80a4c973-1061-40fd-9b79-37cafe216410",
   "metadata": {},
   "outputs": [],
   "source": [
    "store['apples']= store['apples'] - 1"
   ]
  },
  {
   "cell_type": "code",
   "execution_count": 164,
   "id": "0a85ab63-9931-42c4-9fa9-1acd7097af4f",
   "metadata": {},
   "outputs": [
    {
     "data": {
      "text/plain": [
       "7"
      ]
     },
     "execution_count": 164,
     "metadata": {},
     "output_type": "execute_result"
    }
   ],
   "source": [
    "store['apples'] "
   ]
  },
  {
   "cell_type": "code",
   "execution_count": 166,
   "id": "ffd5c930-866a-4143-87cf-8f8aa15410be",
   "metadata": {},
   "outputs": [],
   "source": [
    "store['apples'] = store['apples'] + 10 "
   ]
  },
  {
   "cell_type": "code",
   "execution_count": 167,
   "id": "b21d796a-86ad-47f7-8c35-05b5daafff77",
   "metadata": {},
   "outputs": [
    {
     "data": {
      "text/plain": [
       "17"
      ]
     },
     "execution_count": 167,
     "metadata": {},
     "output_type": "execute_result"
    }
   ],
   "source": [
    "store['apples']"
   ]
  },
  {
   "cell_type": "code",
   "execution_count": 172,
   "id": "7fa6f4ba-a464-44f8-8388-f262ef4f3e14",
   "metadata": {},
   "outputs": [
    {
     "data": {
      "text/plain": [
       "list"
      ]
     },
     "execution_count": 172,
     "metadata": {},
     "output_type": "execute_result"
    }
   ],
   "source": [
    "type(my_dict2['key3'])"
   ]
  },
  {
   "cell_type": "code",
   "execution_count": 174,
   "id": "33defb95-3485-40f7-874b-23067edfb7af",
   "metadata": {},
   "outputs": [
    {
     "data": {
      "text/plain": [
       "dict"
      ]
     },
     "execution_count": 174,
     "metadata": {},
     "output_type": "execute_result"
    }
   ],
   "source": [
    "type(my_dict2['key4'])"
   ]
  },
  {
   "cell_type": "code",
   "execution_count": 175,
   "id": "efa3f072-4db9-4c06-850f-913569046ce9",
   "metadata": {},
   "outputs": [
    {
     "data": {
      "text/plain": [
       "10"
      ]
     },
     "execution_count": 175,
     "metadata": {},
     "output_type": "execute_result"
    }
   ],
   "source": [
    "my_dict2['key4']['A']"
   ]
  },
  {
   "cell_type": "code",
   "execution_count": 176,
   "id": "d0481dac-7617-422a-b59d-52676b4c27bf",
   "metadata": {},
   "outputs": [
    {
     "data": {
      "text/plain": [
       "100"
      ]
     },
     "execution_count": 176,
     "metadata": {},
     "output_type": "execute_result"
    }
   ],
   "source": [
    "my_dict2['key4']['b']"
   ]
  },
  {
   "cell_type": "code",
   "execution_count": 178,
   "id": "ac02a29a-9608-48ed-944d-d964136ff644",
   "metadata": {},
   "outputs": [
    {
     "data": {
      "text/plain": [
       "str"
      ]
     },
     "execution_count": 178,
     "metadata": {},
     "output_type": "execute_result"
    }
   ],
   "source": [
    "type(my_dict2['key3'][0])"
   ]
  },
  {
   "cell_type": "code",
   "execution_count": 179,
   "id": "dc1fd0fd-a740-484b-9070-f92bc30b03fb",
   "metadata": {},
   "outputs": [
    {
     "data": {
      "text/plain": [
       "'ITEM1'"
      ]
     },
     "execution_count": 179,
     "metadata": {},
     "output_type": "execute_result"
    }
   ],
   "source": [
    "my_dict2['key3'][0].upper()"
   ]
  },
  {
   "cell_type": "code",
   "execution_count": 180,
   "id": "b9f3aa0e-19f7-4ce1-ab0a-2794e479f70a",
   "metadata": {},
   "outputs": [
    {
     "data": {
      "text/plain": [
       "'item1'"
      ]
     },
     "execution_count": 180,
     "metadata": {},
     "output_type": "execute_result"
    }
   ],
   "source": [
    "my_dict2['key3'][0].lower()"
   ]
  },
  {
   "cell_type": "code",
   "execution_count": 181,
   "id": "4523fe32-e2e4-4f62-b034-c4780ed6f330",
   "metadata": {},
   "outputs": [],
   "source": [
    "my_dict2['new_key'] = 'Ahmed'"
   ]
  },
  {
   "cell_type": "code",
   "execution_count": 182,
   "id": "106cb711-1c90-4882-a8aa-56fa3c63297b",
   "metadata": {},
   "outputs": [
    {
     "data": {
      "text/plain": [
       "{'key1': 123,\n",
       " 'key2': [1, 2, 3],\n",
       " 'key3': ['item1', 'item2'],\n",
       " 'key4': {'A': 10, 'b': 100},\n",
       " 'new_key': 'Ahmed'}"
      ]
     },
     "execution_count": 182,
     "metadata": {},
     "output_type": "execute_result"
    }
   ],
   "source": [
    "my_dict2"
   ]
  },
  {
   "cell_type": "code",
   "execution_count": 183,
   "id": "b235f379-b113-4f7c-ad42-99e32857c389",
   "metadata": {},
   "outputs": [],
   "source": [
    "d= {}"
   ]
  },
  {
   "cell_type": "code",
   "execution_count": 184,
   "id": "ca60c3c6-c63f-49b5-9a78-f786e1996a4e",
   "metadata": {},
   "outputs": [],
   "source": [
    "# Create a new key through assignment\n",
    "d['answer'] = 41"
   ]
  },
  {
   "cell_type": "code",
   "execution_count": 185,
   "id": "1c3d7495-3731-473d-b838-6d9d92d0b7d9",
   "metadata": {},
   "outputs": [
    {
     "data": {
      "text/plain": [
       "{'answer': 41}"
      ]
     },
     "execution_count": 185,
     "metadata": {},
     "output_type": "execute_result"
    }
   ],
   "source": [
    "d"
   ]
  },
  {
   "cell_type": "markdown",
   "id": "51ec4414-4639-4c8c-b076-a8d9645b0fd7",
   "metadata": {},
   "source": [
    "### Update"
   ]
  },
  {
   "cell_type": "code",
   "execution_count": 186,
   "id": "e951a7a5-48cf-4b4d-9dad-814a82c24973",
   "metadata": {},
   "outputs": [],
   "source": [
    "d['answer'] =1000"
   ]
  },
  {
   "cell_type": "code",
   "execution_count": 187,
   "id": "d779ee98-da12-48eb-b78b-ea947fa2b2f7",
   "metadata": {},
   "outputs": [
    {
     "data": {
      "text/plain": [
       "{'answer': 1000}"
      ]
     },
     "execution_count": 187,
     "metadata": {},
     "output_type": "execute_result"
    }
   ],
   "source": [
    "d"
   ]
  },
  {
   "cell_type": "markdown",
   "id": "ad472303-0a82-4129-be00-1a6f5116214d",
   "metadata": {},
   "source": [
    "### Delete"
   ]
  },
  {
   "cell_type": "code",
   "execution_count": 188,
   "id": "27dc2813-ba92-40d5-85d9-4f22251af632",
   "metadata": {},
   "outputs": [
    {
     "data": {
      "text/plain": [
       "{'key1': 123, 'key2': [12, 23, 33], 'key3': ['item0', 'item1', 'item2']}"
      ]
     },
     "execution_count": 188,
     "metadata": {},
     "output_type": "execute_result"
    }
   ],
   "source": [
    "my_dict = {'key1': 123, 'key2': [12, 23, 33], 'key3': ['item0','item1','item2']}\n",
    "my_dict"
   ]
  },
  {
   "cell_type": "code",
   "execution_count": 189,
   "id": "0f67b0b7-b8e3-4a42-9dbd-f7fbb0ab1f39",
   "metadata": {},
   "outputs": [],
   "source": [
    "del my_dict['key1']"
   ]
  },
  {
   "cell_type": "code",
   "execution_count": 190,
   "id": "1eee7ca3-59e6-4bdd-a602-160b6884d198",
   "metadata": {},
   "outputs": [
    {
     "data": {
      "text/plain": [
       "{'key2': [12, 23, 33], 'key3': ['item0', 'item1', 'item2']}"
      ]
     },
     "execution_count": 190,
     "metadata": {},
     "output_type": "execute_result"
    }
   ],
   "source": [
    "my_dict"
   ]
  },
  {
   "cell_type": "code",
   "execution_count": 191,
   "id": "a4c36753-db5e-4664-944b-e7cbc0d6d2ee",
   "metadata": {},
   "outputs": [],
   "source": [
    "del my_dict['key3'][1]"
   ]
  },
  {
   "cell_type": "code",
   "execution_count": 192,
   "id": "95b31a7e-426a-4cd3-9f1b-90066469650c",
   "metadata": {},
   "outputs": [
    {
     "data": {
      "text/plain": [
       "{'key2': [12, 23, 33], 'key3': ['item0', 'item2']}"
      ]
     },
     "execution_count": 192,
     "metadata": {},
     "output_type": "execute_result"
    }
   ],
   "source": [
    "my_dict"
   ]
  },
  {
   "cell_type": "markdown",
   "id": "d6f21c57-b131-45b0-9567-f2624e4d5184",
   "metadata": {},
   "source": [
    "## 4) Dictionary Methods\n",
    "\n",
    "There are a few methods we can call on a dictionary, check also other dictionary methods\n",
    "https://www.w3schools.com/python/python_ref_dictionary.asp <br>\n",
    "Let's get a quick introduction to a few of them:"
   ]
  },
  {
   "cell_type": "code",
   "execution_count": 193,
   "id": "8d8cab23-db82-40f2-a7c3-253deac702b6",
   "metadata": {},
   "outputs": [
    {
     "data": {
      "text/plain": [
       "{'key1': 1, 'key2': 2, 'key3': 3}"
      ]
     },
     "execution_count": 193,
     "metadata": {},
     "output_type": "execute_result"
    }
   ],
   "source": [
    "# Create a typical dictionary\n",
    "d = {'key1': 1, 'key2': 2, 'key3': 3}\n",
    "d"
   ]
  },
  {
   "cell_type": "code",
   "execution_count": 194,
   "id": "dc8964d9-7ede-44ca-a7df-4e6ee8dfd6c6",
   "metadata": {},
   "outputs": [
    {
     "data": {
      "text/plain": [
       "3"
      ]
     },
     "execution_count": 194,
     "metadata": {},
     "output_type": "execute_result"
    }
   ],
   "source": [
    "d['key3']"
   ]
  },
  {
   "cell_type": "code",
   "execution_count": 195,
   "id": "27d73a12-fdab-4565-88c7-6204aec9d061",
   "metadata": {},
   "outputs": [
    {
     "data": {
      "text/plain": [
       "3"
      ]
     },
     "execution_count": 195,
     "metadata": {},
     "output_type": "execute_result"
    }
   ],
   "source": [
    "d.get('key3')"
   ]
  },
  {
   "cell_type": "code",
   "execution_count": 196,
   "id": "8cb92e67-2657-46de-b0fb-699c9fd45684",
   "metadata": {},
   "outputs": [
    {
     "data": {
      "text/plain": [
       "dict_keys(['key1', 'key2', 'key3'])"
      ]
     },
     "execution_count": 196,
     "metadata": {},
     "output_type": "execute_result"
    }
   ],
   "source": [
    "d.keys()"
   ]
  },
  {
   "cell_type": "code",
   "execution_count": 197,
   "id": "45802db0-54b3-4c0c-9de6-622b29b338f6",
   "metadata": {},
   "outputs": [
    {
     "data": {
      "text/plain": [
       "dict_keys"
      ]
     },
     "execution_count": 197,
     "metadata": {},
     "output_type": "execute_result"
    }
   ],
   "source": [
    "type(d.keys())"
   ]
  },
  {
   "cell_type": "code",
   "execution_count": 198,
   "id": "ff99d8e4-8e29-433b-b0b3-71e3e4744681",
   "metadata": {},
   "outputs": [
    {
     "data": {
      "text/plain": [
       "['key1', 'key2', 'key3']"
      ]
     },
     "execution_count": 198,
     "metadata": {},
     "output_type": "execute_result"
    }
   ],
   "source": [
    "list(d.keys())"
   ]
  },
  {
   "cell_type": "code",
   "execution_count": 199,
   "id": "126ff436-a05e-41c0-b19c-780cdf70b50e",
   "metadata": {},
   "outputs": [
    {
     "data": {
      "text/plain": [
       "list"
      ]
     },
     "execution_count": 199,
     "metadata": {},
     "output_type": "execute_result"
    }
   ],
   "source": [
    "type(list(d.keys()))"
   ]
  },
  {
   "cell_type": "code",
   "execution_count": 201,
   "id": "503ff2bb-3c84-4fcc-9e79-89a558c859a0",
   "metadata": {},
   "outputs": [
    {
     "data": {
      "text/plain": [
       "[1, 2, 3]"
      ]
     },
     "execution_count": 201,
     "metadata": {},
     "output_type": "execute_result"
    }
   ],
   "source": [
    "list(d.values())"
   ]
  },
  {
   "cell_type": "code",
   "execution_count": 208,
   "id": "2219ad8d-62be-4782-9d73-250044bd5bf8",
   "metadata": {},
   "outputs": [
    {
     "data": {
      "text/plain": [
       "dict_items"
      ]
     },
     "execution_count": 208,
     "metadata": {},
     "output_type": "execute_result"
    }
   ],
   "source": [
    "type(d.items())"
   ]
  },
  {
   "cell_type": "code",
   "execution_count": 209,
   "id": "7ecc9bc8-3de3-4640-ba9d-7e1bfaaa84f5",
   "metadata": {},
   "outputs": [
    {
     "data": {
      "text/plain": [
       "[('key1', 1), ('key2', 2), ('key3', 3)]"
      ]
     },
     "execution_count": 209,
     "metadata": {},
     "output_type": "execute_result"
    }
   ],
   "source": [
    "list(d.items())"
   ]
  },
  {
   "cell_type": "code",
   "execution_count": 204,
   "id": "d469f200-46a4-4719-9971-0082d77dc830",
   "metadata": {},
   "outputs": [],
   "source": [
    "list2= [('key1', 1), ('key2', 2), ('key3', 3)]"
   ]
  },
  {
   "cell_type": "code",
   "execution_count": 205,
   "id": "7f62dbaa-c1d3-4973-80e7-e8baa41965c5",
   "metadata": {},
   "outputs": [
    {
     "data": {
      "text/plain": [
       "list"
      ]
     },
     "execution_count": 205,
     "metadata": {},
     "output_type": "execute_result"
    }
   ],
   "source": [
    "type(list2)"
   ]
  },
  {
   "cell_type": "code",
   "execution_count": 206,
   "id": "628b551c-2095-4e26-937f-a6128a6ac67c",
   "metadata": {},
   "outputs": [
    {
     "data": {
      "text/plain": [
       "{'key1': 1, 'key2': 2, 'key3': 3}"
      ]
     },
     "execution_count": 206,
     "metadata": {},
     "output_type": "execute_result"
    }
   ],
   "source": [
    "dict(list2)"
   ]
  },
  {
   "cell_type": "markdown",
   "id": "63472a77-2913-4c22-8993-ff65f4422682",
   "metadata": {},
   "source": [
    "# if, elif, else Statements\n",
    "\n",
    "<code>if</code> Statements in Python allows us to tell the computer to perform alternative actions based on a certain set of results.\n",
    "\n",
    "Verbally, we can imagine we are telling the computer:\n",
    "\n",
    "\"Hey if this case happens, perform some action\"\n",
    "\n",
    "We can then expand the idea further with <code>elif</code> and <code>else</code> statements, which allow us to tell the computer:\n",
    "\n",
    "\"Hey if this case happens, perform some action. Else, if another case happens, perform some other action. Else, if *none* of the above cases happened, perform this action.\"\n",
    "\n",
    "Let's go ahead and look at the syntax format for <code>if</code> statements to get a better idea of this:\n",
    "\n",
    "    if case1:\n",
    "        perform action1\n",
    "    elif case2:\n",
    "        perform action2\n",
    "    else: \n",
    "        perform action3\n",
    "        "
   ]
  },
  {
   "cell_type": "markdown",
   "id": "649ff3e1-4624-43bc-9447-1abb131b2c79",
   "metadata": {},
   "source": [
    "## 1) `if`, `else` statments\n",
    "\n",
    "Let's see a quick example of this:"
   ]
  },
  {
   "cell_type": "code",
   "execution_count": 210,
   "id": "9aa014d0-9ac1-4ba9-908a-9ef05c58177f",
   "metadata": {},
   "outputs": [
    {
     "data": {
      "text/plain": [
       "False"
      ]
     },
     "execution_count": 210,
     "metadata": {},
     "output_type": "execute_result"
    }
   ],
   "source": [
    "1 > 2 "
   ]
  },
  {
   "cell_type": "code",
   "execution_count": 211,
   "id": "b0e0ee7c-9d5c-442f-b11a-9d2fb158665d",
   "metadata": {},
   "outputs": [
    {
     "data": {
      "text/plain": [
       "True"
      ]
     },
     "execution_count": 211,
     "metadata": {},
     "output_type": "execute_result"
    }
   ],
   "source": [
    "2> 1"
   ]
  },
  {
   "cell_type": "code",
   "execution_count": 213,
   "id": "088b079c-123e-477f-a9c3-915ff55cf740",
   "metadata": {},
   "outputs": [
    {
     "name": "stdout",
     "output_type": "stream",
     "text": [
      "Hello\n",
      "Python\n",
      "Hi\n"
     ]
    }
   ],
   "source": [
    "if True:\n",
    "    print('Hello')\n",
    "    print('Python')\n",
    "\n",
    "print(\"Hi\")"
   ]
  },
  {
   "cell_type": "code",
   "execution_count": 214,
   "id": "3dd00853-8a98-412f-9144-bda9ce38c28b",
   "metadata": {},
   "outputs": [
    {
     "name": "stdout",
     "output_type": "stream",
     "text": [
      "Hi\n"
     ]
    }
   ],
   "source": [
    "if False:\n",
    "    print('Hello')\n",
    "    print('Python')\n",
    "\n",
    "print(\"Hi\")"
   ]
  },
  {
   "cell_type": "code",
   "execution_count": 225,
   "id": "b4d2aeb6-382f-45c7-b992-867ec88a423a",
   "metadata": {},
   "outputs": [
    {
     "name": "stdout",
     "output_type": "stream",
     "text": [
      "X Was False\n"
     ]
    }
   ],
   "source": [
    "x = False\n",
    "\n",
    "if x:\n",
    "    print('x was true')\n",
    "else:\n",
    "    print('X Was False')"
   ]
  },
  {
   "cell_type": "markdown",
   "id": "65de4705-857b-437c-bcc1-e793c80919fa",
   "metadata": {},
   "source": [
    "## 2) Multiple branches with `elif`\n",
    "\n",
    "Let's get a fuller picture of how far <code>if</code>, <code>elif</code>, and <code>else</code> can take us!\n",
    "\n",
    "We write this out in a nested structure. Take note of how the <code>if</code>, <code>elif</code>, and <code>else</code> line up in the code. This can help you see what <code>if</code> is related to what <code>elif</code> or <code>else</code> statements.\n",
    "\n",
    "We'll reintroduce a comparison syntax for Python."
   ]
  },
  {
   "cell_type": "code",
   "execution_count": 4,
   "id": "6bcc2949-b051-4925-a917-bab2033ed3a8",
   "metadata": {},
   "outputs": [
    {
     "name": "stdout",
     "output_type": "stream",
     "text": [
      "welcome to the new loc\n"
     ]
    }
   ],
   "source": [
    "# loc = 'Auto Shop'\n",
    "# loc = 'Bank'\n",
    "# loc = 'Park'\n",
    "# loc = 'Museum'\n",
    "# loc = 'School'\n",
    "loc= 'new loc'\n",
    "\n",
    "if loc == 'Auto Shop':\n",
    "    print('Welcome to Auto Shop')\n",
    "elif loc == 'Bank':\n",
    "    print(f\"welcome to the {loc}\")\n",
    "\n",
    "elif loc == 'Park':\n",
    "    print(f\"welcome to the {loc}\")\n",
    "\n",
    "elif loc == 'Museum':\n",
    "    print(f\"welcome to the {loc}\")\n",
    "\n",
    "elif loc == 'School':\n",
    "    print(f\"welcome to the {loc}\")\n",
    "\n",
    "else:\n",
    "    print(f\"welcome to the {loc}\")"
   ]
  },
  {
   "cell_type": "code",
   "execution_count": 14,
   "id": "e75f0ad4-2fe2-43d0-bf75-5c08866224ef",
   "metadata": {},
   "outputs": [
    {
     "name": "stdin",
     "output_type": "stream",
     "text": [
      " 12\n",
      " /\n",
      " 3\n"
     ]
    },
    {
     "name": "stdout",
     "output_type": "stream",
     "text": [
      " 12 / 3 = 4.0\n"
     ]
    }
   ],
   "source": [
    "x = int(input())\n",
    "op = input()\n",
    "y = int(input())\n",
    "\n",
    "if op == \"+\":\n",
    "    print(f' {x} {op} {y} = {x + y}')\n",
    "elif op == \"-\":\n",
    "    print(f' {x} {op} {y} = {x - y}')\n",
    "elif op == \"*\":\n",
    "    print(f' {x} {op} {y} = {x * y}')\n",
    "elif op == \"/\":\n",
    "    if y == 0:\n",
    "        print('can not divide by zero')\n",
    "    else:\n",
    "        print(f' {x} {op} {y} = {x / y}')\n",
    "\n",
    "else:\n",
    "    print('not defined op')"
   ]
  },
  {
   "cell_type": "markdown",
   "id": "db604494-cfd3-4bc9-b7d1-c15be7719447",
   "metadata": {},
   "source": [
    "## 5) Ternary operator expression"
   ]
  },
  {
   "cell_type": "code",
   "execution_count": 17,
   "id": "321f429f-d6fd-4c14-9725-7ca8178c7666",
   "metadata": {},
   "outputs": [
    {
     "name": "stdout",
     "output_type": "stream",
     "text": [
      "40\n"
     ]
    }
   ],
   "source": [
    "a = 30 \n",
    "b= 40\n",
    "\n",
    "if a > b:\n",
    "    print(a)\n",
    "else:\n",
    "    print(b)"
   ]
  },
  {
   "cell_type": "code",
   "execution_count": 19,
   "id": "519bc86f-dc17-4f36-b289-e9cc271fc35e",
   "metadata": {},
   "outputs": [
    {
     "name": "stdout",
     "output_type": "stream",
     "text": [
      "40\n"
     ]
    }
   ],
   "source": [
    "print( a if a > b else b)"
   ]
  },
  {
   "cell_type": "markdown",
   "id": "14194757-5e3f-47fb-90a4-a00edfb2b31a",
   "metadata": {},
   "source": [
    "# for Loops\n",
    "\n",
    "A <code>for</code> loop acts as an iterator in Python; it goes through items that are in a *sequence* or any other iterable item. Objects that we've learned about that we can iterate over include strings, lists, tuples, and even built-in iterables for dictionaries, such as keys or values.\n",
    "\n",
    "We've already seen the <code>for</code> statement a little bit in past lectures but now let's formalize our understanding.\n",
    "\n",
    "Here's the general format for a <code>for</code> loop in Python:\n",
    "\n",
    "    for item in object:\n",
    "        statements to do stuff\n",
    "        \n",
    "## Table of Contents\n",
    "1. Iterate through Lists\n",
    "2. Iterate through Strings\n",
    "3. Iterate through Tuples\n",
    "4. Tuple Unpacking\n",
    "5. Iterate throuh Dictionaries\n",
    "6. Iterate through Files\n",
    "7. Use `range` to generate numbers.\n",
    "8. Break & Continue\n",
    "9. For-Else\n",
    "10. Nested for loops\n",
    "11. Examples\n",
    "    "
   ]
  },
  {
   "cell_type": "code",
   "execution_count": 38,
   "id": "b7038fea-88cf-4e0c-a3a1-9e219e512123",
   "metadata": {},
   "outputs": [],
   "source": [
    "list1 = list(range(0,101,10))"
   ]
  },
  {
   "cell_type": "code",
   "execution_count": 39,
   "id": "d083a5bf-8b9d-4c5c-b469-d45458939596",
   "metadata": {},
   "outputs": [
    {
     "data": {
      "text/plain": [
       "list"
      ]
     },
     "execution_count": 39,
     "metadata": {},
     "output_type": "execute_result"
    }
   ],
   "source": [
    "type(list1)"
   ]
  },
  {
   "cell_type": "code",
   "execution_count": 40,
   "id": "2c7a8d70-02f1-4b39-845d-189038193972",
   "metadata": {},
   "outputs": [
    {
     "data": {
      "text/plain": [
       "[0, 10, 20, 30, 40, 50, 60, 70, 80, 90, 100]"
      ]
     },
     "execution_count": 40,
     "metadata": {},
     "output_type": "execute_result"
    }
   ],
   "source": [
    "list1"
   ]
  },
  {
   "cell_type": "code",
   "execution_count": 43,
   "id": "291d4a12-4ea3-4d53-aed0-7fca2484ed4c",
   "metadata": {},
   "outputs": [
    {
     "name": "stdout",
     "output_type": "stream",
     "text": [
      "0\n",
      "10\n"
     ]
    }
   ],
   "source": [
    "print(list1[0])\n",
    "print(list1[1])"
   ]
  },
  {
   "cell_type": "code",
   "execution_count": 47,
   "id": "7f518be1-498b-468e-8f33-263daff1e428",
   "metadata": {},
   "outputs": [
    {
     "name": "stdout",
     "output_type": "stream",
     "text": [
      "-5\n",
      "5\n",
      "15\n",
      "25\n",
      "35\n",
      "45\n",
      "55\n",
      "65\n",
      "75\n",
      "85\n",
      "95\n"
     ]
    }
   ],
   "source": [
    "for n in list1:\n",
    "    print(n -5)"
   ]
  },
  {
   "cell_type": "code",
   "execution_count": 48,
   "id": "9cbca575-53b7-4eb9-b000-215cba515a54",
   "metadata": {},
   "outputs": [
    {
     "name": "stdout",
     "output_type": "stream",
     "text": [
      "0\n",
      "100\n",
      "400\n",
      "900\n",
      "1600\n",
      "2500\n",
      "3600\n",
      "4900\n",
      "6400\n",
      "8100\n",
      "10000\n"
     ]
    }
   ],
   "source": [
    "for n in list1:\n",
    "    print(n **2)"
   ]
  },
  {
   "cell_type": "markdown",
   "id": "7a274b14-7a25-440b-ba2d-f83d0ed274fc",
   "metadata": {},
   "source": [
    "Notice that if a number is fully divisible with no remainder, the result of the modulo call is 0. We can use this to test for even numbers, since if a number modulo 2 is equal to 0, that means it is an even number!\n",
    "\n",
    "Back to the <code>for</code> loops!\n",
    "\n",
    "**Let's print only the even numbers from that list!**"
   ]
  },
  {
   "cell_type": "code",
   "execution_count": 50,
   "id": "a50e7727-e15d-4d43-a9e1-9061e2df2808",
   "metadata": {},
   "outputs": [
    {
     "name": "stdout",
     "output_type": "stream",
     "text": [
      "10 is even number\n",
      "201 is odd number\n",
      "305 is odd number\n",
      "402 is even number\n",
      "507 is odd number\n",
      "630 is even number\n",
      "705 is odd number\n",
      "866 is even number\n",
      "943 is odd number\n",
      "1000 is even number\n"
     ]
    }
   ],
   "source": [
    "list1 = [10, 201, 305, 402, 507, 630, 705, 866, 943, 1000]\n",
    "evenlist= []\n",
    "oddlist= []\n",
    "for num in list1:\n",
    "    if num % 2 == 0:\n",
    "        print(f\"{num} is even number\")\n",
    "        evenlist.append(num)\n",
    "    else:\n",
    "        print(f\"{num} is odd number\")\n",
    "        oddlist.append(num)"
   ]
  },
  {
   "cell_type": "code",
   "execution_count": 51,
   "id": "d8cb5f92-5559-4f9f-ad6c-d95eeed2d554",
   "metadata": {},
   "outputs": [
    {
     "data": {
      "text/plain": [
       "[10, 402, 630, 866, 1000]"
      ]
     },
     "execution_count": 51,
     "metadata": {},
     "output_type": "execute_result"
    }
   ],
   "source": [
    "evenlist"
   ]
  },
  {
   "cell_type": "code",
   "execution_count": 52,
   "id": "d33f2b9e-d081-4867-bc89-8b8633ba2eb4",
   "metadata": {},
   "outputs": [
    {
     "data": {
      "text/plain": [
       "[201, 305, 507, 705, 943]"
      ]
     },
     "execution_count": 52,
     "metadata": {},
     "output_type": "execute_result"
    }
   ],
   "source": [
    "oddlist"
   ]
  },
  {
   "cell_type": "code",
   "execution_count": 53,
   "id": "75d544fa-c931-4dd4-9167-853880b1c861",
   "metadata": {},
   "outputs": [],
   "source": [
    "s= 'This is a string.'"
   ]
  },
  {
   "cell_type": "code",
   "execution_count": 57,
   "id": "046e624f-f28c-4870-a0fd-bb755c272625",
   "metadata": {},
   "outputs": [
    {
     "name": "stdout",
     "output_type": "stream",
     "text": [
      "T-H-I-S- -I-S- -A- -S-T-R-I-N-G-.-"
     ]
    }
   ],
   "source": [
    "for letter in s:\n",
    "    print(letter.upper(), end=\"-\")"
   ]
  },
  {
   "cell_type": "code",
   "execution_count": 58,
   "id": "97ba5454-22af-44db-82c2-a1abf0be0012",
   "metadata": {},
   "outputs": [],
   "source": [
    "tup = (1,2,3,4,5)\n"
   ]
  },
  {
   "cell_type": "code",
   "execution_count": 59,
   "id": "c7af452d-c309-4447-ac49-8c80d5462cfe",
   "metadata": {},
   "outputs": [
    {
     "name": "stdout",
     "output_type": "stream",
     "text": [
      "6\n",
      "7\n",
      "8\n",
      "9\n",
      "10\n"
     ]
    }
   ],
   "source": [
    "for value in tup:\n",
    "    print(value + 5)"
   ]
  },
  {
   "cell_type": "markdown",
   "id": "271c92a8-6ca7-4f2e-87f4-99def587f6b4",
   "metadata": {},
   "source": [
    "## 4) Tuple Unpacking\n",
    "Tuples have a special quality when it comes to <code>for</code> loops. If you are iterating through a sequence that contains tuples, the item can actually be the tuple itself, this is an example of *tuple unpacking*. During the <code>for</code> loop we will be unpacking the tuple inside of a sequence and we can access the individual items inside that tuple!"
   ]
  },
  {
   "cell_type": "code",
   "execution_count": 62,
   "id": "e876cba3-f444-4083-81dc-c6a17ba02d53",
   "metadata": {},
   "outputs": [],
   "source": [
    "list2 = [(2,4),(6,8),(10,12)]"
   ]
  },
  {
   "cell_type": "code",
   "execution_count": 65,
   "id": "fb368d80-6ef3-4307-a04c-a9cc59b4b580",
   "metadata": {},
   "outputs": [
    {
     "name": "stdout",
     "output_type": "stream",
     "text": [
      "(2, 4)\n",
      "(6, 8)\n",
      "(10, 12)\n"
     ]
    }
   ],
   "source": [
    "for tup in list2:\n",
    "    print(tup)"
   ]
  },
  {
   "cell_type": "code",
   "execution_count": 67,
   "id": "43826e75-6a8a-43ec-b138-2876677ca597",
   "metadata": {},
   "outputs": [
    {
     "name": "stdout",
     "output_type": "stream",
     "text": [
      "6\n",
      "14\n",
      "22\n"
     ]
    }
   ],
   "source": [
    "for (t1, t2) in list2:\n",
    "    print(t1 + t2)"
   ]
  },
  {
   "cell_type": "code",
   "execution_count": 69,
   "id": "da0ae88e-0721-4637-a1fa-11db92bb4ad6",
   "metadata": {},
   "outputs": [
    {
     "name": "stdout",
     "output_type": "stream",
     "text": [
      "8\n",
      "48\n",
      "120\n"
     ]
    }
   ],
   "source": [
    "for t1, t2 in list2:\n",
    "    print(t1 * t2)"
   ]
  },
  {
   "cell_type": "code",
   "execution_count": 71,
   "id": "08b61391-6d83-4a35-9356-ad36182fd96e",
   "metadata": {},
   "outputs": [
    {
     "name": "stdout",
     "output_type": "stream",
     "text": [
      "2 + 4 + 20 - 30 = -4\n",
      "6 + 8 + 20 - 30 = 4\n",
      "10 + 12 + 20 - 30 = 12\n"
     ]
    }
   ],
   "source": [
    "list2 = [(2,4,20,30),(6,8,20,30),(10,12,20,30)]\n",
    "\n",
    "for t1,t2,t3,t4 in list2:\n",
    "    print(f'{t1} + {t2} + {t3} - {t4} = {t1 +t2+t3-t4}')"
   ]
  },
  {
   "cell_type": "markdown",
   "id": "61cbb8a1-8dff-47b0-a00b-e89f075b5022",
   "metadata": {},
   "source": [
    "## 5) Iterate throuh Dictionaries"
   ]
  },
  {
   "cell_type": "code",
   "execution_count": 72,
   "id": "6e5b0cb1-ea5f-4b11-9d23-f90465c95e0b",
   "metadata": {},
   "outputs": [],
   "source": [
    "d = {'k1':1,'k2':2,'k3':3}"
   ]
  },
  {
   "cell_type": "code",
   "execution_count": 74,
   "id": "8e87c525-4c9b-4890-93e8-dce02345cb90",
   "metadata": {},
   "outputs": [
    {
     "name": "stdout",
     "output_type": "stream",
     "text": [
      "k1\n",
      "k2\n",
      "k3\n"
     ]
    }
   ],
   "source": [
    "for item in d:\n",
    "    print( item)"
   ]
  },
  {
   "cell_type": "code",
   "execution_count": 75,
   "id": "41ebe427-b09b-4b94-b453-942edfe1690a",
   "metadata": {},
   "outputs": [
    {
     "name": "stdout",
     "output_type": "stream",
     "text": [
      "1\n",
      "2\n",
      "3\n"
     ]
    }
   ],
   "source": [
    "for item in d.values():\n",
    "    print( item)"
   ]
  },
  {
   "cell_type": "code",
   "execution_count": 76,
   "id": "09a114e9-28cf-44d6-b821-ae07d1110792",
   "metadata": {},
   "outputs": [
    {
     "name": "stdout",
     "output_type": "stream",
     "text": [
      "the key is: k1 and the value is: 1\n",
      "the key is: k2 and the value is: 2\n",
      "the key is: k3 and the value is: 3\n"
     ]
    }
   ],
   "source": [
    "for x ,y in d.items():\n",
    "    print(f'the key is: {x} and the value is: {y}')"
   ]
  },
  {
   "cell_type": "markdown",
   "id": "ab5ae177-02d1-423e-aaf8-3479de4f4a7d",
   "metadata": {},
   "source": [
    "## 8) Break & Continue"
   ]
  },
  {
   "cell_type": "code",
   "execution_count": 78,
   "id": "070c4245-0413-4c4a-8297-0cc925b394d0",
   "metadata": {},
   "outputs": [
    {
     "name": "stdout",
     "output_type": "stream",
     "text": [
      "10\n",
      "11\n",
      "12 is divideble by 3\n"
     ]
    }
   ],
   "source": [
    "for i in range(10,41):\n",
    "    if i % 3 == 0 :\n",
    "        print(f'{i} is divideble by 3')\n",
    "        break\n",
    "\n",
    "    else:\n",
    "        print(i)"
   ]
  },
  {
   "cell_type": "code",
   "execution_count": 79,
   "id": "0ec6ca52-b7da-44cc-a369-15b134640211",
   "metadata": {},
   "outputs": [
    {
     "name": "stdout",
     "output_type": "stream",
     "text": [
      "10\n",
      "11\n",
      "12 is divideble by 3\n",
      "13\n",
      "14\n",
      "15 is divideble by 3\n",
      "16\n",
      "17\n",
      "18 is divideble by 3\n",
      "19\n",
      "20\n",
      "21 is divideble by 3\n",
      "22\n",
      "23\n",
      "24 is divideble by 3\n",
      "25\n",
      "26\n",
      "27 is divideble by 3\n",
      "28\n",
      "29\n",
      "30 is divideble by 3\n",
      "31\n",
      "32\n",
      "33 is divideble by 3\n",
      "34\n",
      "35\n",
      "36 is divideble by 3\n",
      "37\n",
      "38\n",
      "39 is divideble by 3\n",
      "40\n"
     ]
    }
   ],
   "source": [
    "for i in range(10,41):\n",
    "    if i % 3 == 0 :\n",
    "        print(f'{i} is divideble by 3')\n",
    "        continue\n",
    "\n",
    "    else:\n",
    "        print(i)"
   ]
  },
  {
   "cell_type": "markdown",
   "id": "cc78ab08-4d81-47cf-8fb4-d5398e2e21df",
   "metadata": {},
   "source": [
    "## 9) For-Else"
   ]
  },
  {
   "cell_type": "code",
   "execution_count": 80,
   "id": "dc7a7eb5-676d-4a6d-947c-0edf2cd8a686",
   "metadata": {},
   "outputs": [
    {
     "name": "stdout",
     "output_type": "stream",
     "text": [
      "0\n",
      "1\n",
      "2\n",
      "3\n",
      "4\n",
      "5\n",
      "6\n",
      "7\n",
      "8\n",
      "9\n",
      "no items left\n"
     ]
    }
   ],
   "source": [
    "digit= range(10)\n",
    "for i in digit:\n",
    "    print(i)\n",
    "else:\n",
    "    print('no items left')"
   ]
  },
  {
   "cell_type": "code",
   "execution_count": 82,
   "id": "820cb7cc-5f6c-46af-a038-72b716473fa7",
   "metadata": {},
   "outputs": [
    {
     "name": "stdout",
     "output_type": "stream",
     "text": [
      "Table of 1\n",
      "********************\n",
      "1 * 1 = 1\n",
      "1 * 2 = 2\n",
      "1 * 3 = 3\n",
      "1 * 4 = 4\n",
      "1 * 5 = 5\n",
      "1 * 6 = 6\n",
      "1 * 7 = 7\n",
      "1 * 8 = 8\n",
      "1 * 9 = 9\n",
      "1 * 10 = 10\n",
      "--------------------\n",
      "Table of 2\n",
      "********************\n",
      "2 * 1 = 2\n",
      "2 * 2 = 4\n",
      "2 * 3 = 6\n",
      "2 * 4 = 8\n",
      "2 * 5 = 10\n",
      "2 * 6 = 12\n",
      "2 * 7 = 14\n",
      "2 * 8 = 16\n",
      "2 * 9 = 18\n",
      "2 * 10 = 20\n",
      "--------------------\n",
      "Table of 3\n",
      "********************\n",
      "3 * 1 = 3\n",
      "3 * 2 = 6\n",
      "3 * 3 = 9\n",
      "3 * 4 = 12\n",
      "3 * 5 = 15\n",
      "3 * 6 = 18\n",
      "3 * 7 = 21\n",
      "3 * 8 = 24\n",
      "3 * 9 = 27\n",
      "3 * 10 = 30\n",
      "--------------------\n",
      "Table of 4\n",
      "********************\n",
      "4 * 1 = 4\n",
      "4 * 2 = 8\n",
      "4 * 3 = 12\n",
      "4 * 4 = 16\n",
      "4 * 5 = 20\n",
      "4 * 6 = 24\n",
      "4 * 7 = 28\n",
      "4 * 8 = 32\n",
      "4 * 9 = 36\n",
      "4 * 10 = 40\n",
      "--------------------\n",
      "Table of 5\n",
      "********************\n",
      "5 * 1 = 5\n",
      "5 * 2 = 10\n",
      "5 * 3 = 15\n",
      "5 * 4 = 20\n",
      "5 * 5 = 25\n",
      "5 * 6 = 30\n",
      "5 * 7 = 35\n",
      "5 * 8 = 40\n",
      "5 * 9 = 45\n",
      "5 * 10 = 50\n",
      "--------------------\n",
      "Table of 6\n",
      "********************\n",
      "6 * 1 = 6\n",
      "6 * 2 = 12\n",
      "6 * 3 = 18\n",
      "6 * 4 = 24\n",
      "6 * 5 = 30\n",
      "6 * 6 = 36\n",
      "6 * 7 = 42\n",
      "6 * 8 = 48\n",
      "6 * 9 = 54\n",
      "6 * 10 = 60\n",
      "--------------------\n",
      "Table of 7\n",
      "********************\n",
      "7 * 1 = 7\n",
      "7 * 2 = 14\n",
      "7 * 3 = 21\n",
      "7 * 4 = 28\n",
      "7 * 5 = 35\n",
      "7 * 6 = 42\n",
      "7 * 7 = 49\n",
      "7 * 8 = 56\n",
      "7 * 9 = 63\n",
      "7 * 10 = 70\n",
      "--------------------\n",
      "Table of 8\n",
      "********************\n",
      "8 * 1 = 8\n",
      "8 * 2 = 16\n",
      "8 * 3 = 24\n",
      "8 * 4 = 32\n",
      "8 * 5 = 40\n",
      "8 * 6 = 48\n",
      "8 * 7 = 56\n",
      "8 * 8 = 64\n",
      "8 * 9 = 72\n",
      "8 * 10 = 80\n",
      "--------------------\n",
      "Table of 9\n",
      "********************\n",
      "9 * 1 = 9\n",
      "9 * 2 = 18\n",
      "9 * 3 = 27\n",
      "9 * 4 = 36\n",
      "9 * 5 = 45\n",
      "9 * 6 = 54\n",
      "9 * 7 = 63\n",
      "9 * 8 = 72\n",
      "9 * 9 = 81\n",
      "9 * 10 = 90\n",
      "--------------------\n",
      "Table of 10\n",
      "********************\n",
      "10 * 1 = 10\n",
      "10 * 2 = 20\n",
      "10 * 3 = 30\n",
      "10 * 4 = 40\n",
      "10 * 5 = 50\n",
      "10 * 6 = 60\n",
      "10 * 7 = 70\n",
      "10 * 8 = 80\n",
      "10 * 9 = 90\n",
      "10 * 10 = 100\n",
      "--------------------\n"
     ]
    }
   ],
   "source": [
    "for x in range(1,11):\n",
    "    print(f'Table of {x}')\n",
    "    print(\"*\"* 20)\n",
    "    for y in range(1,11):\n",
    "        print(f\"{x} * {y} = {x * y}\")\n",
    "    print(\"-\" * 20)"
   ]
  },
  {
   "cell_type": "code",
   "execution_count": 83,
   "id": "021203b2-8e2c-490d-8a52-3fb148d6e2e9",
   "metadata": {},
   "outputs": [],
   "source": []
  },
  {
   "cell_type": "code",
   "execution_count": 86,
   "id": "f2289e3f-f21b-492f-a1ef-cfb93bb6ec41",
   "metadata": {},
   "outputs": [
    {
     "name": "stdout",
     "output_type": "stream",
     "text": [
      "5\n",
      "6\n",
      "7\n",
      "8\n",
      "9\n",
      "10\n",
      "11\n",
      "12\n",
      "13\n",
      "14\n"
     ]
    }
   ],
   "source": [
    "x= []\n",
    "for i in range(10):\n",
    "    print(i + 5)\n",
    "    x.append(i + 5)"
   ]
  },
  {
   "cell_type": "code",
   "execution_count": 87,
   "id": "97ddad90-dcf5-4e15-be15-5c33525aa3a0",
   "metadata": {},
   "outputs": [
    {
     "data": {
      "text/plain": [
       "[5, 6, 7, 8, 9, 10, 11, 12, 13, 14]"
      ]
     },
     "execution_count": 87,
     "metadata": {},
     "output_type": "execute_result"
    }
   ],
   "source": [
    "x"
   ]
  },
  {
   "cell_type": "markdown",
   "id": "721c5668-3978-4544-a612-df22fdb09756",
   "metadata": {},
   "source": [
    "# List Comprehension"
   ]
  },
  {
   "cell_type": "code",
   "execution_count": 89,
   "id": "618874b1-8c5a-45f9-b766-bbbfa29018e2",
   "metadata": {},
   "outputs": [],
   "source": [
    "list3 = [i +5 for i in range(10)]"
   ]
  },
  {
   "cell_type": "code",
   "execution_count": 90,
   "id": "b54a7089-3fbd-4d51-a89f-8f05886e5b30",
   "metadata": {},
   "outputs": [
    {
     "data": {
      "text/plain": [
       "[5, 6, 7, 8, 9, 10, 11, 12, 13, 14]"
      ]
     },
     "execution_count": 90,
     "metadata": {},
     "output_type": "execute_result"
    }
   ],
   "source": [
    "list3"
   ]
  },
  {
   "cell_type": "code",
   "execution_count": null,
   "id": "258b2c29-ea40-4c49-8282-fa540d550116",
   "metadata": {},
   "outputs": [],
   "source": []
  }
 ],
 "metadata": {
  "kernelspec": {
   "display_name": "Python 3 (ipykernel)",
   "language": "python",
   "name": "python3"
  },
  "language_info": {
   "codemirror_mode": {
    "name": "ipython",
    "version": 3
   },
   "file_extension": ".py",
   "mimetype": "text/x-python",
   "name": "python",
   "nbconvert_exporter": "python",
   "pygments_lexer": "ipython3",
   "version": "3.12.5"
  }
 },
 "nbformat": 4,
 "nbformat_minor": 5
}
