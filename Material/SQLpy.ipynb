{
 "cells": [
  {
   "cell_type": "code",
   "execution_count": 4,
   "id": "bb87e978",
   "metadata": {},
   "outputs": [
    {
     "name": "stdout",
     "output_type": "stream",
     "text": [
      "Database 'company.db' has been deleted.\n"
     ]
    }
   ],
   "source": [
    "import os\n",
    "\n",
    "# Delete the database file\n",
    "if os.path.exists(\"company.db\"):\n",
    "    os.remove(\"company.db\")\n",
    "    print(\"Database 'company.db' has been deleted.\")\n",
    "else:\n",
    "    print(\"Database 'company.db' does not exist.\")"
   ]
  },
  {
   "cell_type": "code",
   "execution_count": 5,
   "id": "2670cae1",
   "metadata": {},
   "outputs": [],
   "source": [
    "import sqlite3\n",
    "#Create a connection to the SQLite database\n",
    "connection = sqlite3.connect(\"company.db\")\n",
    "cursor = connection.cursor()"
   ]
  },
  {
   "cell_type": "code",
   "execution_count": 7,
   "id": "ad0b16b0",
   "metadata": {},
   "outputs": [
    {
     "data": {
      "text/plain": [
       "<sqlite3.Cursor at 0x1db9dac88c0>"
      ]
     },
     "execution_count": 7,
     "metadata": {},
     "output_type": "execute_result"
    }
   ],
   "source": [
    "# Create tables\n",
    "cursor.execute('''\n",
    "CREATE TABLE IF NOT EXISTS Customer (\n",
    "    id INTEGER PRIMARY KEY AUTOINCREMENT,\n",
    "    name TEXT NOT NULL,\n",
    "    age INTEGER NOT NULL\n",
    ")\n",
    "''')"
   ]
  },
  {
   "cell_type": "code",
   "execution_count": 5,
   "id": "cbb8b9ea",
   "metadata": {},
   "outputs": [
    {
     "data": {
      "text/plain": [
       "<sqlite3.Cursor at 0x21964ac8960>"
      ]
     },
     "execution_count": 5,
     "metadata": {},
     "output_type": "execute_result"
    }
   ],
   "source": [
    "# Insert rows into Customer table\n",
    "customers = [\n",
    "    (\"Alice\", 30),\n",
    "    (\"Bob\", 25),\n",
    "    (\"Charlie\", 35),\n",
    "    (\"Diana\", 28),\n",
    "    (\"Eve\", 40)\n",
    "]\n",
    "cursor.executemany(\"INSERT INTO Customer (name, age) VALUES (?, ?)\", customers)"
   ]
  },
  {
   "cell_type": "code",
   "execution_count": 6,
   "id": "2ddc9d83",
   "metadata": {},
   "outputs": [
    {
     "data": {
      "text/plain": [
       "<sqlite3.Cursor at 0x21964ac8960>"
      ]
     },
     "execution_count": 6,
     "metadata": {},
     "output_type": "execute_result"
    }
   ],
   "source": [
    "cursor.execute('''\n",
    "CREATE TABLE IF NOT EXISTS Supplier (\n",
    "    id INTEGER PRIMARY KEY AUTOINCREMENT,\n",
    "    name TEXT NOT NULL,\n",
    "    age INTEGER NOT NULL\n",
    ")\n",
    "''')"
   ]
  },
  {
   "cell_type": "code",
   "execution_count": 7,
   "id": "1fffa880",
   "metadata": {},
   "outputs": [
    {
     "data": {
      "text/plain": [
       "<sqlite3.Cursor at 0x21964ac8960>"
      ]
     },
     "execution_count": 7,
     "metadata": {},
     "output_type": "execute_result"
    }
   ],
   "source": [
    "# Insert rows into Supplier table\n",
    "suppliers = [\n",
    "    (\"Acme Corp\", 50),\n",
    "    (\"Global Supplies\", 45),\n",
    "    (\"Widget Co\", 60),\n",
    "    (\"Tech Tools\", 55),\n",
    "    (\"BuildIt Inc\", 48)\n",
    "]\n",
    "cursor.executemany(\"INSERT INTO Supplier (name, age) VALUES (?, ?)\", suppliers)"
   ]
  },
  {
   "cell_type": "code",
   "execution_count": 8,
   "id": "1aeb75f1",
   "metadata": {},
   "outputs": [
    {
     "data": {
      "text/plain": [
       "<sqlite3.Cursor at 0x21964ac8960>"
      ]
     },
     "execution_count": 8,
     "metadata": {},
     "output_type": "execute_result"
    }
   ],
   "source": [
    "\n",
    "cursor.execute('''\n",
    "CREATE TABLE IF NOT EXISTS Employee (\n",
    "    id INTEGER PRIMARY KEY AUTOINCREMENT,\n",
    "    name TEXT NOT NULL,\n",
    "    age INTEGER NOT NULL\n",
    ")\n",
    "''')"
   ]
  },
  {
   "cell_type": "code",
   "execution_count": 9,
   "id": "a0f94e08",
   "metadata": {},
   "outputs": [
    {
     "data": {
      "text/plain": [
       "<sqlite3.Cursor at 0x21964ac8960>"
      ]
     },
     "execution_count": 9,
     "metadata": {},
     "output_type": "execute_result"
    }
   ],
   "source": [
    "\n",
    "# Insert rows into Employee table\n",
    "employees = [\n",
    "    (\"John\", 32),\n",
    "    (\"Emma\", 29),\n",
    "    (\"Michael\", 41),\n",
    "    (\"Sarah\", 33),\n",
    "    (\"Tom\", 37)\n",
    "]\n",
    "cursor.executemany(\"INSERT INTO Employee (name, age) VALUES (?, ?)\", employees)"
   ]
  },
  {
   "cell_type": "code",
   "execution_count": 10,
   "id": "223238a6",
   "metadata": {},
   "outputs": [
    {
     "name": "stdout",
     "output_type": "stream",
     "text": [
      "Database 'company' with tables and initial data created successfully.\n"
     ]
    }
   ],
   "source": [
    "# Commit changes and close connection\n",
    "connection.commit()\n",
    "connection.close()\n",
    "\n",
    "print(\"Database 'company' with tables and initial data created successfully.\")"
   ]
  },
  {
   "cell_type": "code",
   "execution_count": 3,
   "id": "34fa2b22",
   "metadata": {},
   "outputs": [],
   "source": [
    "connection.close()"
   ]
  },
  {
   "cell_type": "code",
   "execution_count": 11,
   "id": "1ada026b",
   "metadata": {},
   "outputs": [],
   "source": [
    "import sqlite3\n",
    "\n",
    "# Connect to the SQLite database\n",
    "connection = sqlite3.connect(\"company.db\")\n",
    "cursor = connection.cursor()\n"
   ]
  },
  {
   "cell_type": "code",
   "execution_count": 12,
   "id": "a15ca87e",
   "metadata": {
    "scrolled": true
   },
   "outputs": [
    {
     "name": "stdout",
     "output_type": "stream",
     "text": [
      "[(1, 'Alice', 30), (2, 'Bob', 25), (3, 'Charlie', 35), (4, 'Diana', 28), (5, 'Eve', 40)]\n"
     ]
    }
   ],
   "source": [
    "# 1. Select all columns from the Customer table\n",
    "cursor.execute(\"SELECT * FROM Customer\")\n",
    "print(cursor.fetchall())"
   ]
  },
  {
   "cell_type": "code",
   "execution_count": null,
   "id": "0ecc5231",
   "metadata": {},
   "outputs": [],
   "source": []
  },
  {
   "cell_type": "code",
   "execution_count": 13,
   "id": "ef641643",
   "metadata": {},
   "outputs": [
    {
     "name": "stdout",
     "output_type": "stream",
     "text": [
      "[(1, 'Acme Corp'), (2, 'Global Supplies'), (3, 'Widget Co'), (4, 'Tech Tools'), (5, 'BuildIt Inc')]\n"
     ]
    }
   ],
   "source": [
    "# 2. Select specific columns from the Supplier table\n",
    "cursor.execute(\"SELECT id, name FROM Supplier\")\n",
    "print(cursor.fetchall())"
   ]
  },
  {
   "cell_type": "code",
   "execution_count": 14,
   "id": "6f3c2dd9",
   "metadata": {},
   "outputs": [
    {
     "name": "stdout",
     "output_type": "stream",
     "text": [
      "[(1, 'John', 32), (4, 'Sarah', 33), (5, 'Tom', 37)]\n"
     ]
    }
   ],
   "source": [
    "\n",
    "cursor.execute(\"SELECT * FROM Employee WHERE age BETWEEN 30 AND 40\")\n",
    "print(cursor.fetchall())"
   ]
  },
  {
   "cell_type": "code",
   "execution_count": 15,
   "id": "3f39df0e",
   "metadata": {},
   "outputs": [
    {
     "name": "stdout",
     "output_type": "stream",
     "text": [
      "[(2, 'Bob', 25), (4, 'Diana', 28), (1, 'Alice', 30), (3, 'Charlie', 35), (5, 'Eve', 40)]\n"
     ]
    }
   ],
   "source": [
    "cursor.execute(\"SELECT * FROM Customer ORDER BY age ASC\")\n",
    "print(cursor.fetchall())"
   ]
  },
  {
   "cell_type": "code",
   "execution_count": 16,
   "id": "161f7e56",
   "metadata": {},
   "outputs": [
    {
     "name": "stdout",
     "output_type": "stream",
     "text": [
      "[(3, 'Widget Co', 60), (4, 'Tech Tools', 55), (2, 'Global Supplies', 45), (5, 'BuildIt Inc', 48), (1, 'Acme Corp', 50)]\n",
      "____________________________\n",
      "None\n"
     ]
    }
   ],
   "source": [
    "# 5. Select rows from Supplier table ORDER BY name DESC\n",
    "cursor.execute(\"SELECT * FROM Supplier ORDER BY name DESC\")\n",
    "print(cursor.fetchall())\n",
    "print(\"____________________________\")\n",
    "print(cursor.fetchone())"
   ]
  },
  {
   "cell_type": "code",
   "execution_count": 17,
   "id": "763d53e7",
   "metadata": {},
   "outputs": [
    {
     "name": "stdout",
     "output_type": "stream",
     "text": [
      "[(5, 'Tom', 37)]\n"
     ]
    }
   ],
   "source": [
    "# 6. Select rows from Employee where name starts with 'A%'\n",
    "cursor.execute(\"SELECT * FROM Employee WHERE name LIKE 'T%'\")\n",
    "print(cursor.fetchall())"
   ]
  },
  {
   "cell_type": "code",
   "execution_count": 18,
   "id": "6e4bc9e8",
   "metadata": {},
   "outputs": [
    {
     "name": "stdout",
     "output_type": "stream",
     "text": [
      "[(5, 'Tom', 37)]\n"
     ]
    }
   ],
   "source": [
    "# 7. Use AND condition in Employee table\n",
    "cursor.execute(\"SELECT * FROM Employee WHERE age > 30 AND name = 'Tom'\")\n",
    "print(cursor.fetchall())"
   ]
  },
  {
   "cell_type": "code",
   "execution_count": 19,
   "id": "0c342713",
   "metadata": {},
   "outputs": [
    {
     "name": "stdout",
     "output_type": "stream",
     "text": [
      "[(1, 'Acme Corp', 50), (2, 'Global Supplies', 45), (5, 'BuildIt Inc', 48)]\n"
     ]
    }
   ],
   "source": [
    "# 8. Use OR condition in Supplier table\n",
    "cursor.execute(\"SELECT * FROM Supplier WHERE age < 50 OR name = 'Acme Corp'\")\n",
    "print(cursor.fetchall())"
   ]
  },
  {
   "cell_type": "code",
   "execution_count": 20,
   "id": "11c614ba",
   "metadata": {},
   "outputs": [
    {
     "name": "stdout",
     "output_type": "stream",
     "text": [
      "[(1, 'Alice', 30), (2, 'Bob', 25), (3, 'Charlie', 35), (4, 'Diana', 28)]\n"
     ]
    }
   ],
   "source": [
    "# 9. Use NOT condition in Customer table\n",
    "cursor.execute(\"SELECT * FROM Customer WHERE NOT age = 40\")\n",
    "print(cursor.fetchall())"
   ]
  },
  {
   "cell_type": "code",
   "execution_count": 21,
   "id": "04fecacc",
   "metadata": {},
   "outputs": [
    {
     "name": "stdout",
     "output_type": "stream",
     "text": [
      "[(1, 'Acme Corp', 50), (2, 'Global Supplies', 45), (3, 'Widget Co', 60)]\n"
     ]
    }
   ],
   "source": [
    "# 10. Limit the result to 3 rows from Supplier table\n",
    "cursor.execute(\"SELECT * FROM Supplier LIMIT 3\")\n",
    "print(cursor.fetchall())"
   ]
  },
  {
   "cell_type": "code",
   "execution_count": 22,
   "id": "ef1c17f5",
   "metadata": {},
   "outputs": [
    {
     "name": "stdout",
     "output_type": "stream",
     "text": [
      "[(5, 'Eve', 40), (4, 'Diana', 28), (3, 'Charlie', 35), (2, 'Bob', 25), (1, 'Alice', 30)]\n"
     ]
    }
   ],
   "source": [
    "# 11. Select all rows from Customer table and sort by name DESC\n",
    "cursor.execute(\"SELECT * FROM Customer ORDER BY name DESC\")\n",
    "print(cursor.fetchall())"
   ]
  },
  {
   "cell_type": "code",
   "execution_count": 23,
   "id": "1cb00a8a",
   "metadata": {},
   "outputs": [
    {
     "name": "stdout",
     "output_type": "stream",
     "text": [
      "[('John',), ('Emma',), ('Michael',), ('Sarah',), ('Tom',)]\n"
     ]
    }
   ],
   "source": [
    "# 12. Select only name and position from Employee table\n",
    "cursor.execute(\"SELECT name FROM Employee\")\n",
    "print(cursor.fetchall())"
   ]
  },
  {
   "cell_type": "code",
   "execution_count": 24,
   "id": "d1cd3557",
   "metadata": {},
   "outputs": [
    {
     "name": "stdout",
     "output_type": "stream",
     "text": [
      "[(2, 'Global Supplies', 45)]\n"
     ]
    }
   ],
   "source": [
    "# 13. Select rows from Supplier table where name starts with 'G%'\n",
    "cursor.execute(\"SELECT * FROM Supplier WHERE name LIKE 'G%'\")\n",
    "print(cursor.fetchall())"
   ]
  },
  {
   "cell_type": "code",
   "execution_count": 25,
   "id": "4b5023cd",
   "metadata": {},
   "outputs": [
    {
     "name": "stdout",
     "output_type": "stream",
     "text": [
      "[(5, 'Tom', 37), (3, 'Michael', 41)]\n"
     ]
    }
   ],
   "source": [
    "# 14. Select rows from Employee table where age is greater than 35 ORDER BY age ASC\n",
    "cursor.execute(\"SELECT * FROM Employee WHERE age > 35 ORDER BY age ASC\")\n",
    "print(cursor.fetchall())"
   ]
  },
  {
   "cell_type": "code",
   "execution_count": 26,
   "id": "4a1be0b2",
   "metadata": {},
   "outputs": [
    {
     "name": "stdout",
     "output_type": "stream",
     "text": [
      "[(5, 'Eve', 40), (3, 'Charlie', 35)]\n"
     ]
    }
   ],
   "source": [
    "# 15. Select all columns from Customer table and sort by age DESC, limit to 2 rows\n",
    "cursor.execute(\"SELECT * FROM Customer ORDER BY age DESC LIMIT 2\")\n",
    "print(cursor.fetchall())"
   ]
  },
  {
   "cell_type": "code",
   "execution_count": 27,
   "id": "9c3b3891",
   "metadata": {},
   "outputs": [],
   "source": [
    "# Close the connection\n",
    "connection.close()"
   ]
  },
  {
   "cell_type": "code",
   "execution_count": null,
   "id": "d1bc36be",
   "metadata": {},
   "outputs": [],
   "source": []
  },
  {
   "cell_type": "code",
   "execution_count": 28,
   "id": "665fe32a",
   "metadata": {},
   "outputs": [],
   "source": [
    "import sqlite3\n",
    "\n",
    "# Conn.ect to the SQLite database\n",
    "connection = sqlite3.connect(\"company.db\")\n",
    "cursor = connection.cursor()\n"
   ]
  },
  {
   "cell_type": "code",
   "execution_count": null,
   "id": "428f17db",
   "metadata": {},
   "outputs": [],
   "source": []
  },
  {
   "cell_type": "code",
   "execution_count": null,
   "id": "a1479745",
   "metadata": {},
   "outputs": [],
   "source": []
  },
  {
   "cell_type": "code",
   "execution_count": 29,
   "id": "10883d16",
   "metadata": {},
   "outputs": [
    {
     "name": "stdout",
     "output_type": "stream",
     "text": [
      "Customer Table: [(1, 'Alice', 30), (2, 'Bob', 25), (3, 'Charlie', 35), (4, 'Diana', 28), (5, 'Eve', 40)]\n"
     ]
    }
   ],
   "source": [
    "# Show table structure and data before changes\n",
    "cursor.execute(\"SELECT * FROM Customer\")\n",
    "print(\"Customer Table:\", cursor.fetchall())\n"
   ]
  },
  {
   "cell_type": "code",
   "execution_count": 30,
   "id": "ff1a81f0",
   "metadata": {},
   "outputs": [
    {
     "name": "stdout",
     "output_type": "stream",
     "text": [
      "\n",
      "After Changes:\n",
      "Customer Table: [(1, 'Alice', 30, 'alice@example.com'), (2, 'Bob', 25, None), (3, 'Charlie', 35, None), (4, 'Diana', 28, None), (5, 'Eve', 40, None)]\n"
     ]
    }
   ],
   "source": [
    "\n",
    "cursor.execute('''\n",
    "ALTER TABLE Customer ADD COLUMN email TEXT\n",
    "''')\n",
    "\n",
    "cursor.execute('''\n",
    "UPDATE Customer SET email = 'alice@example.com' WHERE name = 'Alice'\n",
    "''')\n",
    "\n",
    "print(\"\\nAfter Changes:\")\n",
    "cursor.execute(\"SELECT * FROM Customer\")\n",
    "print(\"Customer Table:\", cursor.fetchall())"
   ]
  },
  {
   "cell_type": "code",
   "execution_count": null,
   "id": "d6b47eea",
   "metadata": {},
   "outputs": [],
   "source": []
  },
  {
   "cell_type": "code",
   "execution_count": null,
   "id": "ac276599",
   "metadata": {},
   "outputs": [],
   "source": []
  },
  {
   "cell_type": "code",
   "execution_count": 31,
   "id": "9719676c",
   "metadata": {},
   "outputs": [
    {
     "name": "stdout",
     "output_type": "stream",
     "text": [
      "Supplier Table: [(1, 'Acme Corp', 50), (2, 'Global Supplies', 45), (3, 'Widget Co', 60), (4, 'Tech Tools', 55), (5, 'BuildIt Inc', 48)]\n"
     ]
    }
   ],
   "source": [
    "cursor.execute(\"SELECT * FROM Supplier\")\n",
    "print(\"Supplier Table:\", cursor.fetchall())\n",
    "\n"
   ]
  },
  {
   "cell_type": "code",
   "execution_count": 32,
   "id": "c349e381",
   "metadata": {},
   "outputs": [
    {
     "name": "stdout",
     "output_type": "stream",
     "text": [
      "Supplier Table: [(1, 'Acme Corp', 50, '123-456-7890'), (2, 'Global Supplies', 45, None), (3, 'Widget Co', 60, None), (4, 'Tech Tools', 55, None), (5, 'BuildIt Inc', 48, None)]\n"
     ]
    }
   ],
   "source": [
    "cursor.execute('''\n",
    "ALTER TABLE Supplier ADD COLUMN contact_number TEXT\n",
    "''')\n",
    "\n",
    "cursor.execute('''\n",
    "UPDATE Supplier SET contact_number = '123-456-7890' WHERE name = 'Acme Corp'\n",
    "''')\n",
    "\n",
    "cursor.execute(\"SELECT * FROM Supplier\")\n",
    "print(\"Supplier Table:\", cursor.fetchall())"
   ]
  },
  {
   "cell_type": "code",
   "execution_count": null,
   "id": "968fd150",
   "metadata": {},
   "outputs": [],
   "source": []
  },
  {
   "cell_type": "code",
   "execution_count": null,
   "id": "fe53c10f",
   "metadata": {},
   "outputs": [],
   "source": []
  },
  {
   "cell_type": "code",
   "execution_count": 33,
   "id": "855dd14f",
   "metadata": {},
   "outputs": [
    {
     "name": "stdout",
     "output_type": "stream",
     "text": [
      "Employee Table: [(1, 'John', 32), (2, 'Emma', 29), (3, 'Michael', 41), (4, 'Sarah', 33), (5, 'Tom', 37)]\n"
     ]
    }
   ],
   "source": [
    "cursor.execute(\"SELECT * FROM Employee\")\n",
    "print(\"Employee Table:\", cursor.fetchall())\n"
   ]
  },
  {
   "cell_type": "code",
   "execution_count": 34,
   "id": "82ea596c",
   "metadata": {},
   "outputs": [
    {
     "name": "stdout",
     "output_type": "stream",
     "text": [
      "Employee Table: [(1, 'John', 32, 'Manager'), (2, 'Emma', 29, None), (3, 'Michael', 41, None), (4, 'Sarah', 33, None), (5, 'Tom', 37, None)]\n"
     ]
    }
   ],
   "source": [
    "\n",
    "cursor.execute('''\n",
    "ALTER TABLE Employee ADD COLUMN position TEXT\n",
    "''')\n",
    "\n",
    "\n",
    "cursor.execute('''\n",
    "UPDATE Employee SET position = 'Manager' WHERE name = 'John'\n",
    "''')\n",
    "\n",
    "cursor.execute(\"SELECT * FROM Employee\")\n",
    "print(\"Employee Table:\", cursor.fetchall())"
   ]
  },
  {
   "cell_type": "code",
   "execution_count": 35,
   "id": "c55a8e84",
   "metadata": {},
   "outputs": [],
   "source": [
    "connection.commit()"
   ]
  },
  {
   "cell_type": "code",
   "execution_count": 36,
   "id": "a33129b3",
   "metadata": {},
   "outputs": [
    {
     "name": "stdout",
     "output_type": "stream",
     "text": [
      "\n",
      "Database 'company' with modified tables and updated values.\n"
     ]
    }
   ],
   "source": [
    "\n",
    "connection.close()\n",
    "\n",
    "print(\"\\nDatabase 'company' with modified tables and updated values.\")\n"
   ]
  },
  {
   "cell_type": "code",
   "execution_count": 37,
   "id": "eb594444",
   "metadata": {},
   "outputs": [],
   "source": [
    "import sqlite3\n",
    "\n",
    "# Connect to the SQLite database\n",
    "connection = sqlite3.connect(\"company.db\")\n",
    "cursor = connection.cursor()"
   ]
  },
  {
   "cell_type": "code",
   "execution_count": 38,
   "id": "69a4ad66",
   "metadata": {
    "scrolled": true
   },
   "outputs": [
    {
     "name": "stdout",
     "output_type": "stream",
     "text": [
      "Before Deletion and Drop:\n",
      "Customer Table: [(1, 'Alice', 30, 'alice@example.com'), (2, 'Bob', 25, None), (3, 'Charlie', 35, None), (4, 'Diana', 28, None), (5, 'Eve', 40, None)]\n"
     ]
    }
   ],
   "source": [
    "# Show tables before deletion\n",
    "print(\"Before Deletion and Drop:\")\n",
    "cursor.execute(\"SELECT * FROM Customer\")\n",
    "\n",
    "print(\"Customer Table:\", cursor.fetchall())\n"
   ]
  },
  {
   "cell_type": "code",
   "execution_count": 39,
   "id": "075f2dbb",
   "metadata": {},
   "outputs": [
    {
     "name": "stdout",
     "output_type": "stream",
     "text": [
      "\n",
      "Deleted row where Customer name is 'Alice'.\n"
     ]
    }
   ],
   "source": [
    "# Delete query: Remove specific rows\n",
    "cursor.execute(\"DELETE FROM Customer WHERE name = 'Alice'\")\n",
    "print(\"\\nDeleted row where Customer name is 'Alice'.\")\n"
   ]
  },
  {
   "cell_type": "code",
   "execution_count": 40,
   "id": "e09121d3",
   "metadata": {},
   "outputs": [
    {
     "name": "stdout",
     "output_type": "stream",
     "text": [
      "Customer Table: [(2, 'Bob', 25, None), (3, 'Charlie', 35, None), (4, 'Diana', 28, None), (5, 'Eve', 40, None)]\n",
      "___________________________________\n"
     ]
    }
   ],
   "source": [
    "cursor.execute(\"SELECT * FROM Customer\")\n",
    "print(\"Customer Table:\", cursor.fetchall())\n",
    "print(\"___________________________________\")\n"
   ]
  },
  {
   "cell_type": "code",
   "execution_count": 41,
   "id": "eea34a24",
   "metadata": {
    "scrolled": true
   },
   "outputs": [
    {
     "name": "stdout",
     "output_type": "stream",
     "text": [
      "Supplier Table: [(1, 'Acme Corp', 50, '123-456-7890'), (2, 'Global Supplies', 45, None), (3, 'Widget Co', 60, None), (4, 'Tech Tools', 55, None), (5, 'BuildIt Inc', 48, None)]\n",
      "\n",
      "Dropped Supplier table.\n"
     ]
    }
   ],
   "source": [
    "\n",
    "\n",
    "cursor.execute(\"SELECT * FROM Supplier\")\n",
    "print(\"Supplier Table:\", cursor.fetchall())\n",
    "\n",
    "\n",
    "# Drop query: Remove a table entirely\n",
    "cursor.execute(\"DROP TABLE IF EXISTS Supplier\")\n",
    "print(\"\\nDropped Supplier table.\")"
   ]
  },
  {
   "cell_type": "code",
   "execution_count": 42,
   "id": "87ca9ab6",
   "metadata": {},
   "outputs": [
    {
     "name": "stdout",
     "output_type": "stream",
     "text": [
      "\n",
      "After Deletion and Drop:\n",
      "Customer Table: [(2, 'Bob', 25, None), (3, 'Charlie', 35, None), (4, 'Diana', 28, None), (5, 'Eve', 40, None)]\n",
      "Supplier Table no longer exists.\n"
     ]
    }
   ],
   "source": [
    "# Commit changes\n",
    "connection.commit()\n",
    "\n",
    "# Show tables after deletion and drop\n",
    "print(\"\\nAfter Deletion and Drop:\")\n",
    "cursor.execute(\"SELECT * FROM Customer\")\n",
    "\n",
    "\n",
    "print(\"Customer Table:\", cursor.fetchall())\n",
    "\n",
    "try:\n",
    "    cursor.execute(\"SELECT * FROM Supplier\")\n",
    "    print(\"Supplier Table:\", cursor.fetchall())\n",
    "except sqlite3.OperationalError as e:\n",
    "    print(\"Supplier Table no longer exists.\")"
   ]
  },
  {
   "cell_type": "code",
   "execution_count": null,
   "id": "dd5adb1e",
   "metadata": {},
   "outputs": [],
   "source": []
  },
  {
   "cell_type": "markdown",
   "id": "1768c0e1",
   "metadata": {},
   "source": [
    "# Task"
   ]
  },
  {
   "cell_type": "code",
   "execution_count": 43,
   "id": "1bbb55ac",
   "metadata": {},
   "outputs": [],
   "source": [
    "# Importing the SQLite3 library\n",
    "import sqlite3\n",
    "\n",
    "# Connecting to the SQLite database (or creating it if it doesn't exist)\n",
    "conn = sqlite3.connect(\"example.db\")\n",
    "cursor = conn.cursor()\n",
    "\n",
    "# Creating the customer table (if it doesn't already exist)\n",
    "cursor.execute(\"\"\"\n",
    "CREATE TABLE IF NOT EXISTS customer (\n",
    "    id INTEGER PRIMARY KEY,\n",
    "    name TEXT,\n",
    "    age INTEGER,\n",
    "    city TEXT,\n",
    "    purchase_amount REAL\n",
    ")\n",
    "\"\"\")\n",
    "conn.commit()\n",
    "\n",
    "# Clear the table to avoid duplicate data\n",
    "cursor.execute(\"DELETE FROM customer\")\n",
    "conn.commit()\n",
    "\n",
    "# Inserting sample data\n",
    "cursor.executemany(\"\"\"\n",
    "INSERT INTO customer (id, name, age, city, purchase_amount) \n",
    "VALUES (?, ?, ?, ?, ?)\n",
    "\"\"\", [\n",
    "    (1, \"Alice\", 30, \"New York\", 500.0),\n",
    "    (2, \"Bob\", 25, \"Los Angeles\", 300.0),\n",
    "    (3, \"Charlie\", 35, \"New York\", 400.0),\n",
    "    (4, \"David\", 28, \"Chicago\", 250.0),\n",
    "    (5, \"Eve\", 22, \"Los Angeles\", 600.0)\n",
    "])\n",
    "\n",
    "\n",
    "conn.commit()\n",
    "\n"
   ]
  },
  {
   "cell_type": "code",
   "execution_count": null,
   "id": "6af35107",
   "metadata": {},
   "outputs": [],
   "source": []
  },
  {
   "cell_type": "code",
   "execution_count": 44,
   "id": "eb5c16d8",
   "metadata": {},
   "outputs": [
    {
     "ename": "SyntaxError",
     "evalue": "invalid syntax (<ipython-input-44-848c62c6b6a2>, line 4)",
     "output_type": "error",
     "traceback": [
      "\u001b[1;36m  File \u001b[1;32m\"<ipython-input-44-848c62c6b6a2>\"\u001b[1;36m, line \u001b[1;32m4\u001b[0m\n\u001b[1;33m    SELECT * FROM customer WHERE\u001b[0m\n\u001b[1;37m                  ^\u001b[0m\n\u001b[1;31mSyntaxError\u001b[0m\u001b[1;31m:\u001b[0m invalid syntax\n"
     ]
    }
   ],
   "source": [
    "# Question: How can I select customers who live in New York, are older than 25, \n",
    "# and have purchased more than 300, \n",
    "# ordering the results by purchase_amount in descending order?\n",
    "SELECT * FROM customer WHERE \n",
    "city = 'New York' AND age > 25 AND purchase_amount > 300  order by purchase_amount desc "
   ]
  },
  {
   "cell_type": "code",
   "execution_count": 48,
   "id": "e2459bb4",
   "metadata": {},
   "outputs": [],
   "source": [
    "# Query 2: Update\n",
    "# Question: How can I update the purchase amount of the customer with ID 5 to 700?\n",
    "\n"
   ]
  },
  {
   "cell_type": "code",
   "execution_count": 49,
   "id": "a44b5135",
   "metadata": {},
   "outputs": [],
   "source": [
    "# Query 3: Delete\n",
    "# Question: How can I delete customers who are younger than 25?"
   ]
  },
  {
   "cell_type": "code",
   "execution_count": null,
   "id": "c6b1c44f",
   "metadata": {},
   "outputs": [],
   "source": []
  },
  {
   "cell_type": "markdown",
   "id": "9a2bb47a",
   "metadata": {},
   "source": [
    "# Task Solution"
   ]
  },
  {
   "cell_type": "code",
   "execution_count": 50,
   "id": "62e2e840",
   "metadata": {},
   "outputs": [
    {
     "name": "stdout",
     "output_type": "stream",
     "text": [
      "(1, 'Alice', 30, 'New York', 500.0)\n",
      "(3, 'Charlie', 35, 'New York', 400.0)\n"
     ]
    }
   ],
   "source": [
    "\n",
    "# Query 1: Selection with 3 conditions and ORDER BY\n",
    "# Question: How can I select customers who live in New York, are older than 25, \n",
    "# and have purchased more than 300, ordering the results by purchase amount in descending order?\n",
    "\n",
    "cursor.execute(\"\"\"\n",
    "SELECT * FROM customer\n",
    "WHERE city = 'New York' AND age > 25 AND purchase_amount > 300\n",
    "ORDER BY purchase_amount DESC\n",
    "\"\"\")\n",
    "results = cursor.fetchall()\n",
    "for row in results:\n",
    "    print(row)\n",
    "\n"
   ]
  },
  {
   "cell_type": "code",
   "execution_count": 51,
   "id": "d33e9bd0",
   "metadata": {},
   "outputs": [
    {
     "name": "stdout",
     "output_type": "stream",
     "text": [
      "\n",
      "Query 2: Updating a record\n",
      "(5, 'Eve', 22, 'Los Angeles', 700.0)\n"
     ]
    }
   ],
   "source": [
    "# Query 2: Update\n",
    "# Question: How can I update the purchase amount of the customer with ID 5 to 700?\n",
    "print(\"\\nQuery 2: Updating a record\")\n",
    "cursor.execute(\"\"\"\n",
    "UPDATE customer\n",
    "SET purchase_amount = 700\n",
    "WHERE id = 5\n",
    "\"\"\")\n",
    "conn.commit()\n",
    "\n",
    "# Verify update\n",
    "cursor.execute(\"SELECT * FROM customer WHERE id = 5\")\n",
    "print(cursor.fetchone())\n"
   ]
  },
  {
   "cell_type": "code",
   "execution_count": 52,
   "id": "4396279e",
   "metadata": {},
   "outputs": [
    {
     "name": "stdout",
     "output_type": "stream",
     "text": [
      "\n",
      "Query 3: Deleting a record\n",
      "(1, 'Alice', 30, 'New York', 500.0)\n",
      "(2, 'Bob', 25, 'Los Angeles', 300.0)\n",
      "(3, 'Charlie', 35, 'New York', 400.0)\n",
      "(4, 'David', 28, 'Chicago', 250.0)\n"
     ]
    }
   ],
   "source": [
    "\n",
    "# Query 3: Delete\n",
    "# Question: How can I delete customers who are younger than 25?\n",
    "print(\"\\nQuery 3: Deleting a record\")\n",
    "cursor.execute(\"\"\"\n",
    "DELETE FROM customer\n",
    "WHERE age < 25\n",
    "\"\"\")\n",
    "conn.commit()\n",
    "# Verify delete\n",
    "cursor.execute(\"SELECT * FROM customer\")\n",
    "results = cursor.fetchall()\n",
    "for row in results:\n",
    "    print(row)"
   ]
  },
  {
   "cell_type": "code",
   "execution_count": 53,
   "id": "301942da",
   "metadata": {},
   "outputs": [],
   "source": [
    "# Closing the connection\n",
    "conn.close()\n"
   ]
  },
  {
   "cell_type": "code",
   "execution_count": null,
   "id": "7101d881",
   "metadata": {},
   "outputs": [],
   "source": []
  },
  {
   "cell_type": "code",
   "execution_count": null,
   "id": "e4f39e46",
   "metadata": {},
   "outputs": [],
   "source": []
  }
 ],
 "metadata": {
  "kernelspec": {
   "display_name": ".venv",
   "language": "python",
   "name": "python3"
  },
  "language_info": {
   "codemirror_mode": {
    "name": "ipython",
    "version": 3
   },
   "file_extension": ".py",
   "mimetype": "text/x-python",
   "name": "python",
   "nbconvert_exporter": "python",
   "pygments_lexer": "ipython3",
   "version": "3.11.5"
  }
 },
 "nbformat": 4,
 "nbformat_minor": 5
}
