{
 "cells": [
  {
   "cell_type": "markdown",
   "id": "f8f83682-ca36-4461-a01d-e373c7480f52",
   "metadata": {},
   "source": [
    "# Output"
   ]
  },
  {
   "cell_type": "code",
   "execution_count": 4,
   "id": "f07f9020-9597-485d-ace3-85723813a697",
   "metadata": {},
   "outputs": [
    {
     "name": "stdout",
     "output_type": "stream",
     "text": [
      "Hello world\n"
     ]
    }
   ],
   "source": [
    "print('Hello world')"
   ]
  },
  {
   "cell_type": "code",
   "execution_count": 5,
   "id": "6c6641ea-6c36-4d49-9421-8ccb8a1fc1b3",
   "metadata": {},
   "outputs": [
    {
     "name": "stdout",
     "output_type": "stream",
     "text": [
      "Hello World\n"
     ]
    }
   ],
   "source": [
    "print('Hello' ,'World') # This is comment"
   ]
  },
  {
   "cell_type": "code",
   "execution_count": 7,
   "id": "e3c1dbf7-f095-4bc8-a5ac-8da63b6b0469",
   "metadata": {},
   "outputs": [
    {
     "data": {
      "text/plain": [
       "str"
      ]
     },
     "execution_count": 7,
     "metadata": {},
     "output_type": "execute_result"
    }
   ],
   "source": [
    "type(\"\"\"\n",
    "This is \n",
    "multiline \n",
    "String\n",
    "\"\"\")"
   ]
  },
  {
   "cell_type": "code",
   "execution_count": 10,
   "id": "53db5674-40f1-48bf-aaf8-194017e8c6b2",
   "metadata": {},
   "outputs": [
    {
     "data": {
      "text/plain": [
       "'Hello \\nworld'"
      ]
     },
     "execution_count": 10,
     "metadata": {},
     "output_type": "execute_result"
    }
   ],
   "source": [
    "'''Hello \n",
    "world'''"
   ]
  },
  {
   "cell_type": "code",
   "execution_count": 11,
   "id": "fc4ebd2e-9e74-4158-8437-fd493005ea59",
   "metadata": {},
   "outputs": [
    {
     "name": "stdout",
     "output_type": "stream",
     "text": [
      "5\n"
     ]
    }
   ],
   "source": [
    "print(5)"
   ]
  },
  {
   "cell_type": "code",
   "execution_count": 12,
   "id": "87ef3d03-fd9e-487c-823b-85529c5642e9",
   "metadata": {},
   "outputs": [
    {
     "name": "stdout",
     "output_type": "stream",
     "text": [
      "hi\n"
     ]
    }
   ],
   "source": [
    "print('hi')"
   ]
  },
  {
   "cell_type": "code",
   "execution_count": 13,
   "id": "9a62cf94-28b7-464b-811e-308fcb78504d",
   "metadata": {},
   "outputs": [
    {
     "name": "stdout",
     "output_type": "stream",
     "text": [
      "hello\n"
     ]
    }
   ],
   "source": [
    "print('hello')"
   ]
  },
  {
   "cell_type": "code",
   "execution_count": 14,
   "id": "f44a9d58-8d50-4656-a9a0-6b2c6058fbc4",
   "metadata": {},
   "outputs": [
    {
     "name": "stdout",
     "output_type": "stream",
     "text": [
      "5.5\n"
     ]
    }
   ],
   "source": [
    "print(5.5)"
   ]
  },
  {
   "cell_type": "code",
   "execution_count": 15,
   "id": "e8bfe813-fc3b-42ea-a393-4e9a03c93cd7",
   "metadata": {},
   "outputs": [
    {
     "name": "stdout",
     "output_type": "stream",
     "text": [
      "True\n"
     ]
    }
   ],
   "source": [
    "print(True)"
   ]
  },
  {
   "cell_type": "code",
   "execution_count": 16,
   "id": "3ba68de2-1ac8-425c-8832-fa6b6d61c317",
   "metadata": {},
   "outputs": [
    {
     "name": "stdout",
     "output_type": "stream",
     "text": [
      "False\n"
     ]
    }
   ],
   "source": [
    "print(False)"
   ]
  },
  {
   "cell_type": "code",
   "execution_count": 22,
   "id": "8811c2cd-b6a1-4585-a6d3-250a694bc1ab",
   "metadata": {},
   "outputs": [
    {
     "name": "stdout",
     "output_type": "stream",
     "text": [
      "hello pthon\n"
     ]
    }
   ],
   "source": [
    "print('hello', end=' ')\n",
    "print('pthon')"
   ]
  },
  {
   "cell_type": "markdown",
   "id": "7c5e6157-9d5f-4f19-9496-17906658f921",
   "metadata": {},
   "source": [
    "# Input"
   ]
  },
  {
   "cell_type": "code",
   "execution_count": 24,
   "id": "f253c0d6-8052-48e2-b414-78a9d7ec51c6",
   "metadata": {},
   "outputs": [
    {
     "name": "stdin",
     "output_type": "stream",
     "text": [
      "Enter a name Ahmed\n"
     ]
    },
    {
     "data": {
      "text/plain": [
       "'Ahmed'"
      ]
     },
     "execution_count": 24,
     "metadata": {},
     "output_type": "execute_result"
    }
   ],
   "source": [
    "input('Enter a name')"
   ]
  },
  {
   "cell_type": "code",
   "execution_count": 25,
   "id": "e3985201-8cc4-4457-9fdf-5a383eeac3a5",
   "metadata": {},
   "outputs": [
    {
     "name": "stdin",
     "output_type": "stream",
     "text": [
      "Enter a age 25\n"
     ]
    },
    {
     "data": {
      "text/plain": [
       "'25'"
      ]
     },
     "execution_count": 25,
     "metadata": {},
     "output_type": "execute_result"
    }
   ],
   "source": [
    "input('Enter a age')"
   ]
  },
  {
   "cell_type": "markdown",
   "id": "ef26ab24-61ba-4985-a3ee-833bf7e7b4b0",
   "metadata": {},
   "source": [
    "# Variables"
   ]
  },
  {
   "cell_type": "code",
   "execution_count": 27,
   "id": "4e159cda-67fb-45b6-9b4a-95841dd1c5ae",
   "metadata": {},
   "outputs": [],
   "source": [
    "number= 125"
   ]
  },
  {
   "cell_type": "code",
   "execution_count": 28,
   "id": "d0f4beff-ad79-42b8-b27f-0d75b6ad17e9",
   "metadata": {},
   "outputs": [
    {
     "data": {
      "text/plain": [
       "126"
      ]
     },
     "execution_count": 28,
     "metadata": {},
     "output_type": "execute_result"
    }
   ],
   "source": [
    "number + 1"
   ]
  },
  {
   "cell_type": "code",
   "execution_count": 29,
   "id": "786b3bdf-8334-4147-8b95-32b144cbce3a",
   "metadata": {},
   "outputs": [
    {
     "name": "stdin",
     "output_type": "stream",
     "text": [
      "Enter your name Ahmed\n"
     ]
    }
   ],
   "source": [
    "user_name= input('Enter your name')"
   ]
  },
  {
   "cell_type": "code",
   "execution_count": 31,
   "id": "a85ecd1d-620b-46bd-894c-822e82c73f4a",
   "metadata": {},
   "outputs": [],
   "source": [
    "user_name = 'Mohamed'"
   ]
  },
  {
   "cell_type": "code",
   "execution_count": 32,
   "id": "431d5f6e-0838-470b-8fd5-97ddbc4da5ea",
   "metadata": {},
   "outputs": [
    {
     "data": {
      "text/plain": [
       "'Mohamed'"
      ]
     },
     "execution_count": 32,
     "metadata": {},
     "output_type": "execute_result"
    }
   ],
   "source": [
    "user_name"
   ]
  },
  {
   "cell_type": "code",
   "execution_count": 33,
   "id": "49f56e1e-7c5b-48a8-8591-63818048eb32",
   "metadata": {},
   "outputs": [],
   "source": [
    "x= 2\n",
    "y= 3"
   ]
  },
  {
   "cell_type": "code",
   "execution_count": 34,
   "id": "d7e288f6-3cd2-459c-bb65-0eca258b62bb",
   "metadata": {},
   "outputs": [
    {
     "data": {
      "text/plain": [
       "5"
      ]
     },
     "execution_count": 34,
     "metadata": {},
     "output_type": "execute_result"
    }
   ],
   "source": [
    "x + y "
   ]
  },
  {
   "cell_type": "code",
   "execution_count": 35,
   "id": "e0825b1a-c138-4702-8186-b23bf65f986f",
   "metadata": {},
   "outputs": [],
   "source": [
    "float_number= 5.3"
   ]
  },
  {
   "cell_type": "code",
   "execution_count": 36,
   "id": "0cc3ec94-2ac8-4dfd-b103-33f5045c0141",
   "metadata": {},
   "outputs": [
    {
     "data": {
      "text/plain": [
       "5.3"
      ]
     },
     "execution_count": 36,
     "metadata": {},
     "output_type": "execute_result"
    }
   ],
   "source": [
    "float_number"
   ]
  },
  {
   "cell_type": "code",
   "execution_count": 37,
   "id": "67a0750e-24ce-40db-956c-6508f8d331ce",
   "metadata": {},
   "outputs": [],
   "source": [
    "one= 1\n",
    "TwoWord1 = 1 # Camel Case\n",
    "two_word2 = 2 # Snake_case"
   ]
  },
  {
   "cell_type": "code",
   "execution_count": 38,
   "id": "bf26671f-4752-4d30-aa2b-025ca4694ef4",
   "metadata": {},
   "outputs": [
    {
     "ename": "SyntaxError",
     "evalue": "cannot assign to False (1429262388.py, line 1)",
     "output_type": "error",
     "traceback": [
      "\u001b[1;36m  Cell \u001b[1;32mIn[38], line 1\u001b[1;36m\u001b[0m\n\u001b[1;33m    False = 1\u001b[0m\n\u001b[1;37m    ^\u001b[0m\n\u001b[1;31mSyntaxError\u001b[0m\u001b[1;31m:\u001b[0m cannot assign to False\n"
     ]
    }
   ],
   "source": [
    "False = 1"
   ]
  },
  {
   "cell_type": "code",
   "execution_count": 39,
   "id": "249766e5-b710-419b-9be4-747493f11876",
   "metadata": {},
   "outputs": [
    {
     "ename": "SyntaxError",
     "evalue": "invalid syntax (675644739.py, line 1)",
     "output_type": "error",
     "traceback": [
      "\u001b[1;36m  Cell \u001b[1;32mIn[39], line 1\u001b[1;36m\u001b[0m\n\u001b[1;33m    if = 6\u001b[0m\n\u001b[1;37m       ^\u001b[0m\n\u001b[1;31mSyntaxError\u001b[0m\u001b[1;31m:\u001b[0m invalid syntax\n"
     ]
    }
   ],
   "source": [
    "if = 6"
   ]
  },
  {
   "cell_type": "code",
   "execution_count": 40,
   "id": "100865b1-9b84-4f1d-be7c-c5c05f698ca0",
   "metadata": {},
   "outputs": [
    {
     "name": "stdout",
     "output_type": "stream",
     "text": [
      "\n",
      "Here is a list of the Python keywords.  Enter any keyword to get more help.\n",
      "\n",
      "False               class               from                or\n",
      "None                continue            global              pass\n",
      "True                def                 if                  raise\n",
      "and                 del                 import              return\n",
      "as                  elif                in                  try\n",
      "assert              else                is                  while\n",
      "async               except              lambda              with\n",
      "await               finally             nonlocal            yield\n",
      "break               for                 not                 \n",
      "\n"
     ]
    }
   ],
   "source": [
    "help('keywords')"
   ]
  },
  {
   "cell_type": "code",
   "execution_count": 41,
   "id": "0f7af181-c427-42d0-8339-508beb5b4998",
   "metadata": {},
   "outputs": [
    {
     "ename": "SyntaxError",
     "evalue": "invalid decimal literal (531825349.py, line 1)",
     "output_type": "error",
     "traceback": [
      "\u001b[1;36m  Cell \u001b[1;32mIn[41], line 1\u001b[1;36m\u001b[0m\n\u001b[1;33m    2word= 2\u001b[0m\n\u001b[1;37m    ^\u001b[0m\n\u001b[1;31mSyntaxError\u001b[0m\u001b[1;31m:\u001b[0m invalid decimal literal\n"
     ]
    }
   ],
   "source": [
    "2word= 2"
   ]
  },
  {
   "cell_type": "code",
   "execution_count": 42,
   "id": "0d2d3f2a-14b8-4d61-9d6c-d5a3106c934b",
   "metadata": {},
   "outputs": [],
   "source": [
    "a = 1\n",
    "b= 2\n",
    "c =3"
   ]
  },
  {
   "cell_type": "code",
   "execution_count": 46,
   "id": "66ffff34-321c-4926-9f42-5b9fb462f00e",
   "metadata": {},
   "outputs": [],
   "source": [
    "d, e, f = 4 , 5, 8"
   ]
  },
  {
   "cell_type": "code",
   "execution_count": 50,
   "id": "d4975899-b8da-4d90-9e35-762ed9838169",
   "metadata": {},
   "outputs": [
    {
     "ename": "ValueError",
     "evalue": "too many values to unpack (expected 2)",
     "output_type": "error",
     "traceback": [
      "\u001b[1;31m---------------------------------------------------------------------------\u001b[0m",
      "\u001b[1;31mValueError\u001b[0m                                Traceback (most recent call last)",
      "Cell \u001b[1;32mIn[50], line 1\u001b[0m\n\u001b[1;32m----> 1\u001b[0m g, h\u001b[38;5;241m=\u001b[39m \u001b[38;5;241m1\u001b[39m,\u001b[38;5;241m2\u001b[39m,\u001b[38;5;241m3\u001b[39m\n",
      "\u001b[1;31mValueError\u001b[0m: too many values to unpack (expected 2)"
     ]
    }
   ],
   "source": [
    "g, h= 1,2,3"
   ]
  },
  {
   "cell_type": "code",
   "execution_count": 51,
   "id": "9fff4fe6-fb5a-4c58-baff-6cddbdce3d38",
   "metadata": {},
   "outputs": [
    {
     "ename": "ValueError",
     "evalue": "not enough values to unpack (expected 3, got 2)",
     "output_type": "error",
     "traceback": [
      "\u001b[1;31m---------------------------------------------------------------------------\u001b[0m",
      "\u001b[1;31mValueError\u001b[0m                                Traceback (most recent call last)",
      "Cell \u001b[1;32mIn[51], line 1\u001b[0m\n\u001b[1;32m----> 1\u001b[0m g, h, f\u001b[38;5;241m=\u001b[39m \u001b[38;5;241m1\u001b[39m,\u001b[38;5;241m2\u001b[39m\n",
      "\u001b[1;31mValueError\u001b[0m: not enough values to unpack (expected 3, got 2)"
     ]
    }
   ],
   "source": [
    "g, h, f= 1,2"
   ]
  },
  {
   "cell_type": "code",
   "execution_count": 54,
   "id": "bdfe76b4-4652-4d95-8844-ea8c1420891c",
   "metadata": {},
   "outputs": [
    {
     "name": "stdout",
     "output_type": "stream",
     "text": [
      "Hello python\n"
     ]
    }
   ],
   "source": [
    "print( \"Hello \\\n",
    "python\") # escape new line"
   ]
  },
  {
   "cell_type": "code",
   "execution_count": 56,
   "id": "edd48560-e2ce-421d-b179-fbcfb3b6ad83",
   "metadata": {},
   "outputs": [
    {
     "name": "stdout",
     "output_type": "stream",
     "text": [
      "Hell world\n"
     ]
    }
   ],
   "source": [
    "print('Helloo\\b\\b world')  # Back Space"
   ]
  },
  {
   "cell_type": "code",
   "execution_count": 57,
   "id": "58380d3e-b43e-47c2-8cf5-4a4cc6fdad59",
   "metadata": {},
   "outputs": [
    {
     "name": "stdout",
     "output_type": "stream",
     "text": [
      "Easy Come Easy Go\n"
     ]
    }
   ],
   "source": [
    "print('Easy Come Easy Go')"
   ]
  },
  {
   "cell_type": "code",
   "execution_count": 61,
   "id": "1fbe6af2-ebe0-48c7-b237-858ed8ba3151",
   "metadata": {},
   "outputs": [
    {
     "name": "stdout",
     "output_type": "stream",
     "text": [
      "'Easy Come Easy Go'\n"
     ]
    }
   ],
   "source": [
    "print('\\'Easy Come Easy Go\\'')"
   ]
  },
  {
   "cell_type": "code",
   "execution_count": 62,
   "id": "341f9706-b73f-477d-ac55-d358265d3af5",
   "metadata": {},
   "outputs": [
    {
     "name": "stdout",
     "output_type": "stream",
     "text": [
      "'Easy Come Easy Go'\n"
     ]
    }
   ],
   "source": [
    "print(\"'Easy Come Easy Go'\")"
   ]
  },
  {
   "cell_type": "code",
   "execution_count": 63,
   "id": "ef219ea5-25d4-40ba-9134-aa0884cf2a49",
   "metadata": {},
   "outputs": [
    {
     "name": "stdout",
     "output_type": "stream",
     "text": [
      "\"Easy Come Easy Go\"\n"
     ]
    }
   ],
   "source": [
    "print('\"Easy Come Easy Go\"')"
   ]
  },
  {
   "cell_type": "code",
   "execution_count": 65,
   "id": "dafa8614-db08-4cba-bf0c-2dafd1155d2e",
   "metadata": {},
   "outputs": [
    {
     "name": "stdout",
     "output_type": "stream",
     "text": [
      "Mo'men\n"
     ]
    }
   ],
   "source": [
    "print('Mo\\'men')"
   ]
  },
  {
   "cell_type": "code",
   "execution_count": 66,
   "id": "804bbc63-8eec-4d47-a307-04ba8df47ec8",
   "metadata": {},
   "outputs": [
    {
     "name": "stdout",
     "output_type": "stream",
     "text": [
      "Mo'men\n"
     ]
    }
   ],
   "source": [
    "print(\"Mo\\'men\")"
   ]
  },
  {
   "cell_type": "code",
   "execution_count": 70,
   "id": "8b3c60d1-9f45-4541-837c-17e568fb7ed9",
   "metadata": {},
   "outputs": [
    {
     "name": "stdout",
     "output_type": "stream",
     "text": [
      "My Name:\tAhmed\n"
     ]
    }
   ],
   "source": [
    "print(\"My Name:\\tAhmed\") # Tab"
   ]
  },
  {
   "cell_type": "code",
   "execution_count": 72,
   "id": "b2e53c23-ac72-4361-929f-553c4d9b5e05",
   "metadata": {},
   "outputs": [
    {
     "name": "stdout",
     "output_type": "stream",
     "text": [
      "FirstLine\n",
      "SecondLine\n"
     ]
    }
   ],
   "source": [
    "print(\"FirstLine\\nSecondLine\") # Next Line"
   ]
  },
  {
   "cell_type": "code",
   "execution_count": 73,
   "id": "f31bc2a8-fc3a-435e-9952-f59add9c43f2",
   "metadata": {},
   "outputs": [
    {
     "name": "stdin",
     "output_type": "stream",
     "text": [
      "radius 10\n"
     ]
    }
   ],
   "source": [
    "radius= int(input('radius'))"
   ]
  },
  {
   "cell_type": "code",
   "execution_count": 74,
   "id": "91557cef-dcf5-446d-8fc2-5fbf7b2e7b91",
   "metadata": {},
   "outputs": [
    {
     "name": "stdout",
     "output_type": "stream",
     "text": [
      "10\n"
     ]
    }
   ],
   "source": [
    "print(radius)"
   ]
  },
  {
   "cell_type": "code",
   "execution_count": 75,
   "id": "ca0a4ce2-d4c9-4712-a643-836a70212cdc",
   "metadata": {},
   "outputs": [
    {
     "data": {
      "text/plain": [
       "30"
      ]
     },
     "execution_count": 75,
     "metadata": {},
     "output_type": "execute_result"
    }
   ],
   "source": [
    "pi= 3.14"
   ]
  },
  {
   "cell_type": "code",
   "execution_count": 76,
   "id": "64457582-a2c8-484f-a049-8f38813a8419",
   "metadata": {},
   "outputs": [],
   "source": [
    "# Assign variable to get the area"
   ]
  },
  {
   "cell_type": "code",
   "execution_count": 77,
   "id": "f553d02b-967c-4d4c-8636-4943388c8414",
   "metadata": {},
   "outputs": [],
   "source": [
    "area = 3.14 * radius * radius"
   ]
  },
  {
   "cell_type": "code",
   "execution_count": 78,
   "id": "d637af53-25d4-4295-95b3-eceaed23d55f",
   "metadata": {},
   "outputs": [
    {
     "data": {
      "text/plain": [
       "314.0"
      ]
     },
     "execution_count": 78,
     "metadata": {},
     "output_type": "execute_result"
    }
   ],
   "source": [
    "area"
   ]
  },
  {
   "cell_type": "code",
   "execution_count": 81,
   "id": "20612594-1051-4c97-a5e7-f203784c32f3",
   "metadata": {},
   "outputs": [
    {
     "name": "stdin",
     "output_type": "stream",
     "text": [
      "radius 2\n"
     ]
    },
    {
     "data": {
      "text/plain": [
       "str"
      ]
     },
     "execution_count": 81,
     "metadata": {},
     "output_type": "execute_result"
    }
   ],
   "source": [
    "type(input('radius')) # The output is str"
   ]
  },
  {
   "cell_type": "code",
   "execution_count": 82,
   "id": "142a04f5-9232-494b-9ef0-28298516c95b",
   "metadata": {},
   "outputs": [
    {
     "name": "stdin",
     "output_type": "stream",
     "text": [
      "radius 1\n"
     ]
    },
    {
     "data": {
      "text/plain": [
       "int"
      ]
     },
     "execution_count": 82,
     "metadata": {},
     "output_type": "execute_result"
    }
   ],
   "source": [
    "type(int(input('radius'))) # astype the str to int"
   ]
  },
  {
   "cell_type": "markdown",
   "id": "dae156bf-82c8-4eb5-ae8b-3ffeb82b10f1",
   "metadata": {},
   "source": [
    "# Data Types\n",
    "### Determining variable type with `type()`\n",
    "You can check what type of object is assigned to a variable using Python's built-in `type()` function. Common data types include:\n",
    "* **int** (for integer)\n",
    "* **float**\n",
    "* **str** (for string)\n",
    "* **bool** (for Boolean True/False)\n",
    "* **list**\n",
    "* **tuple**\n",
    "* **dict** (for dictionary)\n",
    "* **set**"
   ]
  },
  {
   "cell_type": "markdown",
   "id": "85dd34d6-65ce-4a1c-b44e-90f5ffd0cab1",
   "metadata": {},
   "source": [
    "## int"
   ]
  },
  {
   "cell_type": "code",
   "execution_count": 85,
   "id": "7f92825d-d6fe-49c4-91a6-9b440d6dc3c4",
   "metadata": {},
   "outputs": [],
   "source": [
    "x= 5"
   ]
  },
  {
   "cell_type": "code",
   "execution_count": 86,
   "id": "22decce8-b81d-40ff-9ebb-7b27d446220e",
   "metadata": {},
   "outputs": [
    {
     "data": {
      "text/plain": [
       "int"
      ]
     },
     "execution_count": 86,
     "metadata": {},
     "output_type": "execute_result"
    }
   ],
   "source": [
    "type(x)"
   ]
  },
  {
   "cell_type": "markdown",
   "id": "6daba825-75e9-41c5-881a-69ec37262a3a",
   "metadata": {},
   "source": [
    "## float"
   ]
  },
  {
   "cell_type": "code",
   "execution_count": 88,
   "id": "6427a6ac-e6ef-4e80-a1c5-87bf93bbfb4c",
   "metadata": {},
   "outputs": [],
   "source": [
    "y = 5.3"
   ]
  },
  {
   "cell_type": "code",
   "execution_count": 89,
   "id": "b3cb40d4-6e2a-460f-843e-2035add119ad",
   "metadata": {},
   "outputs": [
    {
     "data": {
      "text/plain": [
       "float"
      ]
     },
     "execution_count": 89,
     "metadata": {},
     "output_type": "execute_result"
    }
   ],
   "source": [
    "type(y)"
   ]
  },
  {
   "cell_type": "code",
   "execution_count": 90,
   "id": "7f0492c0-7083-42a5-ad4e-be92c37ef52f",
   "metadata": {},
   "outputs": [],
   "source": [
    "x= 5.0"
   ]
  },
  {
   "cell_type": "code",
   "execution_count": 91,
   "id": "c7282c56-6078-4da9-b050-b6600d995237",
   "metadata": {},
   "outputs": [
    {
     "data": {
      "text/plain": [
       "float"
      ]
     },
     "execution_count": 91,
     "metadata": {},
     "output_type": "execute_result"
    }
   ],
   "source": [
    "type(x)"
   ]
  },
  {
   "cell_type": "markdown",
   "id": "633ace81-0818-4b3f-90c2-dfad3aa34b0e",
   "metadata": {},
   "source": [
    "## str"
   ]
  },
  {
   "cell_type": "code",
   "execution_count": 93,
   "id": "c22c4734-7338-452a-ad81-afc4f4a571f2",
   "metadata": {},
   "outputs": [],
   "source": [
    "str1= 'python is awesome'"
   ]
  },
  {
   "cell_type": "code",
   "execution_count": 94,
   "id": "d9a76f6f-6436-4c48-95f9-da1913eddf12",
   "metadata": {},
   "outputs": [
    {
     "data": {
      "text/plain": [
       "str"
      ]
     },
     "execution_count": 94,
     "metadata": {},
     "output_type": "execute_result"
    }
   ],
   "source": [
    "type(str1)"
   ]
  },
  {
   "cell_type": "markdown",
   "id": "95731dec-862c-4d0e-b98a-98a7d568e831",
   "metadata": {},
   "source": [
    "## bool"
   ]
  },
  {
   "cell_type": "code",
   "execution_count": 95,
   "id": "64761666-d92c-4e92-9cfb-76855c27978d",
   "metadata": {},
   "outputs": [],
   "source": [
    "a =True"
   ]
  },
  {
   "cell_type": "code",
   "execution_count": 96,
   "id": "bffdd77b-b6bf-43e5-86b6-0d5a8cd90f55",
   "metadata": {},
   "outputs": [
    {
     "data": {
      "text/plain": [
       "bool"
      ]
     },
     "execution_count": 96,
     "metadata": {},
     "output_type": "execute_result"
    }
   ],
   "source": [
    "type(a)"
   ]
  },
  {
   "cell_type": "code",
   "execution_count": 97,
   "id": "0dcf2750-e7cd-4f5b-9e5e-9288c1526eaa",
   "metadata": {},
   "outputs": [
    {
     "data": {
      "text/plain": [
       "False"
      ]
     },
     "execution_count": 97,
     "metadata": {},
     "output_type": "execute_result"
    }
   ],
   "source": [
    "x == y"
   ]
  },
  {
   "cell_type": "code",
   "execution_count": 98,
   "id": "12def3d8-f51f-4f04-a34b-c30a7bfaaa81",
   "metadata": {},
   "outputs": [
    {
     "data": {
      "text/plain": [
       "False"
      ]
     },
     "execution_count": 98,
     "metadata": {},
     "output_type": "execute_result"
    }
   ],
   "source": [
    "5 == 6"
   ]
  },
  {
   "cell_type": "code",
   "execution_count": 99,
   "id": "4e1fb77f-dc41-4f84-b290-df2b519cbad9",
   "metadata": {},
   "outputs": [
    {
     "data": {
      "text/plain": [
       "True"
      ]
     },
     "execution_count": 99,
     "metadata": {},
     "output_type": "execute_result"
    }
   ],
   "source": [
    "6 == 6"
   ]
  },
  {
   "cell_type": "markdown",
   "id": "88ed73e1-ecc4-40aa-ba35-7ce5bf188a90",
   "metadata": {},
   "source": [
    "## List"
   ]
  },
  {
   "cell_type": "code",
   "execution_count": 100,
   "id": "55f2c8fd-2fe7-4bee-8b37-cd884cdf2047",
   "metadata": {},
   "outputs": [],
   "source": [
    "list1 = [1,2,3]"
   ]
  },
  {
   "cell_type": "code",
   "execution_count": 101,
   "id": "166dbc7c-268f-47c9-92e6-9e4a2102b343",
   "metadata": {},
   "outputs": [
    {
     "data": {
      "text/plain": [
       "list"
      ]
     },
     "execution_count": 101,
     "metadata": {},
     "output_type": "execute_result"
    }
   ],
   "source": [
    "type(list1)"
   ]
  },
  {
   "cell_type": "markdown",
   "id": "b629ef59-a7ac-48b2-b055-b9dcb8d4a8f1",
   "metadata": {},
   "source": [
    "## tuple"
   ]
  },
  {
   "cell_type": "code",
   "execution_count": 102,
   "id": "6e2dfb08-cec5-467b-8ee4-2a0aec4507b9",
   "metadata": {},
   "outputs": [],
   "source": [
    "tuple1= (1,2,3)"
   ]
  },
  {
   "cell_type": "code",
   "execution_count": 103,
   "id": "bccf815a-b822-4565-b86a-51c413d8f8b5",
   "metadata": {},
   "outputs": [
    {
     "data": {
      "text/plain": [
       "tuple"
      ]
     },
     "execution_count": 103,
     "metadata": {},
     "output_type": "execute_result"
    }
   ],
   "source": [
    "type(tuple1)"
   ]
  },
  {
   "cell_type": "markdown",
   "id": "54f23596-a2bb-4838-a0fc-d09f45af1439",
   "metadata": {},
   "source": [
    "## Dict"
   ]
  },
  {
   "cell_type": "code",
   "execution_count": 105,
   "id": "1eb1cb4a-1044-4116-9aca-8ca2b2401e11",
   "metadata": {},
   "outputs": [],
   "source": [
    "dict1= {'Key': 'value'}"
   ]
  },
  {
   "cell_type": "code",
   "execution_count": 106,
   "id": "e52ca4f1-f799-4725-93d7-f079b4f2d16f",
   "metadata": {},
   "outputs": [
    {
     "data": {
      "text/plain": [
       "{'Key': 'value'}"
      ]
     },
     "execution_count": 106,
     "metadata": {},
     "output_type": "execute_result"
    }
   ],
   "source": [
    "dict1"
   ]
  },
  {
   "cell_type": "code",
   "execution_count": 107,
   "id": "ba5667b6-546f-4eed-88fd-1d27d79c5dd6",
   "metadata": {},
   "outputs": [
    {
     "data": {
      "text/plain": [
       "dict"
      ]
     },
     "execution_count": 107,
     "metadata": {},
     "output_type": "execute_result"
    }
   ],
   "source": [
    "type(dict1)"
   ]
  },
  {
   "cell_type": "markdown",
   "id": "58a80e3c-41c5-43d7-ac57-957cb93dae73",
   "metadata": {},
   "source": [
    "## Set"
   ]
  },
  {
   "cell_type": "code",
   "execution_count": 108,
   "id": "ee077fa3-e5fe-4adf-a087-8ef71071ea0d",
   "metadata": {},
   "outputs": [],
   "source": [
    "set1= {1,2,3}"
   ]
  },
  {
   "cell_type": "code",
   "execution_count": 109,
   "id": "cdc61e7c-4997-4e92-95ff-da9d6dbd1928",
   "metadata": {},
   "outputs": [
    {
     "data": {
      "text/plain": [
       "set"
      ]
     },
     "execution_count": 109,
     "metadata": {},
     "output_type": "execute_result"
    }
   ],
   "source": [
    "type(set1)"
   ]
  },
  {
   "cell_type": "markdown",
   "id": "460c37e2-c7c4-4bf7-9e9a-09a114509d62",
   "metadata": {},
   "source": [
    "## 2) Arithmetic operators"
   ]
  },
  {
   "cell_type": "markdown",
   "id": "3e3579ee-22fc-483f-bf18-2ae96e86fc7d",
   "metadata": {},
   "source": [
    "**Addition**"
   ]
  },
  {
   "cell_type": "code",
   "execution_count": 111,
   "id": "c679ecff-d8cc-4a04-ad80-ea5bf08936b5",
   "metadata": {},
   "outputs": [
    {
     "data": {
      "text/plain": [
       "13"
      ]
     },
     "execution_count": 111,
     "metadata": {},
     "output_type": "execute_result"
    }
   ],
   "source": [
    "5 + 8"
   ]
  },
  {
   "cell_type": "code",
   "execution_count": 114,
   "id": "97ce6fa3-b8b1-4f96-a948-045c9b815f59",
   "metadata": {},
   "outputs": [
    {
     "data": {
      "text/plain": [
       "10.3"
      ]
     },
     "execution_count": 114,
     "metadata": {},
     "output_type": "execute_result"
    }
   ],
   "source": [
    "x + y"
   ]
  },
  {
   "cell_type": "markdown",
   "id": "1582f96c-ac3e-4efd-ba31-4eb749673b92",
   "metadata": {},
   "source": [
    "**Subtraction**"
   ]
  },
  {
   "cell_type": "code",
   "execution_count": 115,
   "id": "e3eebcf8-5e6c-4803-85d4-2613cabf0402",
   "metadata": {},
   "outputs": [
    {
     "data": {
      "text/plain": [
       "2"
      ]
     },
     "execution_count": 115,
     "metadata": {},
     "output_type": "execute_result"
    }
   ],
   "source": [
    "3 -1"
   ]
  },
  {
   "cell_type": "markdown",
   "id": "13c87993-dd2e-46c9-ab4b-b86e6eb184b6",
   "metadata": {},
   "source": [
    "**Multiplication**"
   ]
  },
  {
   "cell_type": "code",
   "execution_count": 116,
   "id": "7fb19848-95b8-46b4-a4ef-2bf757d22a88",
   "metadata": {},
   "outputs": [
    {
     "data": {
      "text/plain": [
       "30"
      ]
     },
     "execution_count": 116,
     "metadata": {},
     "output_type": "execute_result"
    }
   ],
   "source": [
    "5 * 6"
   ]
  },
  {
   "cell_type": "markdown",
   "id": "26834b40-09b8-40f7-826c-a2924a903319",
   "metadata": {},
   "source": [
    "**Division**"
   ]
  },
  {
   "cell_type": "code",
   "execution_count": 118,
   "id": "43437af1-44a7-41a2-86d4-e1315c63dae4",
   "metadata": {},
   "outputs": [
    {
     "data": {
      "text/plain": [
       "2.3333333333333335"
      ]
     },
     "execution_count": 118,
     "metadata": {},
     "output_type": "execute_result"
    }
   ],
   "source": [
    "7 / 3"
   ]
  },
  {
   "cell_type": "markdown",
   "id": "cb9f9610-bde9-4794-9778-722ee832b173",
   "metadata": {},
   "source": [
    "**Floor Division**"
   ]
  },
  {
   "cell_type": "code",
   "execution_count": 119,
   "id": "62acc0df-922d-4abd-b45b-1c38d4fbbf2f",
   "metadata": {},
   "outputs": [
    {
     "data": {
      "text/plain": [
       "2"
      ]
     },
     "execution_count": 119,
     "metadata": {},
     "output_type": "execute_result"
    }
   ],
   "source": [
    "7 // 3"
   ]
  },
  {
   "cell_type": "markdown",
   "id": "f27673e6-2fc0-4757-a8a1-44e87270b121",
   "metadata": {},
   "source": [
    "# Modul"
   ]
  },
  {
   "cell_type": "code",
   "execution_count": 120,
   "id": "9780e36b-1069-49b7-b44a-e2abb943aad8",
   "metadata": {},
   "outputs": [
    {
     "data": {
      "text/plain": [
       "1"
      ]
     },
     "execution_count": 120,
     "metadata": {},
     "output_type": "execute_result"
    }
   ],
   "source": [
    "7 % 3"
   ]
  },
  {
   "cell_type": "code",
   "execution_count": 123,
   "id": "e021821a-83a2-428b-9f8d-b6dd674cebeb",
   "metadata": {},
   "outputs": [
    {
     "data": {
      "text/plain": [
       "2"
      ]
     },
     "execution_count": 123,
     "metadata": {},
     "output_type": "execute_result"
    }
   ],
   "source": [
    "12 // 5"
   ]
  },
  {
   "cell_type": "code",
   "execution_count": 124,
   "id": "f11d0eee-ef59-4a57-a02e-bfa76c5916dd",
   "metadata": {},
   "outputs": [
    {
     "data": {
      "text/plain": [
       "2"
      ]
     },
     "execution_count": 124,
     "metadata": {},
     "output_type": "execute_result"
    }
   ],
   "source": [
    "12 % 5"
   ]
  },
  {
   "cell_type": "code",
   "execution_count": 125,
   "id": "356b905a-4c66-491c-b313-413d0470e3e0",
   "metadata": {},
   "outputs": [
    {
     "data": {
      "text/plain": [
       "1"
      ]
     },
     "execution_count": 125,
     "metadata": {},
     "output_type": "execute_result"
    }
   ],
   "source": [
    "4 % 3"
   ]
  },
  {
   "cell_type": "markdown",
   "id": "8e333983-2aa3-4e5d-8341-349876f986cf",
   "metadata": {},
   "source": [
    "**Exponent**"
   ]
  },
  {
   "cell_type": "code",
   "execution_count": 126,
   "id": "5ed1781d-3cfb-4806-b5f3-9de7be24b5e0",
   "metadata": {},
   "outputs": [
    {
     "data": {
      "text/plain": [
       "9"
      ]
     },
     "execution_count": 126,
     "metadata": {},
     "output_type": "execute_result"
    }
   ],
   "source": [
    "3 ** 2"
   ]
  },
  {
   "cell_type": "code",
   "execution_count": 127,
   "id": "41b30b45-117a-4c79-81b1-82e601fd5c79",
   "metadata": {},
   "outputs": [
    {
     "data": {
      "text/plain": [
       "8"
      ]
     },
     "execution_count": 127,
     "metadata": {},
     "output_type": "execute_result"
    }
   ],
   "source": [
    "2 ** 3"
   ]
  },
  {
   "cell_type": "code",
   "execution_count": 128,
   "id": "e680a45d-c32e-4664-bde6-f2265f9eacba",
   "metadata": {},
   "outputs": [
    {
     "data": {
      "text/plain": [
       "3.0"
      ]
     },
     "execution_count": 128,
     "metadata": {},
     "output_type": "execute_result"
    }
   ],
   "source": [
    "9 ** .5"
   ]
  },
  {
   "cell_type": "code",
   "execution_count": 129,
   "id": "febdb02b-570d-4c6a-b234-6d5b412ac1ed",
   "metadata": {},
   "outputs": [
    {
     "data": {
      "text/plain": [
       "3.0"
      ]
     },
     "execution_count": 129,
     "metadata": {},
     "output_type": "execute_result"
    }
   ],
   "source": [
    "27 ** (1/3)"
   ]
  },
  {
   "cell_type": "markdown",
   "id": "953d65d5-6229-4677-9cee-90c72f41cbde",
   "metadata": {},
   "source": [
    "## 3) Assignment operators"
   ]
  },
  {
   "cell_type": "code",
   "execution_count": 130,
   "id": "08a65faa-6837-47e1-8568-c77a372783f7",
   "metadata": {},
   "outputs": [],
   "source": [
    "a = 50"
   ]
  },
  {
   "cell_type": "code",
   "execution_count": 131,
   "id": "7fb42ba2-1225-4aef-b0fd-5ffd344cb0e0",
   "metadata": {},
   "outputs": [],
   "source": [
    "a = a + 1"
   ]
  },
  {
   "cell_type": "code",
   "execution_count": 132,
   "id": "7e9249ed-c5ba-4038-94c4-a8e97bb90ed6",
   "metadata": {},
   "outputs": [
    {
     "data": {
      "text/plain": [
       "51"
      ]
     },
     "execution_count": 132,
     "metadata": {},
     "output_type": "execute_result"
    }
   ],
   "source": [
    "a"
   ]
  },
  {
   "cell_type": "code",
   "execution_count": 133,
   "id": "d43f6159-5ad6-43bd-9bdb-1998df646a3a",
   "metadata": {},
   "outputs": [],
   "source": [
    "a += 1"
   ]
  },
  {
   "cell_type": "code",
   "execution_count": 134,
   "id": "c71e505e-6f89-4fda-ad76-b7ef3a396c11",
   "metadata": {},
   "outputs": [
    {
     "data": {
      "text/plain": [
       "52"
      ]
     },
     "execution_count": 134,
     "metadata": {},
     "output_type": "execute_result"
    }
   ],
   "source": [
    "a"
   ]
  },
  {
   "cell_type": "code",
   "execution_count": 135,
   "id": "1ee0fdbb-00f5-42e1-a7f5-98425dd4c0ad",
   "metadata": {},
   "outputs": [],
   "source": [
    "a -= 2"
   ]
  },
  {
   "cell_type": "code",
   "execution_count": 136,
   "id": "f1edfa78-4c90-4945-929c-ab9d913c7217",
   "metadata": {},
   "outputs": [
    {
     "data": {
      "text/plain": [
       "50"
      ]
     },
     "execution_count": 136,
     "metadata": {},
     "output_type": "execute_result"
    }
   ],
   "source": [
    "a"
   ]
  },
  {
   "cell_type": "code",
   "execution_count": 137,
   "id": "16a022e8-33aa-4027-802b-b27800301110",
   "metadata": {},
   "outputs": [],
   "source": [
    "a = a - 2"
   ]
  },
  {
   "cell_type": "code",
   "execution_count": 138,
   "id": "184f5f8e-4ade-45dc-b73f-dc0df425dba7",
   "metadata": {},
   "outputs": [
    {
     "data": {
      "text/plain": [
       "48"
      ]
     },
     "execution_count": 138,
     "metadata": {},
     "output_type": "execute_result"
    }
   ],
   "source": [
    "a"
   ]
  },
  {
   "cell_type": "code",
   "execution_count": 139,
   "id": "2b6b8aab-d11d-4fbd-9cde-04b36d66fb51",
   "metadata": {},
   "outputs": [],
   "source": [
    "a = a * 2"
   ]
  },
  {
   "cell_type": "code",
   "execution_count": 140,
   "id": "271e90f4-a8d4-4297-abc1-acc7cf60dffc",
   "metadata": {},
   "outputs": [
    {
     "data": {
      "text/plain": [
       "96"
      ]
     },
     "execution_count": 140,
     "metadata": {},
     "output_type": "execute_result"
    }
   ],
   "source": [
    "a"
   ]
  },
  {
   "cell_type": "code",
   "execution_count": 143,
   "id": "b8577d14-a6ce-4617-a197-45e45bc5e0ee",
   "metadata": {},
   "outputs": [],
   "source": [
    "a *= 100"
   ]
  },
  {
   "cell_type": "code",
   "execution_count": 144,
   "id": "ef093b1a-ef2d-4bc5-ab82-6b33e5f549b2",
   "metadata": {},
   "outputs": [
    {
     "data": {
      "text/plain": [
       "19200"
      ]
     },
     "execution_count": 144,
     "metadata": {},
     "output_type": "execute_result"
    }
   ],
   "source": [
    "a"
   ]
  },
  {
   "cell_type": "code",
   "execution_count": 145,
   "id": "8f065c1c-dabc-4b0c-b794-021734b21bf5",
   "metadata": {},
   "outputs": [],
   "source": [
    "a /= 200"
   ]
  },
  {
   "cell_type": "code",
   "execution_count": 146,
   "id": "c6744ad1-cd77-4d39-8006-6ee63ae77b0e",
   "metadata": {},
   "outputs": [
    {
     "data": {
      "text/plain": [
       "96.0"
      ]
     },
     "execution_count": 146,
     "metadata": {},
     "output_type": "execute_result"
    }
   ],
   "source": [
    "a"
   ]
  },
  {
   "cell_type": "markdown",
   "id": "f78050f6-0a8d-4416-a1ba-72577e0c4d75",
   "metadata": {},
   "source": [
    "## 5) Application (Calculator)"
   ]
  },
  {
   "cell_type": "code",
   "execution_count": 147,
   "id": "119a0b58-dec4-4783-a5fd-4dafcdbb4518",
   "metadata": {},
   "outputs": [],
   "source": [
    "# take input x\n",
    "# take input y\n",
    "# print x,y add, sub, mult, div, floor div, mod"
   ]
  },
  {
   "cell_type": "code",
   "execution_count": 149,
   "id": "46e3a77c-06bb-4390-9a79-6f7c16cb179f",
   "metadata": {},
   "outputs": [
    {
     "name": "stdin",
     "output_type": "stream",
     "text": [
      "enter the first number:  2\n",
      "enter the second number:  0\n"
     ]
    },
    {
     "name": "stdout",
     "output_type": "stream",
     "text": [
      "2.0\n",
      "2.0\n"
     ]
    },
    {
     "ename": "ZeroDivisionError",
     "evalue": "float division by zero",
     "output_type": "error",
     "traceback": [
      "\u001b[1;31m---------------------------------------------------------------------------\u001b[0m",
      "\u001b[1;31mZeroDivisionError\u001b[0m                         Traceback (most recent call last)",
      "Cell \u001b[1;32mIn[149], line 6\u001b[0m\n\u001b[0;32m      4\u001b[0m \u001b[38;5;28mprint\u001b[39m(x \u001b[38;5;241m+\u001b[39m y)\n\u001b[0;32m      5\u001b[0m \u001b[38;5;28mprint\u001b[39m(x \u001b[38;5;241m-\u001b[39m y)\n\u001b[1;32m----> 6\u001b[0m \u001b[38;5;28mprint\u001b[39m(\u001b[43mx\u001b[49m\u001b[43m \u001b[49m\u001b[38;5;241;43m/\u001b[39;49m\u001b[43m \u001b[49m\u001b[43my\u001b[49m)\n\u001b[0;32m      7\u001b[0m \u001b[38;5;28mprint\u001b[39m(x \u001b[38;5;241m*\u001b[39m y)\n\u001b[0;32m      8\u001b[0m \u001b[38;5;28mprint\u001b[39m(x \u001b[38;5;241m/\u001b[39m\u001b[38;5;241m/\u001b[39m y)\n",
      "\u001b[1;31mZeroDivisionError\u001b[0m: float division by zero"
     ]
    }
   ],
   "source": [
    "x= float(input('enter the first number: '))\n",
    "y= float(input('enter the second number: '))\n",
    "\n",
    "print(x + y)\n",
    "print(x - y)\n",
    "print(x / y)\n",
    "print(x * y)\n",
    "print(x // y)\n",
    "print(x % y)"
   ]
  },
  {
   "cell_type": "markdown",
   "id": "d57a5b00-4fa2-42ee-b9db-2aa7afa36b94",
   "metadata": {},
   "source": [
    "## 2) Comparison Operators "
   ]
  },
  {
   "cell_type": "markdown",
   "id": "e35c1d62-9cd2-4f2c-9e8e-a9b7ab67c10f",
   "metadata": {},
   "source": [
    "**Equal**"
   ]
  },
  {
   "cell_type": "code",
   "execution_count": 157,
   "id": "ba4fc1ff-07b5-4ed9-9a5b-459dcf86e34e",
   "metadata": {},
   "outputs": [
    {
     "data": {
      "text/plain": [
       "True"
      ]
     },
     "execution_count": 157,
     "metadata": {},
     "output_type": "execute_result"
    }
   ],
   "source": [
    "x == y"
   ]
  },
  {
   "cell_type": "code",
   "execution_count": 158,
   "id": "83332e8d-c21a-422b-bffc-305df6ef88ff",
   "metadata": {},
   "outputs": [],
   "source": [
    "y = 3"
   ]
  },
  {
   "cell_type": "markdown",
   "id": "ba7069a1-c989-45e5-a9e3-9fb3d350ed25",
   "metadata": {},
   "source": [
    "**Not Equal**"
   ]
  },
  {
   "cell_type": "code",
   "execution_count": 160,
   "id": "f9166ce0-cf7f-4885-8a57-a3ee17484049",
   "metadata": {},
   "outputs": [
    {
     "data": {
      "text/plain": [
       "True"
      ]
     },
     "execution_count": 160,
     "metadata": {},
     "output_type": "execute_result"
    }
   ],
   "source": [
    "x != y"
   ]
  },
  {
   "cell_type": "code",
   "execution_count": 162,
   "id": "10952299-52b4-4379-bac5-0a55b84b943a",
   "metadata": {},
   "outputs": [
    {
     "data": {
      "text/plain": [
       "False"
      ]
     },
     "execution_count": 162,
     "metadata": {},
     "output_type": "execute_result"
    }
   ],
   "source": [
    "2 == '2'"
   ]
  },
  {
   "cell_type": "code",
   "execution_count": 163,
   "id": "d00bdac6-5e93-4eef-ad70-45b49ca22ff9",
   "metadata": {},
   "outputs": [
    {
     "data": {
      "text/plain": [
       "True"
      ]
     },
     "execution_count": 163,
     "metadata": {},
     "output_type": "execute_result"
    }
   ],
   "source": [
    "2 == int('2')"
   ]
  },
  {
   "cell_type": "markdown",
   "id": "f6540bf4-fe02-46da-884e-6420d6f1bd99",
   "metadata": {},
   "source": [
    "**Greater Than**"
   ]
  },
  {
   "cell_type": "code",
   "execution_count": 164,
   "id": "1c4fa854-cc65-4c09-8e32-6256640cd9db",
   "metadata": {},
   "outputs": [
    {
     "data": {
      "text/plain": [
       "True"
      ]
     },
     "execution_count": 164,
     "metadata": {},
     "output_type": "execute_result"
    }
   ],
   "source": [
    "2 > 1"
   ]
  },
  {
   "cell_type": "code",
   "execution_count": 165,
   "id": "e5db3742-0a8e-42c9-872a-4ea96d53a3a1",
   "metadata": {},
   "outputs": [
    {
     "data": {
      "text/plain": [
       "False"
      ]
     },
     "execution_count": 165,
     "metadata": {},
     "output_type": "execute_result"
    }
   ],
   "source": [
    "3 > 5"
   ]
  },
  {
   "cell_type": "markdown",
   "id": "5ca480a5-412e-4162-9086-59bbe6e75529",
   "metadata": {},
   "source": [
    "**Less Than**"
   ]
  },
  {
   "cell_type": "code",
   "execution_count": 166,
   "id": "7c54b4ad-40f9-40c0-a029-356f34347189",
   "metadata": {},
   "outputs": [
    {
     "data": {
      "text/plain": [
       "False"
      ]
     },
     "execution_count": 166,
     "metadata": {},
     "output_type": "execute_result"
    }
   ],
   "source": [
    "5 < 3"
   ]
  },
  {
   "cell_type": "code",
   "execution_count": 167,
   "id": "a7f0a6e4-824f-4961-a0f9-6c814d1b37bd",
   "metadata": {},
   "outputs": [
    {
     "data": {
      "text/plain": [
       "True"
      ]
     },
     "execution_count": 167,
     "metadata": {},
     "output_type": "execute_result"
    }
   ],
   "source": [
    "5 < 7"
   ]
  },
  {
   "cell_type": "markdown",
   "id": "9252d8b0-0b01-4085-b247-ed794d677c75",
   "metadata": {},
   "source": [
    "**Greater Than or Equal to**"
   ]
  },
  {
   "cell_type": "code",
   "execution_count": 168,
   "id": "58f0b8b5-389e-42ee-bcb8-5e3aa52a808b",
   "metadata": {},
   "outputs": [
    {
     "data": {
      "text/plain": [
       "True"
      ]
     },
     "execution_count": 168,
     "metadata": {},
     "output_type": "execute_result"
    }
   ],
   "source": [
    "2 >= 2"
   ]
  },
  {
   "cell_type": "code",
   "execution_count": 169,
   "id": "f2f935fd-ccbf-4601-b094-7fe06d46be0f",
   "metadata": {},
   "outputs": [
    {
     "data": {
      "text/plain": [
       "True"
      ]
     },
     "execution_count": 169,
     "metadata": {},
     "output_type": "execute_result"
    }
   ],
   "source": [
    "3 >= 1"
   ]
  },
  {
   "cell_type": "code",
   "execution_count": 170,
   "id": "fddefc18-f763-424a-bcab-0fa864e3c7ad",
   "metadata": {},
   "outputs": [
    {
     "data": {
      "text/plain": [
       "False"
      ]
     },
     "execution_count": 170,
     "metadata": {},
     "output_type": "execute_result"
    }
   ],
   "source": [
    "3 >= 4"
   ]
  },
  {
   "cell_type": "markdown",
   "id": "82bbb2ac-7de5-422a-864b-807b17353ac7",
   "metadata": {},
   "source": [
    "**Less than or Equal to**"
   ]
  },
  {
   "cell_type": "code",
   "execution_count": 171,
   "id": "62842e60-c038-4a77-85dd-7f3e1fe620a0",
   "metadata": {},
   "outputs": [
    {
     "data": {
      "text/plain": [
       "True"
      ]
     },
     "execution_count": 171,
     "metadata": {},
     "output_type": "execute_result"
    }
   ],
   "source": [
    "2 <= 2"
   ]
  },
  {
   "cell_type": "code",
   "execution_count": 172,
   "id": "9638839e-ba9e-4321-9b4f-0f33f69997a3",
   "metadata": {},
   "outputs": [
    {
     "data": {
      "text/plain": [
       "True"
      ]
     },
     "execution_count": 172,
     "metadata": {},
     "output_type": "execute_result"
    }
   ],
   "source": [
    "2 <= 4"
   ]
  },
  {
   "cell_type": "markdown",
   "id": "71d22d14-8340-4746-ad3d-3636526f000c",
   "metadata": {},
   "source": [
    "## 3) Logic operators "
   ]
  },
  {
   "cell_type": "markdown",
   "id": "ea6f2eb4-2d9d-444e-8495-af03cf4276eb",
   "metadata": {},
   "source": [
    "**AND**"
   ]
  },
  {
   "cell_type": "code",
   "execution_count": 173,
   "id": "72df018e-5187-4ac3-8e46-dd3fc4c774e6",
   "metadata": {},
   "outputs": [
    {
     "data": {
      "text/plain": [
       "True"
      ]
     },
     "execution_count": 173,
     "metadata": {},
     "output_type": "execute_result"
    }
   ],
   "source": [
    "True and True"
   ]
  },
  {
   "cell_type": "code",
   "execution_count": 176,
   "id": "ebbc8d18-808d-4eec-ae2c-c8fad35eed6e",
   "metadata": {},
   "outputs": [
    {
     "data": {
      "text/plain": [
       "False"
      ]
     },
     "execution_count": 176,
     "metadata": {},
     "output_type": "execute_result"
    }
   ],
   "source": [
    "True and False"
   ]
  },
  {
   "cell_type": "code",
   "execution_count": 175,
   "id": "784afaf2-9288-498b-b754-3b03064dd260",
   "metadata": {},
   "outputs": [
    {
     "data": {
      "text/plain": [
       "False"
      ]
     },
     "execution_count": 175,
     "metadata": {},
     "output_type": "execute_result"
    }
   ],
   "source": [
    "5 == 5 and 5 == 7"
   ]
  },
  {
   "cell_type": "code",
   "execution_count": 177,
   "id": "7adbd33c-44d9-4e84-9273-a31365eb11a3",
   "metadata": {},
   "outputs": [
    {
     "data": {
      "text/plain": [
       "False"
      ]
     },
     "execution_count": 177,
     "metadata": {},
     "output_type": "execute_result"
    }
   ],
   "source": [
    "False and True"
   ]
  },
  {
   "cell_type": "code",
   "execution_count": 178,
   "id": "b9e2408f-91df-4b88-aa87-5cdaf6689c6e",
   "metadata": {},
   "outputs": [
    {
     "data": {
      "text/plain": [
       "False"
      ]
     },
     "execution_count": 178,
     "metadata": {},
     "output_type": "execute_result"
    }
   ],
   "source": [
    "False and False"
   ]
  },
  {
   "cell_type": "markdown",
   "id": "340be101-c768-4edf-b842-e627743ee6b9",
   "metadata": {},
   "source": [
    "**OR**"
   ]
  },
  {
   "cell_type": "code",
   "execution_count": 179,
   "id": "79d3a827-438e-4816-b4e3-bed73a904693",
   "metadata": {},
   "outputs": [
    {
     "data": {
      "text/plain": [
       "True"
      ]
     },
     "execution_count": 179,
     "metadata": {},
     "output_type": "execute_result"
    }
   ],
   "source": [
    "True or True"
   ]
  },
  {
   "cell_type": "code",
   "execution_count": 180,
   "id": "c1e04eed-9b91-4ad6-8735-d2270e1cf3b2",
   "metadata": {},
   "outputs": [
    {
     "data": {
      "text/plain": [
       "True"
      ]
     },
     "execution_count": 180,
     "metadata": {},
     "output_type": "execute_result"
    }
   ],
   "source": [
    "True or False"
   ]
  },
  {
   "cell_type": "code",
   "execution_count": 181,
   "id": "71b2dd0a-9525-41b6-a89e-54e307dc25d0",
   "metadata": {},
   "outputs": [
    {
     "data": {
      "text/plain": [
       "True"
      ]
     },
     "execution_count": 181,
     "metadata": {},
     "output_type": "execute_result"
    }
   ],
   "source": [
    "5 == 5 or 5 == 7"
   ]
  },
  {
   "cell_type": "code",
   "execution_count": 182,
   "id": "4fdbd9d2-a6fb-4dcd-a6e7-05b3708c8f35",
   "metadata": {},
   "outputs": [
    {
     "data": {
      "text/plain": [
       "True"
      ]
     },
     "execution_count": 182,
     "metadata": {},
     "output_type": "execute_result"
    }
   ],
   "source": [
    "False or True"
   ]
  },
  {
   "cell_type": "code",
   "execution_count": 183,
   "id": "88d1d374-c070-4884-b388-e800372eb06b",
   "metadata": {},
   "outputs": [
    {
     "data": {
      "text/plain": [
       "False"
      ]
     },
     "execution_count": 183,
     "metadata": {},
     "output_type": "execute_result"
    }
   ],
   "source": [
    "False or False"
   ]
  },
  {
   "cell_type": "code",
   "execution_count": 184,
   "id": "474a9961-862c-4ac8-993a-35651aadf5ba",
   "metadata": {},
   "outputs": [
    {
     "data": {
      "text/plain": [
       "True"
      ]
     },
     "execution_count": 184,
     "metadata": {},
     "output_type": "execute_result"
    }
   ],
   "source": [
    "1 < 2  or 2 < 3"
   ]
  },
  {
   "cell_type": "markdown",
   "id": "489574cc-972d-4679-b532-0c361150d9fb",
   "metadata": {},
   "source": [
    "**NOT**"
   ]
  },
  {
   "cell_type": "code",
   "execution_count": 185,
   "id": "896c69f8-b01b-4407-80a1-cabc9d93f977",
   "metadata": {},
   "outputs": [
    {
     "data": {
      "text/plain": [
       "False"
      ]
     },
     "execution_count": 185,
     "metadata": {},
     "output_type": "execute_result"
    }
   ],
   "source": [
    "not True"
   ]
  },
  {
   "cell_type": "code",
   "execution_count": 186,
   "id": "e2695984-2529-4507-9e70-81b80f95546a",
   "metadata": {},
   "outputs": [
    {
     "data": {
      "text/plain": [
       "True"
      ]
     },
     "execution_count": 186,
     "metadata": {},
     "output_type": "execute_result"
    }
   ],
   "source": [
    "not False"
   ]
  },
  {
   "cell_type": "code",
   "execution_count": 187,
   "id": "f6e3f1be-4f15-4f3c-8d46-943b21855c67",
   "metadata": {},
   "outputs": [
    {
     "data": {
      "text/plain": [
       "False"
      ]
     },
     "execution_count": 187,
     "metadata": {},
     "output_type": "execute_result"
    }
   ],
   "source": [
    "not 1 == 1"
   ]
  },
  {
   "cell_type": "code",
   "execution_count": 188,
   "id": "114481bd-3ec1-4a39-aa3e-3829d5ea6efe",
   "metadata": {},
   "outputs": [
    {
     "data": {
      "text/plain": [
       "False"
      ]
     },
     "execution_count": 188,
     "metadata": {},
     "output_type": "execute_result"
    }
   ],
   "source": [
    "1 != 1"
   ]
  },
  {
   "cell_type": "code",
   "execution_count": 189,
   "id": "1e3bd6c3-2fc3-4cbc-a095-722b7be8eb6a",
   "metadata": {},
   "outputs": [
    {
     "data": {
      "text/plain": [
       "True"
      ]
     },
     "execution_count": 189,
     "metadata": {},
     "output_type": "execute_result"
    }
   ],
   "source": [
    "( 1 == 5 ) or ( 2 == 2 and 3==3)"
   ]
  },
  {
   "cell_type": "markdown",
   "id": "0ccaf897-c496-41a6-9063-2fef43e03ff4",
   "metadata": {},
   "source": [
    "## 3) String Indexing\n",
    "We know strings are a sequence, which means Python can use indexes to call parts of the sequence. Let's learn how this works.\n",
    "\n",
    "In Python, we use brackets <code>[]</code> after an object to call its index. We should also note that indexing starts at 0 for Python. Let's create a new object called <code>s</code> and then walk through a few examples of indexing."
   ]
  },
  {
   "cell_type": "code",
   "execution_count": 190,
   "id": "09470b32-bd79-4639-b4df-698222252980",
   "metadata": {},
   "outputs": [
    {
     "data": {
      "text/plain": [
       "'Hello World'"
      ]
     },
     "execution_count": 190,
     "metadata": {},
     "output_type": "execute_result"
    }
   ],
   "source": [
    "s = 'Hello World'\n",
    "s"
   ]
  },
  {
   "cell_type": "code",
   "execution_count": null,
   "id": "3090e53a-ff8f-40b0-9c06-c13bb318f564",
   "metadata": {},
   "outputs": [],
   "source": [
    "# Show first element (in this case a letter)\n",
    "'Hello World'\n",
    " 012345678910"
   ]
  },
  {
   "cell_type": "code",
   "execution_count": 192,
   "id": "322ab973-cee8-4be2-9ada-353465b62c45",
   "metadata": {},
   "outputs": [
    {
     "data": {
      "text/plain": [
       "'H'"
      ]
     },
     "execution_count": 192,
     "metadata": {},
     "output_type": "execute_result"
    }
   ],
   "source": [
    "s[0]"
   ]
  },
  {
   "cell_type": "code",
   "execution_count": 193,
   "id": "defd0f79-0797-43fe-aaa2-34b6c788837a",
   "metadata": {},
   "outputs": [
    {
     "data": {
      "text/plain": [
       "'W'"
      ]
     },
     "execution_count": 193,
     "metadata": {},
     "output_type": "execute_result"
    }
   ],
   "source": [
    "s[6]"
   ]
  },
  {
   "cell_type": "code",
   "execution_count": 194,
   "id": "cff474de-6a63-448b-a11f-f17a5d7aea05",
   "metadata": {},
   "outputs": [
    {
     "data": {
      "text/plain": [
       "' '"
      ]
     },
     "execution_count": 194,
     "metadata": {},
     "output_type": "execute_result"
    }
   ],
   "source": [
    "s[5]"
   ]
  },
  {
   "cell_type": "code",
   "execution_count": 195,
   "id": "db5eff09-6b91-4bc5-b695-80c40983323e",
   "metadata": {},
   "outputs": [
    {
     "data": {
      "text/plain": [
       "'d'"
      ]
     },
     "execution_count": 195,
     "metadata": {},
     "output_type": "execute_result"
    }
   ],
   "source": [
    "s[10]"
   ]
  },
  {
   "cell_type": "code",
   "execution_count": 197,
   "id": "f8a34fb4-632d-432e-9d00-94a80e249ae1",
   "metadata": {},
   "outputs": [
    {
     "ename": "IndexError",
     "evalue": "string index out of range",
     "output_type": "error",
     "traceback": [
      "\u001b[1;31m---------------------------------------------------------------------------\u001b[0m",
      "\u001b[1;31mIndexError\u001b[0m                                Traceback (most recent call last)",
      "Cell \u001b[1;32mIn[197], line 1\u001b[0m\n\u001b[1;32m----> 1\u001b[0m \u001b[43ms\u001b[49m\u001b[43m[\u001b[49m\u001b[38;5;241;43m11\u001b[39;49m\u001b[43m]\u001b[49m\n",
      "\u001b[1;31mIndexError\u001b[0m: string index out of range"
     ]
    }
   ],
   "source": [
    "s[11]"
   ]
  },
  {
   "cell_type": "code",
   "execution_count": 213,
   "id": "7374f23d-40fd-46ab-8c6f-edcdedc22cc1",
   "metadata": {},
   "outputs": [
    {
     "data": {
      "text/plain": [
       "'d'"
      ]
     },
     "execution_count": 213,
     "metadata": {},
     "output_type": "execute_result"
    }
   ],
   "source": [
    "# Last letter (one index behind 0 so it loops back around)\n",
    "s[-1]"
   ]
  },
  {
   "cell_type": "code",
   "execution_count": 198,
   "id": "5aaa70ee-4f0f-4360-a1d2-99f18e2d64f5",
   "metadata": {},
   "outputs": [
    {
     "data": {
      "text/plain": [
       "'l'"
      ]
     },
     "execution_count": 198,
     "metadata": {},
     "output_type": "execute_result"
    }
   ],
   "source": [
    "s[-2]"
   ]
  },
  {
   "cell_type": "code",
   "execution_count": 199,
   "id": "20751b0b-66f5-47fa-a357-bfdf63bb56cb",
   "metadata": {},
   "outputs": [
    {
     "data": {
      "text/plain": [
       "'r'"
      ]
     },
     "execution_count": 199,
     "metadata": {},
     "output_type": "execute_result"
    }
   ],
   "source": [
    "s[-3]"
   ]
  },
  {
   "cell_type": "markdown",
   "id": "9e58d074-829f-463c-afaf-326ee30db2c5",
   "metadata": {},
   "source": [
    "## 4) String Slicing"
   ]
  },
  {
   "cell_type": "code",
   "execution_count": 200,
   "id": "b39287be-ab64-49b2-8b72-a37db53fc569",
   "metadata": {},
   "outputs": [
    {
     "data": {
      "text/plain": [
       "'Hello World'"
      ]
     },
     "execution_count": 200,
     "metadata": {},
     "output_type": "execute_result"
    }
   ],
   "source": [
    "s"
   ]
  },
  {
   "cell_type": "code",
   "execution_count": 202,
   "id": "b9a00136-abd9-42a9-9d8e-43e85c6b2715",
   "metadata": {},
   "outputs": [
    {
     "data": {
      "text/plain": [
       "'Hello'"
      ]
     },
     "execution_count": 202,
     "metadata": {},
     "output_type": "execute_result"
    }
   ],
   "source": [
    "s[0:5]"
   ]
  },
  {
   "cell_type": "code",
   "execution_count": 203,
   "id": "54ade492-9cd5-47b5-a3d8-e7f0b243e671",
   "metadata": {},
   "outputs": [
    {
     "data": {
      "text/plain": [
       "'Hello'"
      ]
     },
     "execution_count": 203,
     "metadata": {},
     "output_type": "execute_result"
    }
   ],
   "source": [
    "s[:5]"
   ]
  },
  {
   "cell_type": "code",
   "execution_count": 205,
   "id": "f098c952-5ad2-40a2-aabe-25decd83fbe2",
   "metadata": {},
   "outputs": [
    {
     "data": {
      "text/plain": [
       "'Hello World'"
      ]
     },
     "execution_count": 205,
     "metadata": {},
     "output_type": "execute_result"
    }
   ],
   "source": [
    "s[0:11]"
   ]
  },
  {
   "cell_type": "code",
   "execution_count": 206,
   "id": "dd90817b-0d30-4346-a555-f3c7a49e8458",
   "metadata": {},
   "outputs": [
    {
     "data": {
      "text/plain": [
       "'Hello World'"
      ]
     },
     "execution_count": 206,
     "metadata": {},
     "output_type": "execute_result"
    }
   ],
   "source": [
    "s[:]"
   ]
  },
  {
   "cell_type": "code",
   "execution_count": 208,
   "id": "ae773c8c-9ee0-4cf5-b69d-f3ffdf478c86",
   "metadata": {},
   "outputs": [
    {
     "data": {
      "text/plain": [
       "'Hello World'"
      ]
     },
     "execution_count": 208,
     "metadata": {},
     "output_type": "execute_result"
    }
   ],
   "source": [
    "s[:1000]"
   ]
  },
  {
   "cell_type": "code",
   "execution_count": 209,
   "id": "2c0f4da8-2dc9-4595-897d-2dd42ae08f1d",
   "metadata": {},
   "outputs": [
    {
     "data": {
      "text/plain": [
       "'Hello World'"
      ]
     },
     "execution_count": 209,
     "metadata": {},
     "output_type": "execute_result"
    }
   ],
   "source": [
    "s"
   ]
  },
  {
   "cell_type": "code",
   "execution_count": 212,
   "id": "180b08e6-7c16-4025-9a7b-7b8592c37962",
   "metadata": {},
   "outputs": [
    {
     "data": {
      "text/plain": [
       "'Hello Wor'"
      ]
     },
     "execution_count": 212,
     "metadata": {},
     "output_type": "execute_result"
    }
   ],
   "source": [
    "# Grab everything but the last letter\n",
    "s[:-2]"
   ]
  },
  {
   "cell_type": "code",
   "execution_count": 220,
   "id": "05bfbcd4-5cf5-403b-857d-e5696333f410",
   "metadata": {},
   "outputs": [
    {
     "data": {
      "text/plain": [
       "'HloWrd'"
      ]
     },
     "execution_count": 220,
     "metadata": {},
     "output_type": "execute_result"
    }
   ],
   "source": [
    "# s[ start: stop: step] # SSS role\n",
    "s[::2]"
   ]
  },
  {
   "cell_type": "code",
   "execution_count": 224,
   "id": "8cac67aa-61b6-4275-aa84-b5e7f7d6ad78",
   "metadata": {},
   "outputs": [
    {
     "data": {
      "text/plain": [
       "'dlroW olleH'"
      ]
     },
     "execution_count": 224,
     "metadata": {},
     "output_type": "execute_result"
    }
   ],
   "source": [
    "s[::-1]"
   ]
  },
  {
   "cell_type": "code",
   "execution_count": 225,
   "id": "bbe1c5bb-b79f-477d-8bff-c8e5f45955e2",
   "metadata": {},
   "outputs": [
    {
     "data": {
      "text/plain": [
       "'Hello World'"
      ]
     },
     "execution_count": 225,
     "metadata": {},
     "output_type": "execute_result"
    }
   ],
   "source": [
    "s"
   ]
  }
 ],
 "metadata": {
  "kernelspec": {
   "display_name": "Python 3 (ipykernel)",
   "language": "python",
   "name": "python3"
  },
  "language_info": {
   "codemirror_mode": {
    "name": "ipython",
    "version": 3
   },
   "file_extension": ".py",
   "mimetype": "text/x-python",
   "name": "python",
   "nbconvert_exporter": "python",
   "pygments_lexer": "ipython3",
   "version": "3.12.5"
  }
 },
 "nbformat": 4,
 "nbformat_minor": 5
}
