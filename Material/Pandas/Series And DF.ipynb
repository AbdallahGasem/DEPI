{
 "cells": [
  {
   "cell_type": "code",
   "execution_count": 2,
   "id": "dbe9e360",
   "metadata": {},
   "outputs": [],
   "source": [
    "import pandas as pd\n",
    "\n",
    "math_series = pd.Series([85, 90, 78, 92], name=\"Math\")\n",
    "physics_series = pd.Series([88, 76, 89, 85], name=\"Physics\")\n",
    "french_series = pd.Series([90, 85, 87, 88], name=\"French\")\n",
    "chemistry_series = pd.Series([80, 70, 75, 95], name=\"Chemistry\")\n"
   ]
  },
  {
   "cell_type": "code",
   "execution_count": 3,
   "id": "645c0dcd",
   "metadata": {},
   "outputs": [
    {
     "name": "stdout",
     "output_type": "stream",
     "text": [
      "<class 'pandas.core.frame.DataFrame'>\n",
      "RangeIndex: 4 entries, 0 to 3\n",
      "Data columns (total 4 columns):\n",
      " #   Column     Non-Null Count  Dtype\n",
      "---  ------     --------------  -----\n",
      " 0   Math       4 non-null      int64\n",
      " 1   Physics    4 non-null      int64\n",
      " 2   French     4 non-null      int64\n",
      " 3   Chemistry  4 non-null      int64\n",
      "dtypes: int64(4)\n",
      "memory usage: 260.0 bytes\n"
     ]
    }
   ],
   "source": [
    "\n",
    "data = {\n",
    "    \"Math\": math_series,\n",
    "    \"Physics\": physics_series,\n",
    "    \"French\": french_series,\n",
    "    \"Chemistry\": chemistry_series,\n",
    "}\n",
    "\n",
    "\n",
    "\n",
    "df = pd.DataFrame(data)\n",
    "df.info()"
   ]
  },
  {
   "cell_type": "code",
   "execution_count": 4,
   "id": "df87d9a4",
   "metadata": {},
   "outputs": [
    {
     "data": {
      "text/html": [
       "<div>\n",
       "<style scoped>\n",
       "    .dataframe tbody tr th:only-of-type {\n",
       "        vertical-align: middle;\n",
       "    }\n",
       "\n",
       "    .dataframe tbody tr th {\n",
       "        vertical-align: top;\n",
       "    }\n",
       "\n",
       "    .dataframe thead th {\n",
       "        text-align: right;\n",
       "    }\n",
       "</style>\n",
       "<table border=\"1\" class=\"dataframe\">\n",
       "  <thead>\n",
       "    <tr style=\"text-align: right;\">\n",
       "      <th></th>\n",
       "      <th>Math</th>\n",
       "      <th>Physics</th>\n",
       "      <th>French</th>\n",
       "      <th>Chemistry</th>\n",
       "    </tr>\n",
       "  </thead>\n",
       "  <tbody>\n",
       "    <tr>\n",
       "      <th>0</th>\n",
       "      <td>85</td>\n",
       "      <td>88</td>\n",
       "      <td>90</td>\n",
       "      <td>80</td>\n",
       "    </tr>\n",
       "    <tr>\n",
       "      <th>1</th>\n",
       "      <td>90</td>\n",
       "      <td>76</td>\n",
       "      <td>85</td>\n",
       "      <td>70</td>\n",
       "    </tr>\n",
       "    <tr>\n",
       "      <th>2</th>\n",
       "      <td>78</td>\n",
       "      <td>89</td>\n",
       "      <td>87</td>\n",
       "      <td>75</td>\n",
       "    </tr>\n",
       "    <tr>\n",
       "      <th>3</th>\n",
       "      <td>92</td>\n",
       "      <td>85</td>\n",
       "      <td>88</td>\n",
       "      <td>95</td>\n",
       "    </tr>\n",
       "  </tbody>\n",
       "</table>\n",
       "</div>"
      ],
      "text/plain": [
       "   Math  Physics  French  Chemistry\n",
       "0    85       88      90         80\n",
       "1    90       76      85         70\n",
       "2    78       89      87         75\n",
       "3    92       85      88         95"
      ]
     },
     "execution_count": 4,
     "metadata": {},
     "output_type": "execute_result"
    }
   ],
   "source": [
    "df = pd.DataFrame({\n",
    "    \"Math\": math_series,\n",
    "    \"Physics\": physics_series,\n",
    "    \"French\": french_series,\n",
    "    \"Chemistry\": chemistry_series,\n",
    "})\n",
    "df"
   ]
  },
  {
   "cell_type": "code",
   "execution_count": null,
   "id": "da1dc773",
   "metadata": {},
   "outputs": [],
   "source": []
  }
 ],
 "metadata": {
  "kernelspec": {
   "display_name": ".venv",
   "language": "python",
   "name": "python3"
  },
  "language_info": {
   "codemirror_mode": {
    "name": "ipython",
    "version": 3
   },
   "file_extension": ".py",
   "mimetype": "text/x-python",
   "name": "python",
   "nbconvert_exporter": "python",
   "pygments_lexer": "ipython3",
   "version": "3.13.0"
  }
 },
 "nbformat": 4,
 "nbformat_minor": 5
}
