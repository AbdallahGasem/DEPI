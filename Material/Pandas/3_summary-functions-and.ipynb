{
 "cells": [
  {
   "cell_type": "markdown",
   "id": "e24ecd91",
   "metadata": {
    "papermill": {
     "duration": 0.015491,
     "end_time": "2022-02-14T14:47:17.126788",
     "exception": false,
     "start_time": "2022-02-14T14:47:17.111297",
     "status": "completed"
    },
    "tags": []
   },
   "source": [
    "# Introduction\n",
    "\n",
    "In the last tutorial, we learned how to select relevant data out of a DataFrame or Series. Plucking the right data out of our data representation is critical to getting work done, as we demonstrated in the exercises.\n",
    "\n",
    "However, the data does not always come out of memory in the format we want it in right out of the bat. Sometimes we have to do some more work ourselves to reformat it for the task at hand.  This tutorial will cover different operations we can apply to our data to get the input \"just right\". \n",
    "\n",
    "We'll use the Wine Magazine data for demonstration."
   ]
  },
  {
   "cell_type": "code",
   "execution_count": 1,
   "id": "f8565cd0",
   "metadata": {
    "_kg_hide-input": true,
    "execution": {
     "iopub.execute_input": "2022-02-14T14:47:17.165668Z",
     "iopub.status.busy": "2022-02-14T14:47:17.164754Z",
     "iopub.status.idle": "2022-02-14T14:47:18.852427Z",
     "shell.execute_reply": "2022-02-14T14:47:18.851688Z"
    },
    "jupyter": {
     "outputs_hidden": true
    },
    "papermill": {
     "duration": 1.711365,
     "end_time": "2022-02-14T14:47:18.852597",
     "exception": false,
     "start_time": "2022-02-14T14:47:17.141232",
     "status": "completed"
    },
    "tags": []
   },
   "outputs": [],
   "source": [
    "\n",
    "import pandas as pd\n",
    "pd.set_option('max_rows', 5)\n",
    "import numpy as np\n",
    "reviews = pd.read_csv(r\"C:\\Users\\Nima\\Desktop\\Session 1 - Pandas\\Pandas code and quizzes\\data\\archive\\winemag-data-130k-v2.csv\", index_col=0)"
   ]
  },
  {
   "cell_type": "code",
   "execution_count": 2,
   "id": "738cb08d",
   "metadata": {
    "execution": {
     "iopub.execute_input": "2022-02-14T14:47:18.890775Z",
     "iopub.status.busy": "2022-02-14T14:47:18.889106Z",
     "iopub.status.idle": "2022-02-14T14:47:18.911652Z",
     "shell.execute_reply": "2022-02-14T14:47:18.912161Z"
    },
    "papermill": {
     "duration": 0.045152,
     "end_time": "2022-02-14T14:47:18.912341",
     "exception": false,
     "start_time": "2022-02-14T14:47:18.867189",
     "status": "completed"
    },
    "tags": []
   },
   "outputs": [
    {
     "data": {
      "text/html": [
       "<div>\n",
       "<style scoped>\n",
       "    .dataframe tbody tr th:only-of-type {\n",
       "        vertical-align: middle;\n",
       "    }\n",
       "\n",
       "    .dataframe tbody tr th {\n",
       "        vertical-align: top;\n",
       "    }\n",
       "\n",
       "    .dataframe thead th {\n",
       "        text-align: right;\n",
       "    }\n",
       "</style>\n",
       "<table border=\"1\" class=\"dataframe\">\n",
       "  <thead>\n",
       "    <tr style=\"text-align: right;\">\n",
       "      <th></th>\n",
       "      <th>country</th>\n",
       "      <th>description</th>\n",
       "      <th>designation</th>\n",
       "      <th>points</th>\n",
       "      <th>price</th>\n",
       "      <th>province</th>\n",
       "      <th>region_1</th>\n",
       "      <th>region_2</th>\n",
       "      <th>taster_name</th>\n",
       "      <th>taster_twitter_handle</th>\n",
       "      <th>title</th>\n",
       "      <th>variety</th>\n",
       "      <th>winery</th>\n",
       "    </tr>\n",
       "  </thead>\n",
       "  <tbody>\n",
       "    <tr>\n",
       "      <th>0</th>\n",
       "      <td>Italy</td>\n",
       "      <td>Aromas include tropical fruit, broom, brimston...</td>\n",
       "      <td>Vulkà Bianco</td>\n",
       "      <td>87</td>\n",
       "      <td>NaN</td>\n",
       "      <td>Sicily &amp; Sardinia</td>\n",
       "      <td>Etna</td>\n",
       "      <td>NaN</td>\n",
       "      <td>Kerin O’Keefe</td>\n",
       "      <td>@kerinokeefe</td>\n",
       "      <td>Nicosia 2013 Vulkà Bianco  (Etna)</td>\n",
       "      <td>White Blend</td>\n",
       "      <td>Nicosia</td>\n",
       "    </tr>\n",
       "    <tr>\n",
       "      <th>1</th>\n",
       "      <td>Portugal</td>\n",
       "      <td>This is ripe and fruity, a wine that is smooth...</td>\n",
       "      <td>Avidagos</td>\n",
       "      <td>87</td>\n",
       "      <td>15.0</td>\n",
       "      <td>Douro</td>\n",
       "      <td>NaN</td>\n",
       "      <td>NaN</td>\n",
       "      <td>Roger Voss</td>\n",
       "      <td>@vossroger</td>\n",
       "      <td>Quinta dos Avidagos 2011 Avidagos Red (Douro)</td>\n",
       "      <td>Portuguese Red</td>\n",
       "      <td>Quinta dos Avidagos</td>\n",
       "    </tr>\n",
       "    <tr>\n",
       "      <th>...</th>\n",
       "      <td>...</td>\n",
       "      <td>...</td>\n",
       "      <td>...</td>\n",
       "      <td>...</td>\n",
       "      <td>...</td>\n",
       "      <td>...</td>\n",
       "      <td>...</td>\n",
       "      <td>...</td>\n",
       "      <td>...</td>\n",
       "      <td>...</td>\n",
       "      <td>...</td>\n",
       "      <td>...</td>\n",
       "      <td>...</td>\n",
       "    </tr>\n",
       "    <tr>\n",
       "      <th>129969</th>\n",
       "      <td>France</td>\n",
       "      <td>A dry style of Pinot Gris, this is crisp with ...</td>\n",
       "      <td>NaN</td>\n",
       "      <td>90</td>\n",
       "      <td>32.0</td>\n",
       "      <td>Alsace</td>\n",
       "      <td>Alsace</td>\n",
       "      <td>NaN</td>\n",
       "      <td>Roger Voss</td>\n",
       "      <td>@vossroger</td>\n",
       "      <td>Domaine Marcel Deiss 2012 Pinot Gris (Alsace)</td>\n",
       "      <td>Pinot Gris</td>\n",
       "      <td>Domaine Marcel Deiss</td>\n",
       "    </tr>\n",
       "    <tr>\n",
       "      <th>129970</th>\n",
       "      <td>France</td>\n",
       "      <td>Big, rich and off-dry, this is powered by inte...</td>\n",
       "      <td>Lieu-dit Harth Cuvée Caroline</td>\n",
       "      <td>90</td>\n",
       "      <td>21.0</td>\n",
       "      <td>Alsace</td>\n",
       "      <td>Alsace</td>\n",
       "      <td>NaN</td>\n",
       "      <td>Roger Voss</td>\n",
       "      <td>@vossroger</td>\n",
       "      <td>Domaine Schoffit 2012 Lieu-dit Harth Cuvée Car...</td>\n",
       "      <td>Gewürztraminer</td>\n",
       "      <td>Domaine Schoffit</td>\n",
       "    </tr>\n",
       "  </tbody>\n",
       "</table>\n",
       "<p>129971 rows × 13 columns</p>\n",
       "</div>"
      ],
      "text/plain": [
       "         country                                        description  \\\n",
       "0          Italy  Aromas include tropical fruit, broom, brimston...   \n",
       "1       Portugal  This is ripe and fruity, a wine that is smooth...   \n",
       "...          ...                                                ...   \n",
       "129969    France  A dry style of Pinot Gris, this is crisp with ...   \n",
       "129970    France  Big, rich and off-dry, this is powered by inte...   \n",
       "\n",
       "                          designation  points  price           province  \\\n",
       "0                        Vulkà Bianco      87    NaN  Sicily & Sardinia   \n",
       "1                            Avidagos      87   15.0              Douro   \n",
       "...                               ...     ...    ...                ...   \n",
       "129969                            NaN      90   32.0             Alsace   \n",
       "129970  Lieu-dit Harth Cuvée Caroline      90   21.0             Alsace   \n",
       "\n",
       "       region_1 region_2    taster_name taster_twitter_handle  \\\n",
       "0          Etna      NaN  Kerin O’Keefe          @kerinokeefe   \n",
       "1           NaN      NaN     Roger Voss            @vossroger   \n",
       "...         ...      ...            ...                   ...   \n",
       "129969   Alsace      NaN     Roger Voss            @vossroger   \n",
       "129970   Alsace      NaN     Roger Voss            @vossroger   \n",
       "\n",
       "                                                    title         variety  \\\n",
       "0                       Nicosia 2013 Vulkà Bianco  (Etna)     White Blend   \n",
       "1           Quinta dos Avidagos 2011 Avidagos Red (Douro)  Portuguese Red   \n",
       "...                                                   ...             ...   \n",
       "129969      Domaine Marcel Deiss 2012 Pinot Gris (Alsace)      Pinot Gris   \n",
       "129970  Domaine Schoffit 2012 Lieu-dit Harth Cuvée Car...  Gewürztraminer   \n",
       "\n",
       "                      winery  \n",
       "0                    Nicosia  \n",
       "1        Quinta dos Avidagos  \n",
       "...                      ...  \n",
       "129969  Domaine Marcel Deiss  \n",
       "129970      Domaine Schoffit  \n",
       "\n",
       "[129971 rows x 13 columns]"
      ]
     },
     "execution_count": 2,
     "metadata": {},
     "output_type": "execute_result"
    }
   ],
   "source": [
    "reviews"
   ]
  },
  {
   "cell_type": "markdown",
   "id": "8e3d2e66",
   "metadata": {
    "papermill": {
     "duration": 0.015883,
     "end_time": "2022-02-14T14:47:18.945393",
     "exception": false,
     "start_time": "2022-02-14T14:47:18.929510",
     "status": "completed"
    },
    "tags": []
   },
   "source": [
    "# Summary functions\n",
    "\n",
    "Pandas provides many simple \"summary functions\" (not an official name) which restructure the data in some useful way. For example, consider the `describe()` method:"
   ]
  },
  {
   "cell_type": "code",
   "execution_count": 3,
   "id": "befa8542",
   "metadata": {
    "execution": {
     "iopub.execute_input": "2022-02-14T14:47:18.983583Z",
     "iopub.status.busy": "2022-02-14T14:47:18.982939Z",
     "iopub.status.idle": "2022-02-14T14:47:18.995151Z",
     "shell.execute_reply": "2022-02-14T14:47:18.995659Z"
    },
    "papermill": {
     "duration": 0.034811,
     "end_time": "2022-02-14T14:47:18.995841",
     "exception": false,
     "start_time": "2022-02-14T14:47:18.961030",
     "status": "completed"
    },
    "tags": []
   },
   "outputs": [
    {
     "data": {
      "text/plain": [
       "count    129971.000000\n",
       "mean         88.447138\n",
       "             ...      \n",
       "75%          91.000000\n",
       "max         100.000000\n",
       "Name: points, Length: 8, dtype: float64"
      ]
     },
     "execution_count": 3,
     "metadata": {},
     "output_type": "execute_result"
    }
   ],
   "source": [
    "reviews.points.describe()"
   ]
  },
  {
   "cell_type": "markdown",
   "id": "66934e1d",
   "metadata": {
    "papermill": {
     "duration": 0.016318,
     "end_time": "2022-02-14T14:47:19.029391",
     "exception": false,
     "start_time": "2022-02-14T14:47:19.013073",
     "status": "completed"
    },
    "tags": []
   },
   "source": [
    "This method generates a high-level summary of the attributes of the given column. It is type-aware, meaning that its output changes based on the data type of the input. The output above only makes sense for numerical data; for string data here's what we get:"
   ]
  },
  {
   "cell_type": "code",
   "execution_count": 4,
   "id": "ab65f623",
   "metadata": {
    "execution": {
     "iopub.execute_input": "2022-02-14T14:47:19.076060Z",
     "iopub.status.busy": "2022-02-14T14:47:19.067058Z",
     "iopub.status.idle": "2022-02-14T14:47:19.089702Z",
     "shell.execute_reply": "2022-02-14T14:47:19.090214Z"
    },
    "papermill": {
     "duration": 0.043808,
     "end_time": "2022-02-14T14:47:19.090392",
     "exception": false,
     "start_time": "2022-02-14T14:47:19.046584",
     "status": "completed"
    },
    "tags": []
   },
   "outputs": [
    {
     "data": {
      "text/plain": [
       "count         103727\n",
       "unique            19\n",
       "top       Roger Voss\n",
       "freq           25514\n",
       "Name: taster_name, dtype: object"
      ]
     },
     "execution_count": 4,
     "metadata": {},
     "output_type": "execute_result"
    }
   ],
   "source": [
    "reviews.taster_name.describe()"
   ]
  },
  {
   "cell_type": "markdown",
   "id": "00e5c72d",
   "metadata": {
    "papermill": {
     "duration": 0.015583,
     "end_time": "2022-02-14T14:47:19.122469",
     "exception": false,
     "start_time": "2022-02-14T14:47:19.106886",
     "status": "completed"
    },
    "tags": []
   },
   "source": [
    "If you want to get some particular simple summary statistic about a column in a DataFrame or a Series, there is usually a helpful pandas function that makes it happen. \n",
    "\n",
    "For example, to see the mean of the points allotted (e.g. how well an averagely rated wine does), we can use the `mean()` function:"
   ]
  },
  {
   "cell_type": "code",
   "execution_count": 5,
   "id": "2441653c",
   "metadata": {
    "execution": {
     "iopub.execute_input": "2022-02-14T14:47:19.159183Z",
     "iopub.status.busy": "2022-02-14T14:47:19.158409Z",
     "iopub.status.idle": "2022-02-14T14:47:19.161482Z",
     "shell.execute_reply": "2022-02-14T14:47:19.161935Z"
    },
    "papermill": {
     "duration": 0.024317,
     "end_time": "2022-02-14T14:47:19.162111",
     "exception": false,
     "start_time": "2022-02-14T14:47:19.137794",
     "status": "completed"
    },
    "tags": []
   },
   "outputs": [
    {
     "data": {
      "text/plain": [
       "88.44713820775404"
      ]
     },
     "execution_count": 5,
     "metadata": {},
     "output_type": "execute_result"
    }
   ],
   "source": [
    "reviews.points.mean()"
   ]
  },
  {
   "cell_type": "markdown",
   "id": "c11b8383",
   "metadata": {
    "papermill": {
     "duration": 0.015815,
     "end_time": "2022-02-14T14:47:19.194310",
     "exception": false,
     "start_time": "2022-02-14T14:47:19.178495",
     "status": "completed"
    },
    "tags": []
   },
   "source": [
    "To see a list of unique values we can use the `unique()` function:"
   ]
  },
  {
   "cell_type": "code",
   "execution_count": 7,
   "id": "34fda53d",
   "metadata": {
    "execution": {
     "iopub.execute_input": "2022-02-14T14:47:19.242184Z",
     "iopub.status.busy": "2022-02-14T14:47:19.241183Z",
     "iopub.status.idle": "2022-02-14T14:47:19.244509Z",
     "shell.execute_reply": "2022-02-14T14:47:19.245047Z"
    },
    "papermill": {
     "duration": 0.035176,
     "end_time": "2022-02-14T14:47:19.245279",
     "exception": false,
     "start_time": "2022-02-14T14:47:19.210103",
     "status": "completed"
    },
    "tags": []
   },
   "outputs": [
    {
     "data": {
      "text/plain": [
       "array(['Kerin O’Keefe', 'Roger Voss', 'Paul Gregutt',\n",
       "       'Alexander Peartree', 'Michael Schachner', 'Anna Lee C. Iijima',\n",
       "       'Virginie Boone', 'Matt Kettmann', nan, 'Sean P. Sullivan',\n",
       "       'Jim Gordon', 'Joe Czerwinski', 'Anne Krebiehl\\xa0MW',\n",
       "       'Lauren Buzzeo', 'Mike DeSimone', 'Jeff Jenssen',\n",
       "       'Susan Kostrzewa', 'Carrie Dykes', 'Fiona Adams',\n",
       "       'Christina Pickard'], dtype=object)"
      ]
     },
     "execution_count": 7,
     "metadata": {},
     "output_type": "execute_result"
    }
   ],
   "source": [
    "reviews.taster_name.unique()"
   ]
  },
  {
   "cell_type": "markdown",
   "id": "7db91edc",
   "metadata": {
    "papermill": {
     "duration": 0.016857,
     "end_time": "2022-02-14T14:47:19.279424",
     "exception": false,
     "start_time": "2022-02-14T14:47:19.262567",
     "status": "completed"
    },
    "tags": []
   },
   "source": [
    "To see a list of unique values _and_ how often they occur in the dataset, we can use the `value_counts()` method:"
   ]
  },
  {
   "cell_type": "code",
   "execution_count": 8,
   "id": "2a43cac4",
   "metadata": {
    "execution": {
     "iopub.execute_input": "2022-02-14T14:47:19.318014Z",
     "iopub.status.busy": "2022-02-14T14:47:19.317127Z",
     "iopub.status.idle": "2022-02-14T14:47:19.332048Z",
     "shell.execute_reply": "2022-02-14T14:47:19.332460Z"
    },
    "papermill": {
     "duration": 0.035377,
     "end_time": "2022-02-14T14:47:19.332624",
     "exception": false,
     "start_time": "2022-02-14T14:47:19.297247",
     "status": "completed"
    },
    "tags": []
   },
   "outputs": [
    {
     "data": {
      "text/plain": [
       "Roger Voss           25514\n",
       "Michael Schachner    15134\n",
       "                     ...  \n",
       "Fiona Adams             27\n",
       "Christina Pickard        6\n",
       "Name: taster_name, Length: 19, dtype: int64"
      ]
     },
     "execution_count": 8,
     "metadata": {},
     "output_type": "execute_result"
    }
   ],
   "source": [
    "reviews.taster_name.value_counts()"
   ]
  },
  {
   "cell_type": "markdown",
   "id": "c834c22c",
   "metadata": {
    "papermill": {
     "duration": 0.018017,
     "end_time": "2022-02-14T14:47:31.835355",
     "exception": false,
     "start_time": "2022-02-14T14:47:31.817338",
     "status": "completed"
    },
    "tags": []
   },
   "source": [
    "Pandas provides many common mapping operations as built-ins. For example, here's a faster way of remeaning our points column:"
   ]
  },
  {
   "cell_type": "code",
   "execution_count": 11,
   "id": "b4764c4f",
   "metadata": {
    "execution": {
     "iopub.execute_input": "2022-02-14T14:47:31.965237Z",
     "iopub.status.busy": "2022-02-14T14:47:31.964423Z",
     "iopub.status.idle": "2022-02-14T14:47:32.009164Z",
     "shell.execute_reply": "2022-02-14T14:47:32.009681Z"
    },
    "papermill": {
     "duration": 0.069146,
     "end_time": "2022-02-14T14:47:32.009852",
     "exception": false,
     "start_time": "2022-02-14T14:47:31.940706",
     "status": "completed"
    },
    "tags": []
   },
   "outputs": [
    {
     "data": {
      "text/plain": [
       "0            Italy - Etna\n",
       "1                     NaN\n",
       "               ...       \n",
       "129969    France - Alsace\n",
       "129970    France - Alsace\n",
       "Length: 129971, dtype: object"
      ]
     },
     "execution_count": 11,
     "metadata": {},
     "output_type": "execute_result"
    }
   ],
   "source": [
    "reviews.country + \" - \" + reviews.region_1\n"
   ]
  },
  {
   "cell_type": "code",
   "execution_count": 12,
   "id": "8c6c2945-ad57-4d56-b58f-83d4d9c509ba",
   "metadata": {},
   "outputs": [
    {
     "name": "stdout",
     "output_type": "stream",
     "text": [
      "ali mohamed\n"
     ]
    }
   ],
   "source": [
    "first_name = \"ali\"\n",
    "last_n = \"mohamed\"\n",
    "print(first_name+\" \" +last_n)"
   ]
  },
  {
   "cell_type": "code",
   "execution_count": null,
   "id": "50eb0c1d",
   "metadata": {},
   "outputs": [],
   "source": []
  }
 ],
 "metadata": {
  "kernelspec": {
   "display_name": "Python 3",
   "language": "python",
   "name": "python3"
  },
  "language_info": {
   "codemirror_mode": {
    "name": "ipython",
    "version": 3
   },
   "file_extension": ".py",
   "mimetype": "text/x-python",
   "name": "python",
   "nbconvert_exporter": "python",
   "pygments_lexer": "ipython3",
   "version": "3.8.8"
  },
  "papermill": {
   "default_parameters": {},
   "duration": 24.47704,
   "end_time": "2022-02-14T14:47:32.716849",
   "environment_variables": {},
   "exception": null,
   "input_path": "__notebook__.ipynb",
   "output_path": "__notebook__.ipynb",
   "parameters": {},
   "start_time": "2022-02-14T14:47:08.239809",
   "version": "2.3.3"
  }
 },
 "nbformat": 4,
 "nbformat_minor": 5
}
