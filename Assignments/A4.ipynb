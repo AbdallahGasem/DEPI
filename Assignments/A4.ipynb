{
 "cells": [
  {
   "cell_type": "markdown",
   "id": "9f67348f-07e1-4f6f-8796-0c49a1fd6c48",
   "metadata": {},
   "source": [
    "## Wuzzuf Data Science Jobs Scrapping\n",
    "- You are required to scrap all data science jobs from wuzzuf and save the results in csv file\n",
    "- the required fields are\n",
    "<ul>\n",
    "    <li>job title</li>\n",
    "    <li>job link</li>\n",
    "    <li>Location</li>\n",
    "    <li>company_name</li>\n",
    "</ul>"
   ]
  },
  {
   "cell_type": "code",
   "execution_count": null,
   "id": "679a31c9-fe93-4f5b-a4a5-166fae0f12ed",
   "metadata": {},
   "outputs": [],
   "source": []
  }
 ],
 "metadata": {
  "kernelspec": {
   "display_name": "Python 3 (ipykernel)",
   "language": "python",
   "name": "python3"
  },
  "language_info": {
   "codemirror_mode": {
    "name": "ipython",
    "version": 3
   },
   "file_extension": ".py",
   "mimetype": "text/x-python",
   "name": "python",
   "nbconvert_exporter": "python",
   "pygments_lexer": "ipython3",
   "version": "3.12.5"
  }
 },
 "nbformat": 4,
 "nbformat_minor": 5
}
