{
 "cells": [
  {
   "cell_type": "markdown",
   "metadata": {},
   "source": [
    "Question: How can I select customers who live in New York, are older than 25, \n",
    "           and have purchased more than 300,\n",
    "ordering the results by purchase amount in descending order?\"\"\"\n",
    " Query 2: Update\n",
    " Question: How can I update the purchase amount of the customer with ID 5 to 700?\n",
    " Query 3: Delete\n",
    " Question: How can I delete customers who are younger than 25?"
   ]
  },
  {
   "cell_type": "code",
   "execution_count": 1,
   "metadata": {},
   "outputs": [],
   "source": [
    "# Importing the SQLite3 library\n",
    "import sqlite3\n",
    "# Connecting to the SQLite database (or creating it if it doesn't exist)\n",
    "conn = sqlite3.connect(\"example.db\")\n",
    "cursor = conn.cursor()\n",
    "# Creating the customer table (if it doesn't already exist)\n",
    "cursor.execute(\"\"\"\n",
    "CREATE TABLE IF NOT EXISTS customer (\n",
    "    id INTEGER PRIMARY KEY,\n",
    "    name TEXT,\n",
    "    age INTEGER,\n",
    "    city TEXT,\n",
    "    purchase_amount REAL\n",
    ")\n",
    "\"\"\")\n",
    "conn.commit()\n",
    "# Clear the table to avoid duplicate data\n",
    "cursor.execute(\"DELETE FROM customer\")\n",
    "conn.commit()\n",
    "# Inserting sample data\n",
    "cursor.executemany(\"\"\"\n",
    "INSERT INTO customer (id, name, age, city, purchase_amount) \n",
    "VALUES (?, ?, ?, ?, ?)\n",
    "\"\"\", [\n",
    "    (1, \"Alice\", 30, \"New York\", 500.0),\n",
    "    (2, \"Bob\", 25, \"Los Angeles\", 300.0),\n",
    "    (3, \"Charlie\", 35, \"New York\", 400.0),\n",
    "    (4, \"David\", 28, \"Chicago\", 250.0),\n",
    "    (5, \"Eve\", 22, \"Los Angeles\", 600.0)\n",
    "])\n",
    "conn.commit()"
   ]
  },
  {
   "cell_type": "code",
   "execution_count": 3,
   "metadata": {},
   "outputs": [
    {
     "name": "stdout",
     "output_type": "stream",
     "text": [
      "[(1, 'Alice', 30, 'New York', 500.0), (3, 'Charlie', 35, 'New York', 400.0)]\n",
      "[(1, 'Alice', 30, 'New York', 500.0), (2, 'Bob', 25, 'Los Angeles', 300.0), (3, 'Charlie', 35, 'New York', 400.0), (4, 'David', 28, 'Chicago', 250.0), (5, 'Eve', 22, 'Los Angeles', 700.0)]\n",
      "[(1, 'Alice', 30, 'New York', 500.0), (2, 'Bob', 25, 'Los Angeles', 300.0), (3, 'Charlie', 35, 'New York', 400.0), (4, 'David', 28, 'Chicago', 250.0)]\n"
     ]
    }
   ],
   "source": [
    "# Question: How can I select customers who live in New York, are older than 25, \n",
    "#            and have purchased more than 300,\n",
    "# ordering the results by purchase amount in descending order?\"\"\"\n",
    "cursor.execute('''\n",
    "SELECT * FROM customer WHERE \n",
    "city = 'New York' AND age > 25 AND purchase_amount > 300 ORDER BY purchase_amount DESC\n",
    "''')\n",
    "\n",
    "print(cursor.fetchall())\n",
    "\n",
    "# Query 2: Update\n",
    "#  Question: How can I update the purchase amount of the customer with ID 5 to 700?\n",
    "cursor.execute('''\n",
    "UPDATE customer SET purchase_amount = 700 WHERE id = 5\n",
    "''')\n",
    "\n",
    "cursor.execute(\"SELECT * FROM customer\")\n",
    "print(cursor.fetchall())\n",
    "\n",
    "\n",
    "#  Query 3: Delete\n",
    "#  Question: How can I delete customers who are younger than 25?\n",
    "cursor.execute('''\n",
    "DELETE FROM customer WHERE age < 25 \n",
    "''')\n",
    "\n",
    "cursor.execute(\"SELECT * FROM customer\")\n",
    "print(cursor.fetchall())\n",
    "\n"
   ]
  },
  {
   "cell_type": "code",
   "execution_count": null,
   "metadata": {},
   "outputs": [],
   "source": [
    "# Importing the SQLite3 library\n",
    "import sqlite3\n",
    "# Connecting to the SQLite database (or creating it if it doesn't exist)\n",
    "conn = sqlite3.connect(\"example.db\")\n",
    "cursor = conn.cursor()\n",
    "\n",
    "# q1\n",
    "cursor.execute(\"SELECT * FROM Employee WHERE Salary > 4000\")\n",
    "print(cursor.fetchall())\n",
    "\n",
    "# q2 : if TotalAmt is an attribute in the table orders\n",
    "cursor.execute(\"SELECT * FROM Orders WHERE TotalAmt > 3000 \")\n",
    "print(cursor.fetchall())\n",
    "\n",
    "cursor.execute(\"SELECT * FROM Orders WHERE TotalAmt > 3000 \")\n",
    "print(cursor.fetchall())"
   ]
  },
  {
   "cell_type": "code",
   "execution_count": null,
   "metadata": {},
   "outputs": [],
   "source": []
  }
 ],
 "metadata": {
  "kernelspec": {
   "display_name": "DEPI_DS",
   "language": "python",
   "name": "python3"
  },
  "language_info": {
   "codemirror_mode": {
    "name": "ipython",
    "version": 3
   },
   "file_extension": ".py",
   "mimetype": "text/x-python",
   "name": "python",
   "nbconvert_exporter": "python",
   "pygments_lexer": "ipython3",
   "version": "3.13.0"
  }
 },
 "nbformat": 4,
 "nbformat_minor": 2
}
