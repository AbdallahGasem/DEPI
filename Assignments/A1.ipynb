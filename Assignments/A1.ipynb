{
 "cells": [
  {
   "cell_type": "markdown",
   "metadata": {
    "vscode": {
     "languageId": "plaintext"
    }
   },
   "source": [
    "<p style=\"text-align: center;\">بسم الله الرحمن الرحيم</p>          \n",
    "\n",
    "##### **program:** DEPI DS Assignment-1\n",
    "##### **Author:** Abdallah Gasem Elsayed\n",
    "##### **ID:** 21057560\n",
    "##### **Date:** 14-11-2024\n",
    "##### **version:** 1.0\n",
    "##### ___________________________________________________________________________________________________________________________________________"
   ]
  },
  {
   "cell_type": "markdown",
   "metadata": {},
   "source": [
    "\n",
    "\n",
    "# Python Task"
   ]
  },
  {
   "cell_type": "markdown",
   "metadata": {},
   "source": [
    "### 1. Question: Merge and Sort Two Lists\n",
    "\n",
    "**Description:** Given two lists of integers, merge them into one list and sort the result in ascending order. Do not use Python's built-in sort() function or other sorting functions.\n",
    "\n",
    "\n"
   ]
  },
  {
   "cell_type": "code",
   "execution_count": null,
   "metadata": {},
   "outputs": [],
   "source": [
    "'''\n",
    "# Example Input:\n",
    "list1 = [3, 1, 4]\n",
    "list2 = [2, 5, 0]\n",
    "\n",
    "# Example Output:\n",
    "[0, 1, 2, 3, 4, 5]'''"
   ]
  },
  {
   "cell_type": "code",
   "execution_count": 22,
   "metadata": {},
   "outputs": [
    {
     "name": "stdout",
     "output_type": "stream",
     "text": [
      "[0, 1, 2, 3, 4, 5]\n",
      "------------------End of Program--------------------\n"
     ]
    }
   ],
   "source": [
    "# considering that we are treating the list as an array (no elements of different data Types)\n",
    "list1 = [3, 1, 4]\n",
    "list2 = [2, 5, 0]\n",
    "list1.extend(list2)     #merged but not sorted we can implement a sorting algorithm or find another fn! \n",
    "\n",
    "#bubble sort implementaion o(n^2) adding swapbit to reach o(n) in best case(sorted)\n",
    "n = 6\n",
    "swapbit = False\n",
    "for j in range(0,n):\n",
    "    for i in range(0,6):\n",
    "        if i<=4 and list1[i] > list1[i+1]: \n",
    "            #swapping\n",
    "            temp = list1[i]\n",
    "            list1[i] = list1[i+1]\n",
    "            list1[i+1] = temp\n",
    "            swapbit = True\n",
    "    n = n-1\n",
    "    if swapbit == False : break\n",
    "print(list1)\n",
    "print(\"------------------End of Program--------------------\")"
   ]
  },
  {
   "cell_type": "markdown",
   "metadata": {},
   "source": [
    "### 2. Question: Repeat Characters in a String\n",
    "\n",
    "**Description:** Given a string, create a new string by repeating each character in the original string n times. \n",
    "\n",
    "Assume n is given and always a positive integer. \n",
    "\n",
    "Do not use if statements in your solution.\n"
   ]
  },
  {
   "cell_type": "code",
   "execution_count": null,
   "metadata": {},
   "outputs": [],
   "source": [
    "'''\n",
    "# Example Input:\n",
    "s = \"abc\"\n",
    "n = 3\n",
    "\n",
    "# Example Output:\n",
    "\"aaabbbccc\"\n",
    "\n",
    "'''"
   ]
  },
  {
   "cell_type": "code",
   "execution_count": null,
   "metadata": {},
   "outputs": [
    {
     "name": "stdout",
     "output_type": "stream",
     "text": [
      "Here is the repeated String: aaabbbccc\n",
      "------------------End of Program--------------------\n"
     ]
    }
   ],
   "source": [
    "s = input(\"enter the string: \")\n",
    "n = int(input(\"enter the number of repetitions for each char in the entered String: \"))\n",
    "\n",
    "repeatedString = \"\"\n",
    "\n",
    "for i in range(0,len(s)):\n",
    "    repeatedString += n*s[i]    \n",
    "\n",
    "print(\"Here is the repeated String: {}\".format(repeatedString))\n",
    "print(\"------------------End of Program--------------------\")\n"
   ]
  }
 ],
 "metadata": {
  "kernelspec": {
   "display_name": "DEPI_DS",
   "language": "python",
   "name": "python3"
  },
  "language_info": {
   "codemirror_mode": {
    "name": "ipython",
    "version": 3
   },
   "file_extension": ".py",
   "mimetype": "text/x-python",
   "name": "python",
   "nbconvert_exporter": "python",
   "pygments_lexer": "ipython3",
   "version": "3.13.0"
  }
 },
 "nbformat": 4,
 "nbformat_minor": 4
}
